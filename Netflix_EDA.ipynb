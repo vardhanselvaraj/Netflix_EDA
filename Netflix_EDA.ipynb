{
  "nbformat": 4,
  "nbformat_minor": 0,
  "metadata": {
    "colab": {
      "name": "Netflix_EDA.ipynb",
      "provenance": [],
      "collapsed_sections": [],
      "mount_file_id": "1UclLRyvEq8ZrfNUmirYwk7eGvQ7Kz_Qj",
      "authorship_tag": "ABX9TyM24RxRPnKtND51I/OGoP3W",
      "include_colab_link": true
    },
    "kernelspec": {
      "name": "python3",
      "display_name": "Python 3"
    },
    "language_info": {
      "name": "python"
    }
  },
  "cells": [
    {
      "cell_type": "markdown",
      "metadata": {
        "id": "view-in-github",
        "colab_type": "text"
      },
      "source": [
        "<a href=\"https://colab.research.google.com/github/vardhanselvaraj/Netflix_EDA/blob/main/Netflix_EDA.ipynb\" target=\"_parent\"><img src=\"https://colab.research.google.com/assets/colab-badge.svg\" alt=\"Open In Colab\"/></a>"
      ]
    },
    {
      "cell_type": "code",
      "metadata": {
        "id": "91OVLk7U6iDK"
      },
      "source": [
        "import pandas as pd\n",
        "import numpy as np\n",
        "import matplotlib.pyplot as plt\n",
        "import seaborn as sns\n",
        "import plotly.express as px"
      ],
      "execution_count": 1,
      "outputs": []
    },
    {
      "cell_type": "code",
      "metadata": {
        "colab": {
          "base_uri": "https://localhost:8080/",
          "height": 359
        },
        "id": "jw9f6PvQ7B9V",
        "outputId": "a4490d5c-c0af-483a-adf8-2232419362c8"
      },
      "source": [
        "data = pd.read_csv('/content/drive/MyDrive/data/netflix_titles.csv')\n",
        "data.head(10)"
      ],
      "execution_count": 2,
      "outputs": [
        {
          "output_type": "execute_result",
          "data": {
            "text/html": [
              "<div>\n",
              "<style scoped>\n",
              "    .dataframe tbody tr th:only-of-type {\n",
              "        vertical-align: middle;\n",
              "    }\n",
              "\n",
              "    .dataframe tbody tr th {\n",
              "        vertical-align: top;\n",
              "    }\n",
              "\n",
              "    .dataframe thead th {\n",
              "        text-align: right;\n",
              "    }\n",
              "</style>\n",
              "<table border=\"1\" class=\"dataframe\">\n",
              "  <thead>\n",
              "    <tr style=\"text-align: right;\">\n",
              "      <th></th>\n",
              "      <th>show_id</th>\n",
              "      <th>type</th>\n",
              "      <th>title</th>\n",
              "      <th>director</th>\n",
              "      <th>cast</th>\n",
              "      <th>country</th>\n",
              "      <th>date_added</th>\n",
              "      <th>release_year</th>\n",
              "      <th>rating</th>\n",
              "      <th>duration</th>\n",
              "      <th>listed_in</th>\n",
              "      <th>description</th>\n",
              "    </tr>\n",
              "  </thead>\n",
              "  <tbody>\n",
              "    <tr>\n",
              "      <th>0</th>\n",
              "      <td>s1</td>\n",
              "      <td>TV Show</td>\n",
              "      <td>3%</td>\n",
              "      <td>NaN</td>\n",
              "      <td>João Miguel, Bianca Comparato, Michel Gomes, R...</td>\n",
              "      <td>Brazil</td>\n",
              "      <td>August 14, 2020</td>\n",
              "      <td>2020</td>\n",
              "      <td>TV-MA</td>\n",
              "      <td>4 Seasons</td>\n",
              "      <td>International TV Shows, TV Dramas, TV Sci-Fi &amp;...</td>\n",
              "      <td>In a future where the elite inhabit an island ...</td>\n",
              "    </tr>\n",
              "    <tr>\n",
              "      <th>1</th>\n",
              "      <td>s2</td>\n",
              "      <td>Movie</td>\n",
              "      <td>7:19</td>\n",
              "      <td>Jorge Michel Grau</td>\n",
              "      <td>Demián Bichir, Héctor Bonilla, Oscar Serrano, ...</td>\n",
              "      <td>Mexico</td>\n",
              "      <td>December 23, 2016</td>\n",
              "      <td>2016</td>\n",
              "      <td>TV-MA</td>\n",
              "      <td>93 min</td>\n",
              "      <td>Dramas, International Movies</td>\n",
              "      <td>After a devastating earthquake hits Mexico Cit...</td>\n",
              "    </tr>\n",
              "    <tr>\n",
              "      <th>2</th>\n",
              "      <td>s3</td>\n",
              "      <td>Movie</td>\n",
              "      <td>23:59</td>\n",
              "      <td>Gilbert Chan</td>\n",
              "      <td>Tedd Chan, Stella Chung, Henley Hii, Lawrence ...</td>\n",
              "      <td>Singapore</td>\n",
              "      <td>December 20, 2018</td>\n",
              "      <td>2011</td>\n",
              "      <td>R</td>\n",
              "      <td>78 min</td>\n",
              "      <td>Horror Movies, International Movies</td>\n",
              "      <td>When an army recruit is found dead, his fellow...</td>\n",
              "    </tr>\n",
              "    <tr>\n",
              "      <th>3</th>\n",
              "      <td>s4</td>\n",
              "      <td>Movie</td>\n",
              "      <td>9</td>\n",
              "      <td>Shane Acker</td>\n",
              "      <td>Elijah Wood, John C. Reilly, Jennifer Connelly...</td>\n",
              "      <td>United States</td>\n",
              "      <td>November 16, 2017</td>\n",
              "      <td>2009</td>\n",
              "      <td>PG-13</td>\n",
              "      <td>80 min</td>\n",
              "      <td>Action &amp; Adventure, Independent Movies, Sci-Fi...</td>\n",
              "      <td>In a postapocalyptic world, rag-doll robots hi...</td>\n",
              "    </tr>\n",
              "    <tr>\n",
              "      <th>4</th>\n",
              "      <td>s5</td>\n",
              "      <td>Movie</td>\n",
              "      <td>21</td>\n",
              "      <td>Robert Luketic</td>\n",
              "      <td>Jim Sturgess, Kevin Spacey, Kate Bosworth, Aar...</td>\n",
              "      <td>United States</td>\n",
              "      <td>January 1, 2020</td>\n",
              "      <td>2008</td>\n",
              "      <td>PG-13</td>\n",
              "      <td>123 min</td>\n",
              "      <td>Dramas</td>\n",
              "      <td>A brilliant group of students become card-coun...</td>\n",
              "    </tr>\n",
              "    <tr>\n",
              "      <th>5</th>\n",
              "      <td>s6</td>\n",
              "      <td>TV Show</td>\n",
              "      <td>46</td>\n",
              "      <td>Serdar Akar</td>\n",
              "      <td>Erdal Beşikçioğlu, Yasemin Allen, Melis Birkan...</td>\n",
              "      <td>Turkey</td>\n",
              "      <td>July 1, 2017</td>\n",
              "      <td>2016</td>\n",
              "      <td>TV-MA</td>\n",
              "      <td>1 Season</td>\n",
              "      <td>International TV Shows, TV Dramas, TV Mysteries</td>\n",
              "      <td>A genetics professor experiments with a treatm...</td>\n",
              "    </tr>\n",
              "    <tr>\n",
              "      <th>6</th>\n",
              "      <td>s7</td>\n",
              "      <td>Movie</td>\n",
              "      <td>122</td>\n",
              "      <td>Yasir Al Yasiri</td>\n",
              "      <td>Amina Khalil, Ahmed Dawood, Tarek Lotfy, Ahmed...</td>\n",
              "      <td>Egypt</td>\n",
              "      <td>June 1, 2020</td>\n",
              "      <td>2019</td>\n",
              "      <td>TV-MA</td>\n",
              "      <td>95 min</td>\n",
              "      <td>Horror Movies, International Movies</td>\n",
              "      <td>After an awful accident, a couple admitted to ...</td>\n",
              "    </tr>\n",
              "    <tr>\n",
              "      <th>7</th>\n",
              "      <td>s8</td>\n",
              "      <td>Movie</td>\n",
              "      <td>187</td>\n",
              "      <td>Kevin Reynolds</td>\n",
              "      <td>Samuel L. Jackson, John Heard, Kelly Rowan, Cl...</td>\n",
              "      <td>United States</td>\n",
              "      <td>November 1, 2019</td>\n",
              "      <td>1997</td>\n",
              "      <td>R</td>\n",
              "      <td>119 min</td>\n",
              "      <td>Dramas</td>\n",
              "      <td>After one of his high school students attacks ...</td>\n",
              "    </tr>\n",
              "    <tr>\n",
              "      <th>8</th>\n",
              "      <td>s9</td>\n",
              "      <td>Movie</td>\n",
              "      <td>706</td>\n",
              "      <td>Shravan Kumar</td>\n",
              "      <td>Divya Dutta, Atul Kulkarni, Mohan Agashe, Anup...</td>\n",
              "      <td>India</td>\n",
              "      <td>April 1, 2019</td>\n",
              "      <td>2019</td>\n",
              "      <td>TV-14</td>\n",
              "      <td>118 min</td>\n",
              "      <td>Horror Movies, International Movies</td>\n",
              "      <td>When a doctor goes missing, his psychiatrist w...</td>\n",
              "    </tr>\n",
              "    <tr>\n",
              "      <th>9</th>\n",
              "      <td>s10</td>\n",
              "      <td>Movie</td>\n",
              "      <td>1920</td>\n",
              "      <td>Vikram Bhatt</td>\n",
              "      <td>Rajneesh Duggal, Adah Sharma, Indraneil Sengup...</td>\n",
              "      <td>India</td>\n",
              "      <td>December 15, 2017</td>\n",
              "      <td>2008</td>\n",
              "      <td>TV-MA</td>\n",
              "      <td>143 min</td>\n",
              "      <td>Horror Movies, International Movies, Thrillers</td>\n",
              "      <td>An architect and his wife move into a castle t...</td>\n",
              "    </tr>\n",
              "  </tbody>\n",
              "</table>\n",
              "</div>"
            ],
            "text/plain": [
              "  show_id  ...                                        description\n",
              "0      s1  ...  In a future where the elite inhabit an island ...\n",
              "1      s2  ...  After a devastating earthquake hits Mexico Cit...\n",
              "2      s3  ...  When an army recruit is found dead, his fellow...\n",
              "3      s4  ...  In a postapocalyptic world, rag-doll robots hi...\n",
              "4      s5  ...  A brilliant group of students become card-coun...\n",
              "5      s6  ...  A genetics professor experiments with a treatm...\n",
              "6      s7  ...  After an awful accident, a couple admitted to ...\n",
              "7      s8  ...  After one of his high school students attacks ...\n",
              "8      s9  ...  When a doctor goes missing, his psychiatrist w...\n",
              "9     s10  ...  An architect and his wife move into a castle t...\n",
              "\n",
              "[10 rows x 12 columns]"
            ]
          },
          "metadata": {
            "tags": []
          },
          "execution_count": 2
        }
      ]
    },
    {
      "cell_type": "code",
      "metadata": {
        "colab": {
          "base_uri": "https://localhost:8080/"
        },
        "id": "IOIufSoT7pCS",
        "outputId": "9f652da0-7444-4eeb-b505-631e951ff958"
      },
      "source": [
        "data.info()"
      ],
      "execution_count": 3,
      "outputs": [
        {
          "output_type": "stream",
          "text": [
            "<class 'pandas.core.frame.DataFrame'>\n",
            "RangeIndex: 7787 entries, 0 to 7786\n",
            "Data columns (total 12 columns):\n",
            " #   Column        Non-Null Count  Dtype \n",
            "---  ------        --------------  ----- \n",
            " 0   show_id       7787 non-null   object\n",
            " 1   type          7787 non-null   object\n",
            " 2   title         7787 non-null   object\n",
            " 3   director      5398 non-null   object\n",
            " 4   cast          7069 non-null   object\n",
            " 5   country       7280 non-null   object\n",
            " 6   date_added    7777 non-null   object\n",
            " 7   release_year  7787 non-null   int64 \n",
            " 8   rating        7780 non-null   object\n",
            " 9   duration      7787 non-null   object\n",
            " 10  listed_in     7787 non-null   object\n",
            " 11  description   7787 non-null   object\n",
            "dtypes: int64(1), object(11)\n",
            "memory usage: 730.2+ KB\n"
          ],
          "name": "stdout"
        }
      ]
    },
    {
      "cell_type": "code",
      "metadata": {
        "colab": {
          "base_uri": "https://localhost:8080/"
        },
        "id": "tkGWzSyY7qUM",
        "outputId": "45801970-f4f4-4067-cb66-a95ae695fc10"
      },
      "source": [
        "data.isnull().sum()"
      ],
      "execution_count": 4,
      "outputs": [
        {
          "output_type": "execute_result",
          "data": {
            "text/plain": [
              "show_id            0\n",
              "type               0\n",
              "title              0\n",
              "director        2389\n",
              "cast             718\n",
              "country          507\n",
              "date_added        10\n",
              "release_year       0\n",
              "rating             7\n",
              "duration           0\n",
              "listed_in          0\n",
              "description        0\n",
              "dtype: int64"
            ]
          },
          "metadata": {
            "tags": []
          },
          "execution_count": 4
        }
      ]
    },
    {
      "cell_type": "code",
      "metadata": {
        "colab": {
          "base_uri": "https://localhost:8080/"
        },
        "id": "rhKtPzmQ7tGN",
        "outputId": "d0d4eace-d600-44f5-972b-f12580ad092a"
      },
      "source": [
        "data.shape"
      ],
      "execution_count": 5,
      "outputs": [
        {
          "output_type": "execute_result",
          "data": {
            "text/plain": [
              "(7787, 12)"
            ]
          },
          "metadata": {
            "tags": []
          },
          "execution_count": 5
        }
      ]
    },
    {
      "cell_type": "code",
      "metadata": {
        "id": "7yES8PcUhcrM"
      },
      "source": [
        "values = {'director':'not known','cast':'not known','rating':'not known','country':'not known'} \n",
        "data.fillna(values, inplace = True)"
      ],
      "execution_count": 6,
      "outputs": []
    },
    {
      "cell_type": "code",
      "metadata": {
        "colab": {
          "base_uri": "https://localhost:8080/"
        },
        "id": "_qqEIz_SiEKh",
        "outputId": "d87f2966-b40b-4196-a2f6-ea94d9915302"
      },
      "source": [
        "data.isnull().sum()"
      ],
      "execution_count": 7,
      "outputs": [
        {
          "output_type": "execute_result",
          "data": {
            "text/plain": [
              "show_id          0\n",
              "type             0\n",
              "title            0\n",
              "director         0\n",
              "cast             0\n",
              "country          0\n",
              "date_added      10\n",
              "release_year     0\n",
              "rating           0\n",
              "duration         0\n",
              "listed_in        0\n",
              "description      0\n",
              "dtype: int64"
            ]
          },
          "metadata": {
            "tags": []
          },
          "execution_count": 7
        }
      ]
    },
    {
      "cell_type": "code",
      "metadata": {
        "id": "0zKLYyBjkcDC"
      },
      "source": [
        "data.dropna(axis = 0, how = 'any', inplace = True)"
      ],
      "execution_count": 8,
      "outputs": []
    },
    {
      "cell_type": "code",
      "metadata": {
        "colab": {
          "base_uri": "https://localhost:8080/"
        },
        "id": "v88jz9LDki5q",
        "outputId": "f20656cf-a715-4f6e-cb69-e576b6413ca4"
      },
      "source": [
        "data.isnull().sum()"
      ],
      "execution_count": 10,
      "outputs": [
        {
          "output_type": "execute_result",
          "data": {
            "text/plain": [
              "show_id         0\n",
              "type            0\n",
              "title           0\n",
              "director        0\n",
              "cast            0\n",
              "country         0\n",
              "date_added      0\n",
              "release_year    0\n",
              "rating          0\n",
              "duration        0\n",
              "listed_in       0\n",
              "description     0\n",
              "dtype: int64"
            ]
          },
          "metadata": {
            "tags": []
          },
          "execution_count": 10
        }
      ]
    },
    {
      "cell_type": "code",
      "metadata": {
        "colab": {
          "base_uri": "https://localhost:8080/"
        },
        "id": "wxWdDX5fmMRc",
        "outputId": "91736321-5815-4c19-a6fa-5bb0b2c4ae81"
      },
      "source": [
        "data.shape"
      ],
      "execution_count": 33,
      "outputs": [
        {
          "output_type": "execute_result",
          "data": {
            "text/plain": [
              "(7777, 13)"
            ]
          },
          "metadata": {
            "tags": []
          },
          "execution_count": 33
        }
      ]
    },
    {
      "cell_type": "code",
      "metadata": {
        "colab": {
          "base_uri": "https://localhost:8080/"
        },
        "id": "_ebf3wa37wED",
        "outputId": "cbc85273-1b0f-4003-8896-bc2f339593e5"
      },
      "source": [
        "max_desc = data.description.map(lambda x:len(x)).max()\n",
        "print(max_desc)"
      ],
      "execution_count": 11,
      "outputs": [
        {
          "output_type": "stream",
          "text": [
            "248\n"
          ],
          "name": "stdout"
        }
      ]
    },
    {
      "cell_type": "code",
      "metadata": {
        "colab": {
          "base_uri": "https://localhost:8080/",
          "height": 417
        },
        "id": "EOl3wRIP8AHS",
        "outputId": "a599e8fb-2d61-4cc9-a63c-b38b2c17f754"
      },
      "source": [
        "fig1 = px.histogram(data, x = 'type', width=800, height=400, title ='Type of Releases over the years')\n",
        "fig1.show()"
      ],
      "execution_count": 12,
      "outputs": [
        {
          "output_type": "display_data",
          "data": {
            "text/html": [
              "<html>\n",
              "<head><meta charset=\"utf-8\" /></head>\n",
              "<body>\n",
              "    <div>\n",
              "            <script src=\"https://cdnjs.cloudflare.com/ajax/libs/mathjax/2.7.5/MathJax.js?config=TeX-AMS-MML_SVG\"></script><script type=\"text/javascript\">if (window.MathJax) {MathJax.Hub.Config({SVG: {font: \"STIX-Web\"}});}</script>\n",
              "                <script type=\"text/javascript\">window.PlotlyConfig = {MathJaxConfig: 'local'};</script>\n",
              "        <script src=\"https://cdn.plot.ly/plotly-latest.min.js\"></script>    \n",
              "            <div id=\"641f83ac-ddbc-44c1-9946-88f9e09cd014\" class=\"plotly-graph-div\" style=\"height:400px; width:800px;\"></div>\n",
              "            <script type=\"text/javascript\">\n",
              "                \n",
              "                    window.PLOTLYENV=window.PLOTLYENV || {};\n",
              "                    \n",
              "                if (document.getElementById(\"641f83ac-ddbc-44c1-9946-88f9e09cd014\")) {\n",
              "                    Plotly.newPlot(\n",
              "                        '641f83ac-ddbc-44c1-9946-88f9e09cd014',\n",
              "                        [{\"alignmentgroup\": \"True\", \"bingroup\": \"x\", \"hoverlabel\": {\"namelength\": 0}, \"hovertemplate\": \"type=%{x}<br>count=%{y}\", \"legendgroup\": \"\", \"marker\": {\"color\": \"#636efa\"}, \"name\": \"\", \"offsetgroup\": \"\", \"orientation\": \"v\", \"showlegend\": false, \"type\": \"histogram\", \"x\": [\"TV Show\", \"Movie\", \"Movie\", \"Movie\", \"Movie\", \"TV Show\", \"Movie\", \"Movie\", \"Movie\", \"Movie\", \"Movie\", \"TV Show\", \"TV Show\", \"Movie\", \"Movie\", \"Movie\", \"TV Show\", \"Movie\", \"Movie\", \"Movie\", \"Movie\", \"Movie\", \"Movie\", \"Movie\", \"TV Show\", \"Movie\", \"TV Show\", \"Movie\", \"Movie\", \"TV Show\", \"Movie\", \"Movie\", \"Movie\", \"Movie\", \"Movie\", \"Movie\", \"Movie\", \"Movie\", \"TV Show\", \"Movie\", \"Movie\", \"Movie\", \"Movie\", \"Movie\", \"Movie\", \"TV Show\", \"Movie\", \"Movie\", \"Movie\", \"Movie\", \"Movie\", \"TV Show\", \"Movie\", \"TV Show\", \"Movie\", \"Movie\", \"Movie\", \"Movie\", \"TV Show\", \"Movie\", \"Movie\", \"TV Show\", \"Movie\", \"TV Show\", \"TV Show\", \"Movie\", \"Movie\", \"Movie\", \"Movie\", \"Movie\", \"Movie\", \"Movie\", \"Movie\", \"Movie\", \"Movie\", \"Movie\", \"Movie\", \"Movie\", \"Movie\", \"Movie\", \"TV Show\", \"Movie\", \"Movie\", \"Movie\", \"Movie\", \"TV Show\", \"TV Show\", \"TV Show\", \"Movie\", \"Movie\", \"Movie\", \"Movie\", \"Movie\", \"Movie\", \"Movie\", \"TV Show\", \"Movie\", \"Movie\", \"Movie\", \"Movie\", \"Movie\", \"Movie\", \"Movie\", \"Movie\", \"Movie\", \"Movie\", \"Movie\", \"Movie\", \"TV Show\", \"Movie\", \"Movie\", \"TV Show\", \"TV Show\", \"Movie\", \"Movie\", \"Movie\", \"Movie\", \"Movie\", \"Movie\", \"Movie\", \"Movie\", \"Movie\", \"Movie\", \"Movie\", \"Movie\", \"Movie\", \"Movie\", \"Movie\", \"Movie\", \"Movie\", \"TV Show\", \"Movie\", \"TV Show\", \"Movie\", \"TV Show\", \"Movie\", \"Movie\", \"TV Show\", \"TV Show\", \"TV Show\", \"TV Show\", \"TV Show\", \"TV Show\", \"Movie\", \"Movie\", \"Movie\", \"Movie\", \"Movie\", \"Movie\", \"Movie\", \"Movie\", \"Movie\", \"TV Show\", \"Movie\", \"Movie\", \"Movie\", \"Movie\", \"Movie\", \"Movie\", \"Movie\", \"Movie\", \"Movie\", \"Movie\", \"Movie\", \"Movie\", \"Movie\", \"Movie\", \"Movie\", \"Movie\", \"Movie\", \"Movie\", \"Movie\", \"Movie\", \"Movie\", \"Movie\", \"Movie\", \"Movie\", \"Movie\", \"Movie\", \"Movie\", \"TV Show\", \"Movie\", \"Movie\", \"Movie\", \"Movie\", \"Movie\", \"Movie\", \"Movie\", \"TV Show\", \"Movie\", \"Movie\", \"TV Show\", \"Movie\", \"Movie\", \"Movie\", \"TV Show\", \"Movie\", \"TV Show\", \"TV Show\", \"TV Show\", \"Movie\", \"Movie\", \"TV Show\", \"Movie\", \"Movie\", \"Movie\", \"Movie\", \"Movie\", \"Movie\", \"Movie\", \"Movie\", \"Movie\", \"Movie\", \"TV Show\", \"Movie\", \"Movie\", \"Movie\", \"Movie\", \"TV Show\", \"Movie\", \"Movie\", \"Movie\", \"Movie\", \"Movie\", \"Movie\", \"TV Show\", \"Movie\", \"Movie\", \"Movie\", \"Movie\", \"Movie\", \"Movie\", \"Movie\", \"Movie\", \"Movie\", \"TV Show\", \"Movie\", \"Movie\", \"Movie\", \"TV Show\", \"Movie\", \"TV Show\", \"Movie\", \"Movie\", \"Movie\", \"Movie\", \"Movie\", \"Movie\", \"TV Show\", \"Movie\", \"Movie\", \"Movie\", \"Movie\", \"Movie\", \"Movie\", \"Movie\", \"TV Show\", \"Movie\", \"TV Show\", \"TV Show\", \"Movie\", \"Movie\", \"Movie\", \"Movie\", \"Movie\", \"Movie\", \"Movie\", \"Movie\", \"Movie\", \"Movie\", \"Movie\", \"Movie\", \"Movie\", \"Movie\", \"Movie\", \"TV Show\", \"Movie\", \"Movie\", \"Movie\", \"Movie\", \"Movie\", \"Movie\", \"Movie\", \"TV Show\", \"Movie\", \"Movie\", \"Movie\", \"TV Show\", \"TV Show\", \"TV Show\", \"Movie\", \"Movie\", \"Movie\", \"TV Show\", \"Movie\", \"Movie\", \"Movie\", \"Movie\", \"Movie\", \"Movie\", \"Movie\", \"Movie\", \"TV Show\", \"Movie\", \"Movie\", \"TV Show\", \"Movie\", \"Movie\", \"Movie\", \"Movie\", \"Movie\", \"Movie\", \"Movie\", \"Movie\", \"Movie\", \"Movie\", \"Movie\", \"Movie\", \"TV Show\", \"Movie\", \"TV Show\", \"TV Show\", \"Movie\", \"TV Show\", \"Movie\", \"Movie\", \"Movie\", \"Movie\", \"Movie\", \"Movie\", \"Movie\", \"Movie\", \"TV Show\", \"Movie\", \"TV Show\", \"TV Show\", \"TV Show\", \"TV Show\", \"TV Show\", \"TV Show\", \"TV Show\", \"Movie\", \"Movie\", \"Movie\", \"Movie\", \"Movie\", \"Movie\", \"TV Show\", \"TV Show\", \"TV Show\", \"Movie\", \"Movie\", \"Movie\", \"Movie\", \"Movie\", \"Movie\", \"TV Show\", \"Movie\", \"TV Show\", \"TV Show\", \"Movie\", \"Movie\", \"TV Show\", \"TV Show\", \"TV Show\", \"Movie\", \"TV Show\", \"Movie\", \"Movie\", \"Movie\", \"Movie\", \"Movie\", \"Movie\", \"Movie\", \"Movie\", \"Movie\", \"Movie\", \"Movie\", \"Movie\", \"TV Show\", \"Movie\", \"Movie\", \"Movie\", \"Movie\", \"Movie\", \"Movie\", \"Movie\", \"Movie\", \"TV Show\", \"Movie\", \"Movie\", \"Movie\", \"TV Show\", \"Movie\", \"Movie\", \"TV Show\", \"Movie\", \"TV Show\", \"Movie\", \"Movie\", \"Movie\", \"Movie\", \"Movie\", \"TV Show\", \"TV Show\", \"Movie\", \"Movie\", \"Movie\", \"TV Show\", \"Movie\", \"TV Show\", \"TV Show\", \"Movie\", \"Movie\", \"Movie\", \"Movie\", \"Movie\", \"Movie\", \"Movie\", \"Movie\", \"Movie\", \"Movie\", \"Movie\", \"Movie\", \"Movie\", \"TV Show\", \"Movie\", \"TV Show\", \"Movie\", \"Movie\", \"Movie\", \"Movie\", \"Movie\", \"TV Show\", \"Movie\", \"Movie\", \"TV Show\", \"Movie\", \"Movie\", \"TV Show\", \"Movie\", \"Movie\", \"Movie\", \"Movie\", \"Movie\", \"Movie\", \"Movie\", \"Movie\", \"TV Show\", \"Movie\", \"TV Show\", \"TV Show\", \"Movie\", \"Movie\", \"Movie\", \"Movie\", \"TV Show\", \"TV Show\", \"Movie\", \"TV Show\", \"Movie\", \"Movie\", \"Movie\", \"Movie\", \"Movie\", \"Movie\", \"Movie\", \"TV Show\", \"Movie\", \"Movie\", \"TV Show\", \"Movie\", \"Movie\", \"Movie\", \"TV Show\", \"Movie\", \"Movie\", \"TV Show\", \"Movie\", \"Movie\", \"Movie\", \"Movie\", \"Movie\", \"Movie\", \"Movie\", \"Movie\", \"Movie\", \"Movie\", \"Movie\", \"Movie\", \"Movie\", \"Movie\", \"Movie\", \"TV Show\", \"Movie\", \"Movie\", \"Movie\", \"Movie\", \"Movie\", \"Movie\", \"Movie\", \"Movie\", \"Movie\", \"TV Show\", \"Movie\", \"Movie\", \"Movie\", \"Movie\", \"Movie\", \"Movie\", \"Movie\", \"Movie\", \"Movie\", \"Movie\", \"TV Show\", \"TV Show\", \"Movie\", \"Movie\", \"Movie\", \"Movie\", \"Movie\", \"Movie\", \"TV Show\", \"Movie\", \"Movie\", \"Movie\", \"Movie\", \"Movie\", \"Movie\", \"Movie\", \"TV Show\", \"Movie\", \"TV Show\", \"TV Show\", \"Movie\", \"Movie\", \"Movie\", \"Movie\", \"TV Show\", \"TV Show\", \"Movie\", \"Movie\", \"TV Show\", \"TV Show\", \"TV Show\", \"Movie\", \"Movie\", \"Movie\", \"Movie\", \"Movie\", \"Movie\", \"Movie\", \"Movie\", \"Movie\", \"TV Show\", \"Movie\", \"TV Show\", \"TV Show\", \"Movie\", \"Movie\", \"Movie\", \"Movie\", \"Movie\", \"TV Show\", \"Movie\", \"Movie\", \"Movie\", \"TV Show\", \"TV Show\", \"Movie\", \"Movie\", \"Movie\", \"TV Show\", \"TV Show\", \"TV Show\", \"Movie\", \"TV Show\", \"Movie\", \"Movie\", \"Movie\", \"Movie\", \"TV Show\", \"TV Show\", \"Movie\", \"TV Show\", \"Movie\", \"Movie\", \"Movie\", \"Movie\", \"Movie\", \"Movie\", \"Movie\", \"Movie\", \"TV Show\", \"TV Show\", \"TV Show\", \"TV Show\", \"Movie\", \"Movie\", \"Movie\", \"Movie\", \"TV Show\", \"Movie\", \"Movie\", \"Movie\", \"Movie\", \"Movie\", \"TV Show\", \"TV Show\", \"Movie\", \"Movie\", \"Movie\", \"Movie\", \"TV Show\", \"TV Show\", \"Movie\", \"Movie\", \"TV Show\", \"Movie\", \"TV Show\", \"Movie\", \"Movie\", \"TV Show\", \"Movie\", \"Movie\", \"Movie\", \"Movie\", \"Movie\", \"TV Show\", \"Movie\", \"TV Show\", \"Movie\", \"Movie\", \"Movie\", \"Movie\", \"Movie\", \"Movie\", \"TV Show\", \"TV Show\", \"TV Show\", \"Movie\", \"Movie\", \"Movie\", \"Movie\", \"Movie\", \"Movie\", \"Movie\", \"Movie\", \"Movie\", \"TV Show\", \"Movie\", \"Movie\", \"Movie\", \"Movie\", \"Movie\", \"Movie\", \"Movie\", \"Movie\", \"Movie\", \"Movie\", \"Movie\", \"Movie\", \"Movie\", \"Movie\", \"Movie\", \"TV Show\", \"TV Show\", \"TV Show\", \"Movie\", \"Movie\", \"TV Show\", \"Movie\", \"Movie\", \"Movie\", \"TV Show\", \"TV Show\", \"Movie\", \"Movie\", \"TV Show\", \"Movie\", \"Movie\", \"Movie\", \"Movie\", \"TV Show\", \"TV Show\", \"Movie\", \"Movie\", \"Movie\", \"TV Show\", \"Movie\", \"Movie\", \"TV Show\", \"TV Show\", \"Movie\", \"Movie\", \"Movie\", \"TV Show\", \"Movie\", \"Movie\", \"Movie\", \"TV Show\", \"TV Show\", \"TV Show\", \"TV Show\", \"TV Show\", \"TV Show\", \"Movie\", \"Movie\", \"Movie\", \"Movie\", \"Movie\", \"Movie\", \"Movie\", \"Movie\", \"Movie\", \"Movie\", \"Movie\", \"Movie\", \"TV Show\", \"TV Show\", \"Movie\", \"TV Show\", \"TV Show\", \"TV Show\", \"TV Show\", \"Movie\", \"Movie\", \"Movie\", \"Movie\", \"TV Show\", \"Movie\", \"Movie\", \"Movie\", \"TV Show\", \"TV Show\", \"Movie\", \"Movie\", \"Movie\", \"TV Show\", \"Movie\", \"Movie\", \"Movie\", \"Movie\", \"Movie\", \"Movie\", \"Movie\", \"Movie\", \"Movie\", \"TV Show\", \"Movie\", \"Movie\", \"Movie\", \"Movie\", \"Movie\", \"Movie\", \"Movie\", \"Movie\", \"TV Show\", \"TV Show\", \"TV Show\", \"Movie\", \"Movie\", \"Movie\", \"Movie\", \"TV Show\", \"Movie\", \"TV Show\", \"TV Show\", \"Movie\", \"Movie\", \"Movie\", \"Movie\", \"Movie\", \"Movie\", \"Movie\", \"TV Show\", \"TV Show\", \"TV Show\", \"Movie\", \"Movie\", \"Movie\", \"TV Show\", \"TV Show\", \"Movie\", \"TV Show\", \"Movie\", \"TV Show\", \"Movie\", \"Movie\", \"TV Show\", \"Movie\", \"TV Show\", \"Movie\", \"Movie\", \"Movie\", \"TV Show\", \"Movie\", \"Movie\", \"TV Show\", \"Movie\", \"Movie\", \"Movie\", \"Movie\", \"TV Show\", \"Movie\", \"Movie\", \"Movie\", \"Movie\", \"Movie\", \"TV Show\", \"Movie\", \"Movie\", \"TV Show\", \"TV Show\", \"Movie\", \"Movie\", \"Movie\", \"TV Show\", \"Movie\", \"Movie\", \"Movie\", \"Movie\", \"Movie\", \"TV Show\", \"Movie\", \"Movie\", \"TV Show\", \"TV Show\", \"Movie\", \"Movie\", \"Movie\", \"Movie\", \"Movie\", \"Movie\", \"Movie\", \"Movie\", \"Movie\", \"Movie\", \"Movie\", \"Movie\", \"Movie\", \"Movie\", \"Movie\", \"Movie\", \"Movie\", \"Movie\", \"Movie\", \"TV Show\", \"TV Show\", \"Movie\", \"Movie\", \"Movie\", \"Movie\", \"TV Show\", \"TV Show\", \"Movie\", \"TV Show\", \"TV Show\", \"Movie\", \"Movie\", \"TV Show\", \"Movie\", \"Movie\", \"Movie\", \"Movie\", \"Movie\", \"TV Show\", \"TV Show\", \"TV Show\", \"TV Show\", \"TV Show\", \"Movie\", \"Movie\", \"Movie\", \"TV Show\", \"Movie\", \"Movie\", \"TV Show\", \"TV Show\", \"TV Show\", \"Movie\", \"Movie\", \"Movie\", \"Movie\", \"Movie\", \"Movie\", \"Movie\", \"Movie\", \"Movie\", \"Movie\", \"Movie\", \"Movie\", \"Movie\", \"Movie\", \"Movie\", \"Movie\", \"TV Show\", \"TV Show\", \"Movie\", \"Movie\", \"TV Show\", \"Movie\", \"Movie\", \"Movie\", \"TV Show\", \"Movie\", \"Movie\", \"Movie\", \"Movie\", \"Movie\", \"Movie\", \"Movie\", \"Movie\", \"Movie\", \"Movie\", \"Movie\", \"Movie\", \"Movie\", \"Movie\", \"Movie\", \"Movie\", \"Movie\", \"TV Show\", \"Movie\", \"Movie\", \"Movie\", \"Movie\", \"TV Show\", \"Movie\", \"TV Show\", \"Movie\", \"Movie\", \"Movie\", \"Movie\", \"Movie\", \"Movie\", \"Movie\", \"Movie\", \"TV Show\", \"TV Show\", \"Movie\", \"Movie\", \"Movie\", \"Movie\", \"Movie\", \"TV Show\", \"TV Show\", \"TV Show\", \"Movie\", \"Movie\", \"TV Show\", \"TV Show\", \"TV Show\", \"Movie\", \"TV Show\", \"Movie\", \"TV Show\", \"Movie\", \"Movie\", \"Movie\", \"Movie\", \"Movie\", \"Movie\", \"TV Show\", \"TV Show\", \"Movie\", \"Movie\", \"Movie\", \"Movie\", \"Movie\", \"TV Show\", \"TV Show\", \"Movie\", \"Movie\", \"Movie\", \"Movie\", \"Movie\", \"Movie\", \"TV Show\", \"Movie\", \"Movie\", \"Movie\", \"TV Show\", \"TV Show\", \"Movie\", \"Movie\", \"TV Show\", \"TV Show\", \"Movie\", \"TV Show\", \"TV Show\", \"Movie\", \"TV Show\", \"TV Show\", \"Movie\", \"Movie\", \"Movie\", \"Movie\", \"TV Show\", \"Movie\", \"Movie\", \"Movie\", \"Movie\", \"Movie\", \"TV Show\", \"Movie\", \"Movie\", \"Movie\", \"TV Show\", \"Movie\", \"TV Show\", \"Movie\", \"Movie\", \"Movie\", \"Movie\", \"Movie\", \"TV Show\", \"Movie\", \"Movie\", \"TV Show\", \"Movie\", \"Movie\", \"Movie\", \"TV Show\", \"Movie\", \"Movie\", \"TV Show\", \"Movie\", \"Movie\", \"Movie\", \"Movie\", \"Movie\", \"Movie\", \"Movie\", \"Movie\", \"Movie\", \"Movie\", \"TV Show\", \"TV Show\", \"Movie\", \"TV Show\", \"TV Show\", \"TV Show\", \"Movie\", \"TV Show\", \"TV Show\", \"TV Show\", \"TV Show\", \"TV Show\", \"TV Show\", \"TV Show\", \"Movie\", \"Movie\", \"Movie\", \"Movie\", \"Movie\", \"Movie\", \"Movie\", \"Movie\", \"TV Show\", \"TV Show\", \"Movie\", \"TV Show\", \"Movie\", \"Movie\", \"Movie\", \"Movie\", \"Movie\", \"TV Show\", \"Movie\", \"Movie\", \"TV Show\", \"Movie\", \"TV Show\", \"Movie\", \"Movie\", \"Movie\", \"TV Show\", \"Movie\", \"Movie\", \"TV Show\", \"TV Show\", \"Movie\", \"TV Show\", \"Movie\", \"Movie\", \"TV Show\", \"TV Show\", \"Movie\", \"Movie\", \"TV Show\", \"Movie\", \"Movie\", \"TV Show\", \"Movie\", \"Movie\", \"Movie\", \"Movie\", \"TV Show\", \"Movie\", \"Movie\", \"TV Show\", \"Movie\", \"TV Show\", \"Movie\", \"TV Show\", \"TV Show\", \"TV Show\", \"TV Show\", \"Movie\", \"Movie\", \"Movie\", \"Movie\", \"TV Show\", \"Movie\", \"Movie\", \"TV Show\", \"Movie\", \"Movie\", \"Movie\", \"Movie\", \"Movie\", \"TV Show\", \"TV Show\", \"Movie\", \"TV Show\", \"Movie\", \"Movie\", \"Movie\", \"Movie\", \"Movie\", \"Movie\", \"Movie\", \"Movie\", \"Movie\", \"Movie\", \"TV Show\", \"TV Show\", \"TV Show\", \"Movie\", \"Movie\", \"Movie\", \"TV Show\", \"Movie\", \"Movie\", \"Movie\", \"TV Show\", \"Movie\", \"TV Show\", \"Movie\", \"Movie\", \"Movie\", \"Movie\", \"Movie\", \"Movie\", \"Movie\", \"Movie\", \"Movie\", \"Movie\", \"Movie\", \"TV Show\", \"TV Show\", \"Movie\", \"TV Show\", \"Movie\", \"Movie\", \"TV Show\", \"Movie\", \"Movie\", \"Movie\", \"Movie\", \"TV Show\", \"TV Show\", \"Movie\", \"Movie\", \"Movie\", \"TV Show\", \"TV Show\", \"TV Show\", \"TV Show\", \"Movie\", \"Movie\", \"TV Show\", \"Movie\", \"TV Show\", \"Movie\", \"Movie\", \"TV Show\", \"Movie\", \"TV Show\", \"TV Show\", \"TV Show\", \"Movie\", \"Movie\", \"Movie\", \"Movie\", \"TV Show\", \"Movie\", \"Movie\", \"TV Show\", \"TV Show\", \"Movie\", \"Movie\", \"Movie\", \"Movie\", \"Movie\", \"TV Show\", \"TV Show\", \"Movie\", \"Movie\", \"TV Show\", \"TV Show\", \"TV Show\", \"Movie\", \"Movie\", \"Movie\", \"Movie\", \"Movie\", \"Movie\", \"TV Show\", \"TV Show\", \"Movie\", \"Movie\", \"TV Show\", \"Movie\", \"Movie\", \"Movie\", \"Movie\", \"Movie\", \"TV Show\", \"Movie\", \"TV Show\", \"Movie\", \"Movie\", \"Movie\", \"Movie\", \"TV Show\", \"TV Show\", \"TV Show\", \"Movie\", \"Movie\", \"Movie\", \"Movie\", \"Movie\", \"TV Show\", \"Movie\", \"Movie\", \"TV Show\", \"Movie\", \"Movie\", \"Movie\", \"TV Show\", \"Movie\", \"Movie\", \"Movie\", \"Movie\", \"Movie\", \"Movie\", \"Movie\", \"Movie\", \"Movie\", \"Movie\", \"TV Show\", \"Movie\", \"Movie\", \"Movie\", \"TV Show\", \"Movie\", \"TV Show\", \"Movie\", \"Movie\", \"Movie\", \"Movie\", \"Movie\", \"Movie\", \"TV Show\", \"TV Show\", \"Movie\", \"Movie\", \"Movie\", \"TV Show\", \"Movie\", \"TV Show\", \"Movie\", \"Movie\", \"Movie\", \"Movie\", \"TV Show\", \"Movie\", \"TV Show\", \"Movie\", \"Movie\", \"Movie\", \"Movie\", \"TV Show\", \"TV Show\", \"TV Show\", \"TV Show\", \"TV Show\", \"TV Show\", \"Movie\", \"TV Show\", \"TV Show\", \"TV Show\", \"TV Show\", \"TV Show\", \"TV Show\", \"Movie\", \"Movie\", \"Movie\", \"Movie\", \"TV Show\", \"TV Show\", \"TV Show\", \"TV Show\", \"Movie\", \"Movie\", \"Movie\", \"Movie\", \"TV Show\", \"Movie\", \"TV Show\", \"Movie\", \"Movie\", \"TV Show\", \"Movie\", \"TV Show\", \"Movie\", \"TV Show\", \"Movie\", \"TV Show\", \"Movie\", \"Movie\", \"TV Show\", \"TV Show\", \"Movie\", \"TV Show\", \"Movie\", \"Movie\", \"TV Show\", \"Movie\", \"Movie\", \"Movie\", \"Movie\", \"TV Show\", \"Movie\", \"Movie\", \"Movie\", \"TV Show\", \"Movie\", \"Movie\", \"Movie\", \"Movie\", \"Movie\", \"Movie\", \"Movie\", \"Movie\", \"TV Show\", \"Movie\", \"Movie\", \"Movie\", \"Movie\", \"Movie\", \"Movie\", \"Movie\", \"Movie\", \"Movie\", \"Movie\", \"Movie\", \"Movie\", \"Movie\", \"Movie\", \"Movie\", \"Movie\", \"TV Show\", \"TV Show\", \"Movie\", \"Movie\", \"Movie\", \"Movie\", \"TV Show\", \"Movie\", \"Movie\", \"Movie\", \"TV Show\", \"Movie\", \"Movie\", \"TV Show\", \"TV Show\", \"TV Show\", \"TV Show\", \"TV Show\", \"Movie\", \"Movie\", \"Movie\", \"Movie\", \"Movie\", \"TV Show\", \"Movie\", \"Movie\", \"Movie\", \"Movie\", \"TV Show\", \"Movie\", \"TV Show\", \"Movie\", \"Movie\", \"Movie\", \"Movie\", \"Movie\", \"TV Show\", \"TV Show\", \"Movie\", \"TV Show\", \"Movie\", \"TV Show\", \"Movie\", \"Movie\", \"Movie\", \"Movie\", \"TV Show\", \"Movie\", \"Movie\", \"Movie\", \"Movie\", \"Movie\", \"Movie\", \"Movie\", \"TV Show\", \"TV Show\", \"TV Show\", \"TV Show\", \"TV Show\", \"TV Show\", \"TV Show\", \"TV Show\", \"Movie\", \"TV Show\", \"TV Show\", \"TV Show\", \"TV Show\", \"Movie\", \"TV Show\", \"TV Show\", \"Movie\", \"TV Show\", \"TV Show\", \"Movie\", \"Movie\", \"Movie\", \"Movie\", \"Movie\", \"TV Show\", \"TV Show\", \"Movie\", \"Movie\", \"Movie\", \"Movie\", \"Movie\", \"Movie\", \"TV Show\", \"TV Show\", \"Movie\", \"TV Show\", \"TV Show\", \"Movie\", \"Movie\", \"Movie\", \"TV Show\", \"TV Show\", \"TV Show\", \"TV Show\", \"Movie\", \"TV Show\", \"Movie\", \"Movie\", \"Movie\", \"TV Show\", \"Movie\", \"Movie\", \"Movie\", \"TV Show\", \"Movie\", \"Movie\", \"Movie\", \"TV Show\", \"TV Show\", \"Movie\", \"TV Show\", \"TV Show\", \"Movie\", \"Movie\", \"TV Show\", \"TV Show\", \"TV Show\", \"Movie\", \"Movie\", \"Movie\", \"Movie\", \"Movie\", \"Movie\", \"TV Show\", \"Movie\", \"Movie\", \"Movie\", \"Movie\", \"TV Show\", \"Movie\", \"Movie\", \"TV Show\", \"Movie\", \"Movie\", \"Movie\", \"Movie\", \"Movie\", \"Movie\", \"TV Show\", \"TV Show\", \"Movie\", \"Movie\", \"TV Show\", \"TV Show\", \"Movie\", \"TV Show\", \"TV Show\", \"Movie\", \"Movie\", \"TV Show\", \"Movie\", \"Movie\", \"TV Show\", \"TV Show\", \"TV Show\", \"TV Show\", \"TV Show\", \"TV Show\", \"TV Show\", \"TV Show\", \"TV Show\", \"TV Show\", \"Movie\", \"Movie\", \"Movie\", \"Movie\", \"Movie\", \"Movie\", \"Movie\", \"TV Show\", \"Movie\", \"Movie\", \"Movie\", \"TV Show\", \"TV Show\", \"TV Show\", \"Movie\", \"Movie\", \"Movie\", \"Movie\", \"TV Show\", \"TV Show\", \"Movie\", \"Movie\", \"Movie\", \"TV Show\", \"TV Show\", \"Movie\", \"Movie\", \"Movie\", \"Movie\", \"Movie\", \"Movie\", \"Movie\", \"Movie\", \"Movie\", \"Movie\", \"TV Show\", \"Movie\", \"Movie\", \"Movie\", \"Movie\", \"Movie\", \"Movie\", \"TV Show\", \"Movie\", \"TV Show\", \"TV Show\", \"Movie\", \"Movie\", \"TV Show\", \"TV Show\", \"Movie\", \"Movie\", \"TV Show\", \"Movie\", \"TV Show\", \"TV Show\", \"Movie\", \"TV Show\", \"TV Show\", \"Movie\", \"Movie\", \"Movie\", \"Movie\", \"Movie\", \"Movie\", \"Movie\", \"TV Show\", \"Movie\", \"TV Show\", \"Movie\", \"Movie\", \"TV Show\", \"Movie\", \"Movie\", \"TV Show\", \"Movie\", \"Movie\", \"TV Show\", \"Movie\", \"Movie\", \"TV Show\", \"Movie\", \"TV Show\", \"TV Show\", \"TV Show\", \"TV Show\", \"Movie\", \"TV Show\", \"TV Show\", \"Movie\", \"Movie\", \"Movie\", \"Movie\", \"Movie\", \"Movie\", \"Movie\", \"TV Show\", \"TV Show\", \"TV Show\", \"TV Show\", \"Movie\", \"TV Show\", \"TV Show\", \"Movie\", \"TV Show\", \"TV Show\", \"Movie\", \"Movie\", \"Movie\", \"Movie\", \"TV Show\", \"TV Show\", \"Movie\", \"Movie\", \"Movie\", \"Movie\", \"TV Show\", \"TV Show\", \"Movie\", \"Movie\", \"Movie\", \"Movie\", \"TV Show\", \"Movie\", \"TV Show\", \"Movie\", \"Movie\", \"TV Show\", \"Movie\", \"Movie\", \"Movie\", \"Movie\", \"Movie\", \"Movie\", \"Movie\", \"Movie\", \"Movie\", \"Movie\", \"TV Show\", \"TV Show\", \"Movie\", \"Movie\", \"Movie\", \"Movie\", \"Movie\", \"TV Show\", \"Movie\", \"Movie\", \"Movie\", \"TV Show\", \"Movie\", \"Movie\", \"Movie\", \"TV Show\", \"Movie\", \"Movie\", \"Movie\", \"TV Show\", \"Movie\", \"Movie\", \"Movie\", \"TV Show\", \"Movie\", \"Movie\", \"TV Show\", \"Movie\", \"Movie\", \"Movie\", \"TV Show\", \"TV Show\", \"TV Show\", \"Movie\", \"Movie\", \"Movie\", \"Movie\", \"Movie\", \"Movie\", \"Movie\", \"TV Show\", \"Movie\", \"Movie\", \"Movie\", \"Movie\", \"Movie\", \"Movie\", \"Movie\", \"TV Show\", \"TV Show\", \"Movie\", \"TV Show\", \"Movie\", \"Movie\", \"Movie\", \"Movie\", \"TV Show\", \"Movie\", \"TV Show\", \"Movie\", \"Movie\", \"Movie\", \"TV Show\", \"TV Show\", \"TV Show\", \"TV Show\", \"Movie\", \"Movie\", \"Movie\", \"Movie\", \"Movie\", \"Movie\", \"Movie\", \"Movie\", \"Movie\", \"Movie\", \"Movie\", \"Movie\", \"Movie\", \"Movie\", \"Movie\", \"Movie\", \"Movie\", \"Movie\", \"Movie\", \"TV Show\", \"Movie\", \"TV Show\", \"TV Show\", \"TV Show\", \"TV Show\", \"TV Show\", \"TV Show\", \"TV Show\", \"TV Show\", \"Movie\", \"Movie\", \"Movie\", \"Movie\", \"Movie\", \"TV Show\", \"TV Show\", \"Movie\", \"Movie\", \"TV Show\", \"Movie\", \"Movie\", \"Movie\", \"Movie\", \"TV Show\", \"Movie\", \"Movie\", \"TV Show\", \"Movie\", \"TV Show\", \"Movie\", \"TV Show\", \"TV Show\", \"Movie\", \"TV Show\", \"Movie\", \"Movie\", \"TV Show\", \"Movie\", \"Movie\", \"Movie\", \"Movie\", \"Movie\", \"Movie\", \"Movie\", \"Movie\", \"Movie\", \"Movie\", \"Movie\", \"Movie\", \"TV Show\", \"Movie\", \"Movie\", \"Movie\", \"Movie\", \"Movie\", \"Movie\", \"Movie\", \"Movie\", \"Movie\", \"Movie\", \"TV Show\", \"Movie\", \"TV Show\", \"Movie\", \"TV Show\", \"Movie\", \"Movie\", \"Movie\", \"Movie\", \"Movie\", \"Movie\", \"Movie\", \"Movie\", \"TV Show\", \"Movie\", \"Movie\", \"Movie\", \"Movie\", \"TV Show\", \"TV Show\", \"Movie\", \"Movie\", \"TV Show\", \"Movie\", \"Movie\", \"Movie\", \"Movie\", \"Movie\", \"Movie\", \"Movie\", \"TV Show\", \"TV Show\", \"Movie\", \"Movie\", \"Movie\", \"TV Show\", \"Movie\", \"Movie\", \"TV Show\", \"Movie\", \"TV Show\", \"TV Show\", \"Movie\", \"TV Show\", \"TV Show\", \"TV Show\", \"TV Show\", \"TV Show\", \"Movie\", \"TV Show\", \"Movie\", \"Movie\", \"Movie\", \"Movie\", \"TV Show\", \"TV Show\", \"TV Show\", \"TV Show\", \"Movie\", \"Movie\", \"Movie\", \"Movie\", \"Movie\", \"Movie\", \"TV Show\", \"Movie\", \"Movie\", \"Movie\", \"Movie\", \"Movie\", \"Movie\", \"TV Show\", \"Movie\", \"Movie\", \"TV Show\", \"Movie\", \"Movie\", \"Movie\", \"Movie\", \"TV Show\", \"TV Show\", \"TV Show\", \"Movie\", \"Movie\", \"TV Show\", \"TV Show\", \"Movie\", \"TV Show\", \"Movie\", \"Movie\", \"Movie\", \"Movie\", \"Movie\", \"Movie\", \"TV Show\", \"Movie\", \"Movie\", \"TV Show\", \"TV Show\", \"Movie\", \"Movie\", \"Movie\", \"Movie\", \"Movie\", \"Movie\", \"Movie\", \"Movie\", \"TV Show\", \"Movie\", \"Movie\", \"Movie\", \"Movie\", \"Movie\", \"Movie\", \"Movie\", \"Movie\", \"Movie\", \"TV Show\", \"Movie\", \"Movie\", \"TV Show\", \"TV Show\", \"TV Show\", \"TV Show\", \"Movie\", \"TV Show\", \"Movie\", \"Movie\", \"TV Show\", \"TV Show\", \"Movie\", \"Movie\", \"Movie\", \"TV Show\", \"Movie\", \"Movie\", \"TV Show\", \"TV Show\", \"Movie\", \"Movie\", \"Movie\", \"TV Show\", \"Movie\", \"Movie\", \"Movie\", \"Movie\", \"Movie\", \"Movie\", \"Movie\", \"Movie\", \"Movie\", \"Movie\", \"TV Show\", \"Movie\", \"Movie\", \"TV Show\", \"Movie\", \"Movie\", \"Movie\", \"Movie\", \"Movie\", \"Movie\", \"Movie\", \"Movie\", \"TV Show\", \"TV Show\", \"Movie\", \"Movie\", \"TV Show\", \"TV Show\", \"Movie\", \"Movie\", \"TV Show\", \"Movie\", \"TV Show\", \"Movie\", \"Movie\", \"TV Show\", \"Movie\", \"TV Show\", \"Movie\", \"Movie\", \"Movie\", \"Movie\", \"TV Show\", \"Movie\", \"Movie\", \"Movie\", \"Movie\", \"TV Show\", \"Movie\", \"TV Show\", \"Movie\", \"TV Show\", \"TV Show\", \"Movie\", \"Movie\", \"Movie\", \"Movie\", \"Movie\", \"Movie\", \"TV Show\", \"Movie\", \"Movie\", \"TV Show\", \"Movie\", \"TV Show\", \"TV Show\", \"Movie\", \"TV Show\", \"Movie\", \"Movie\", \"Movie\", \"Movie\", \"Movie\", \"Movie\", \"Movie\", \"Movie\", \"TV Show\", \"Movie\", \"Movie\", \"Movie\", \"TV Show\", \"Movie\", \"TV Show\", \"TV Show\", \"TV Show\", \"Movie\", \"Movie\", \"Movie\", \"TV Show\", \"TV Show\", \"TV Show\", \"Movie\", \"Movie\", \"TV Show\", \"Movie\", \"Movie\", \"Movie\", \"Movie\", \"Movie\", \"Movie\", \"TV Show\", \"Movie\", \"Movie\", \"Movie\", \"TV Show\", \"TV Show\", \"TV Show\", \"Movie\", \"Movie\", \"Movie\", \"Movie\", \"Movie\", \"Movie\", \"TV Show\", \"TV Show\", \"TV Show\", \"Movie\", \"Movie\", \"Movie\", \"TV Show\", \"Movie\", \"Movie\", \"TV Show\", \"Movie\", \"TV Show\", \"Movie\", \"Movie\", \"Movie\", \"TV Show\", \"Movie\", \"TV Show\", \"Movie\", \"TV Show\", \"Movie\", \"TV Show\", \"Movie\", \"Movie\", \"TV Show\", \"TV Show\", \"Movie\", \"Movie\", \"Movie\", \"Movie\", \"Movie\", \"TV Show\", \"Movie\", \"Movie\", \"Movie\", \"TV Show\", \"TV Show\", \"Movie\", \"Movie\", \"TV Show\", \"TV Show\", \"Movie\", \"Movie\", \"TV Show\", \"TV Show\", \"TV Show\", \"Movie\", \"TV Show\", \"TV Show\", \"TV Show\", \"Movie\", \"Movie\", \"Movie\", \"TV Show\", \"Movie\", \"TV Show\", \"TV Show\", \"Movie\", \"TV Show\", \"Movie\", \"Movie\", \"TV Show\", \"Movie\", \"Movie\", \"Movie\", \"Movie\", \"Movie\", \"Movie\", \"Movie\", \"Movie\", \"Movie\", \"Movie\", \"Movie\", \"Movie\", \"Movie\", \"TV Show\", \"Movie\", \"TV Show\", \"Movie\", \"TV Show\", \"Movie\", \"Movie\", \"Movie\", \"Movie\", \"Movie\", \"TV Show\", \"Movie\", \"TV Show\", \"Movie\", \"Movie\", \"TV Show\", \"Movie\", \"Movie\", \"Movie\", \"Movie\", \"TV Show\", \"Movie\", \"Movie\", \"Movie\", \"TV Show\", \"Movie\", \"Movie\", \"Movie\", \"Movie\", \"Movie\", \"TV Show\", \"Movie\", \"Movie\", \"Movie\", \"Movie\", \"Movie\", \"Movie\", \"TV Show\", \"Movie\", \"Movie\", \"TV Show\", \"Movie\", \"Movie\", \"TV Show\", \"Movie\", \"TV Show\", \"Movie\", \"TV Show\", \"Movie\", \"Movie\", \"TV Show\", \"TV Show\", \"Movie\", \"TV Show\", \"TV Show\", \"TV Show\", \"Movie\", \"Movie\", \"TV Show\", \"TV Show\", \"Movie\", \"TV Show\", \"TV Show\", \"TV Show\", \"Movie\", \"Movie\", \"Movie\", \"Movie\", \"Movie\", \"Movie\", \"Movie\", \"Movie\", \"Movie\", \"Movie\", \"TV Show\", \"Movie\", \"Movie\", \"Movie\", \"Movie\", \"TV Show\", \"Movie\", \"TV Show\", \"TV Show\", \"Movie\", \"Movie\", \"TV Show\", \"TV Show\", \"Movie\", \"Movie\", \"Movie\", \"TV Show\", \"Movie\", \"Movie\", \"TV Show\", \"Movie\", \"Movie\", \"Movie\", \"Movie\", \"Movie\", \"Movie\", \"Movie\", \"Movie\", \"Movie\", \"Movie\", \"Movie\", \"TV Show\", \"Movie\", \"Movie\", \"Movie\", \"Movie\", \"Movie\", \"Movie\", \"Movie\", \"Movie\", \"TV Show\", \"Movie\", \"Movie\", \"Movie\", \"Movie\", \"Movie\", \"Movie\", \"Movie\", \"Movie\", \"Movie\", \"Movie\", \"TV Show\", \"Movie\", \"TV Show\", \"TV Show\", \"Movie\", \"Movie\", \"TV Show\", \"Movie\", \"Movie\", \"TV Show\", \"Movie\", \"Movie\", \"Movie\", \"Movie\", \"Movie\", \"TV Show\", \"TV Show\", \"Movie\", \"Movie\", \"Movie\", \"Movie\", \"TV Show\", \"Movie\", \"TV Show\", \"Movie\", \"Movie\", \"Movie\", \"Movie\", \"TV Show\", \"Movie\", \"TV Show\", \"Movie\", \"Movie\", \"Movie\", \"Movie\", \"Movie\", \"Movie\", \"TV Show\", \"Movie\", \"Movie\", \"Movie\", \"Movie\", \"Movie\", \"Movie\", \"TV Show\", \"Movie\", \"Movie\", \"Movie\", \"TV Show\", \"Movie\", \"Movie\", \"Movie\", \"Movie\", \"Movie\", \"TV Show\", \"Movie\", \"Movie\", \"TV Show\", \"Movie\", \"Movie\", \"Movie\", \"Movie\", \"Movie\", \"TV Show\", \"TV Show\", \"Movie\", \"Movie\", \"TV Show\", \"Movie\", \"Movie\", \"Movie\", \"Movie\", \"Movie\", \"Movie\", \"Movie\", \"Movie\", \"TV Show\", \"TV Show\", \"Movie\", \"Movie\", \"Movie\", \"Movie\", \"Movie\", \"Movie\", \"Movie\", \"Movie\", \"Movie\", \"Movie\", \"Movie\", \"Movie\", \"TV Show\", \"TV Show\", \"TV Show\", \"TV Show\", \"Movie\", \"Movie\", \"Movie\", \"TV Show\", \"TV Show\", \"Movie\", \"Movie\", \"Movie\", \"TV Show\", \"Movie\", \"TV Show\", \"Movie\", \"Movie\", \"Movie\", \"Movie\", \"Movie\", \"Movie\", \"Movie\", \"TV Show\", \"Movie\", \"Movie\", \"Movie\", \"Movie\", \"Movie\", \"Movie\", \"TV Show\", \"Movie\", \"Movie\", \"Movie\", \"TV Show\", \"Movie\", \"Movie\", \"TV Show\", \"Movie\", \"TV Show\", \"TV Show\", \"Movie\", \"Movie\", \"Movie\", \"Movie\", \"Movie\", \"Movie\", \"TV Show\", \"Movie\", \"TV Show\", \"Movie\", \"Movie\", \"Movie\", \"TV Show\", \"Movie\", \"TV Show\", \"TV Show\", \"TV Show\", \"TV Show\", \"TV Show\", \"Movie\", \"Movie\", \"Movie\", \"TV Show\", \"TV Show\", \"TV Show\", \"TV Show\", \"TV Show\", \"TV Show\", \"TV Show\", \"Movie\", \"TV Show\", \"Movie\", \"Movie\", \"TV Show\", \"Movie\", \"TV Show\", \"Movie\", \"Movie\", \"TV Show\", \"Movie\", \"Movie\", \"Movie\", \"Movie\", \"Movie\", \"TV Show\", \"TV Show\", \"Movie\", \"Movie\", \"TV Show\", \"Movie\", \"Movie\", \"Movie\", \"Movie\", \"Movie\", \"TV Show\", \"Movie\", \"Movie\", \"Movie\", \"Movie\", \"TV Show\", \"Movie\", \"TV Show\", \"Movie\", \"Movie\", \"Movie\", \"TV Show\", \"Movie\", \"Movie\", \"Movie\", \"Movie\", \"Movie\", \"Movie\", \"TV Show\", \"TV Show\", \"Movie\", \"Movie\", \"Movie\", \"Movie\", \"TV Show\", \"TV Show\", \"Movie\", \"TV Show\", \"Movie\", \"Movie\", \"Movie\", \"TV Show\", \"Movie\", \"Movie\", \"TV Show\", \"Movie\", \"TV Show\", \"TV Show\", \"Movie\", \"Movie\", \"Movie\", \"TV Show\", \"TV Show\", \"Movie\", \"TV Show\", \"TV Show\", \"TV Show\", \"TV Show\", \"Movie\", \"Movie\", \"Movie\", \"Movie\", \"Movie\", \"Movie\", \"Movie\", \"Movie\", \"TV Show\", \"TV Show\", \"TV Show\", \"TV Show\", \"Movie\", \"TV Show\", \"TV Show\", \"TV Show\", \"TV Show\", \"Movie\", \"Movie\", \"TV Show\", \"TV Show\", \"Movie\", \"Movie\", \"TV Show\", \"Movie\", \"Movie\", \"Movie\", \"Movie\", \"TV Show\", \"Movie\", \"Movie\", \"Movie\", \"Movie\", \"Movie\", \"Movie\", \"Movie\", \"Movie\", \"Movie\", \"Movie\", \"Movie\", \"Movie\", \"TV Show\", \"Movie\", \"TV Show\", \"Movie\", \"Movie\", \"TV Show\", \"TV Show\", \"Movie\", \"Movie\", \"Movie\", \"TV Show\", \"TV Show\", \"TV Show\", \"Movie\", \"Movie\", \"Movie\", \"TV Show\", \"Movie\", \"Movie\", \"TV Show\", \"Movie\", \"Movie\", \"Movie\", \"Movie\", \"Movie\", \"TV Show\", \"Movie\", \"Movie\", \"Movie\", \"Movie\", \"TV Show\", \"Movie\", \"Movie\", \"Movie\", \"Movie\", \"Movie\", \"TV Show\", \"Movie\", \"TV Show\", \"Movie\", \"Movie\", \"Movie\", \"Movie\", \"TV Show\", \"Movie\", \"Movie\", \"Movie\", \"Movie\", \"TV Show\", \"TV Show\", \"TV Show\", \"Movie\", \"Movie\", \"Movie\", \"Movie\", \"TV Show\", \"Movie\", \"Movie\", \"Movie\", \"TV Show\", \"TV Show\", \"TV Show\", \"Movie\", \"Movie\", \"Movie\", \"Movie\", \"Movie\", \"Movie\", \"TV Show\", \"Movie\", \"Movie\", \"Movie\", \"Movie\", \"Movie\", \"Movie\", \"Movie\", \"TV Show\", \"Movie\", \"TV Show\", \"Movie\", \"Movie\", \"TV Show\", \"Movie\", \"TV Show\", \"Movie\", \"Movie\", \"Movie\", \"TV Show\", \"TV Show\", \"Movie\", \"TV Show\", \"TV Show\", \"TV Show\", \"Movie\", \"TV Show\", \"TV Show\", \"Movie\", \"Movie\", \"Movie\", \"TV Show\", \"Movie\", \"TV Show\", \"Movie\", \"Movie\", \"Movie\", \"Movie\", \"Movie\", \"Movie\", \"Movie\", \"Movie\", \"Movie\", \"Movie\", \"Movie\", \"Movie\", \"Movie\", \"TV Show\", \"Movie\", \"Movie\", \"TV Show\", \"TV Show\", \"Movie\", \"TV Show\", \"Movie\", \"Movie\", \"TV Show\", \"TV Show\", \"Movie\", \"TV Show\", \"TV Show\", \"Movie\", \"TV Show\", \"Movie\", \"TV Show\", \"Movie\", \"Movie\", \"Movie\", \"TV Show\", \"Movie\", \"TV Show\", \"Movie\", \"TV Show\", \"Movie\", \"TV Show\", \"Movie\", \"TV Show\", \"Movie\", \"Movie\", \"Movie\", \"TV Show\", \"Movie\", \"Movie\", \"TV Show\", \"Movie\", \"Movie\", \"Movie\", \"TV Show\", \"Movie\", \"TV Show\", \"TV Show\", \"TV Show\", \"Movie\", \"Movie\", \"TV Show\", \"TV Show\", \"Movie\", \"Movie\", \"Movie\", \"Movie\", \"Movie\", \"Movie\", \"Movie\", \"Movie\", \"Movie\", \"TV Show\", \"TV Show\", \"TV Show\", \"Movie\", \"Movie\", \"TV Show\", \"Movie\", \"Movie\", \"TV Show\", \"TV Show\", \"Movie\", \"TV Show\", \"Movie\", \"Movie\", \"TV Show\", \"TV Show\", \"Movie\", \"Movie\", \"Movie\", \"TV Show\", \"TV Show\", \"TV Show\", \"Movie\", \"TV Show\", \"TV Show\", \"Movie\", \"Movie\", \"Movie\", \"TV Show\", \"Movie\", \"Movie\", \"TV Show\", \"Movie\", \"TV Show\", \"TV Show\", \"TV Show\", \"Movie\", \"Movie\", \"Movie\", \"Movie\", \"Movie\", \"TV Show\", \"Movie\", \"Movie\", \"TV Show\", \"Movie\", \"Movie\", \"TV Show\", \"Movie\", \"Movie\", \"Movie\", \"Movie\", \"Movie\", \"Movie\", \"Movie\", \"TV Show\", \"TV Show\", \"Movie\", \"TV Show\", \"Movie\", \"Movie\", \"TV Show\", \"Movie\", \"Movie\", \"Movie\", \"Movie\", \"Movie\", \"TV Show\", \"Movie\", \"Movie\", \"TV Show\", \"Movie\", \"Movie\", \"Movie\", \"Movie\", \"Movie\", \"TV Show\", \"Movie\", \"TV Show\", \"Movie\", \"TV Show\", \"Movie\", \"Movie\", \"TV Show\", \"Movie\", \"Movie\", \"Movie\", \"Movie\", \"TV Show\", \"Movie\", \"Movie\", \"TV Show\", \"Movie\", \"Movie\", \"Movie\", \"TV Show\", \"Movie\", \"Movie\", \"TV Show\", \"Movie\", \"Movie\", \"Movie\", \"TV Show\", \"Movie\", \"Movie\", \"Movie\", \"Movie\", \"Movie\", \"Movie\", \"Movie\", \"Movie\", \"Movie\", \"Movie\", \"TV Show\", \"TV Show\", \"Movie\", \"TV Show\", \"Movie\", \"TV Show\", \"TV Show\", \"Movie\", \"Movie\", \"Movie\", \"Movie\", \"Movie\", \"Movie\", \"TV Show\", \"Movie\", \"Movie\", \"Movie\", \"Movie\", \"Movie\", \"Movie\", \"Movie\", \"TV Show\", \"Movie\", \"Movie\", \"Movie\", \"Movie\", \"TV Show\", \"Movie\", \"Movie\", \"TV Show\", \"TV Show\", \"Movie\", \"Movie\", \"Movie\", \"Movie\", \"Movie\", \"TV Show\", \"TV Show\", \"TV Show\", \"TV Show\", \"TV Show\", \"Movie\", \"Movie\", \"TV Show\", \"TV Show\", \"Movie\", \"Movie\", \"Movie\", \"Movie\", \"Movie\", \"Movie\", \"TV Show\", \"Movie\", \"Movie\", \"Movie\", \"Movie\", \"TV Show\", \"Movie\", \"Movie\", \"Movie\", \"Movie\", \"Movie\", \"Movie\", \"Movie\", \"Movie\", \"Movie\", \"Movie\", \"Movie\", \"Movie\", \"Movie\", \"TV Show\", \"TV Show\", \"Movie\", \"Movie\", \"TV Show\", \"Movie\", \"Movie\", \"Movie\", \"Movie\", \"Movie\", \"Movie\", \"Movie\", \"Movie\", \"TV Show\", \"Movie\", \"TV Show\", \"Movie\", \"Movie\", \"Movie\", \"Movie\", \"TV Show\", \"Movie\", \"Movie\", \"TV Show\", \"Movie\", \"TV Show\", \"Movie\", \"TV Show\", \"TV Show\", \"Movie\", \"Movie\", \"Movie\", \"Movie\", \"Movie\", \"Movie\", \"Movie\", \"Movie\", \"Movie\", \"Movie\", \"TV Show\", \"Movie\", \"TV Show\", \"TV Show\", \"Movie\", \"Movie\", \"TV Show\", \"Movie\", \"TV Show\", \"Movie\", \"Movie\", \"Movie\", \"TV Show\", \"TV Show\", \"Movie\", \"Movie\", \"Movie\", \"Movie\", \"TV Show\", \"TV Show\", \"Movie\", \"Movie\", \"Movie\", \"Movie\", \"Movie\", \"TV Show\", \"Movie\", \"Movie\", \"Movie\", \"Movie\", \"Movie\", \"Movie\", \"Movie\", \"Movie\", \"Movie\", \"TV Show\", \"Movie\", \"TV Show\", \"Movie\", \"Movie\", \"Movie\", \"Movie\", \"Movie\", \"Movie\", \"Movie\", \"Movie\", \"TV Show\", \"TV Show\", \"TV Show\", \"Movie\", \"TV Show\", \"Movie\", \"TV Show\", \"Movie\", \"Movie\", \"TV Show\", \"TV Show\", \"Movie\", \"TV Show\", \"TV Show\", \"Movie\", \"TV Show\", \"TV Show\", \"TV Show\", \"TV Show\", \"TV Show\", \"TV Show\", \"Movie\", \"TV Show\", \"TV Show\", \"TV Show\", \"Movie\", \"TV Show\", \"TV Show\", \"Movie\", \"Movie\", \"TV Show\", \"Movie\", \"TV Show\", \"Movie\", \"Movie\", \"TV Show\", \"Movie\", \"Movie\", \"TV Show\", \"Movie\", \"Movie\", \"Movie\", \"Movie\", \"Movie\", \"Movie\", \"Movie\", \"Movie\", \"Movie\", \"Movie\", \"Movie\", \"Movie\", \"Movie\", \"Movie\", \"Movie\", \"Movie\", \"TV Show\", \"Movie\", \"Movie\", \"TV Show\", \"Movie\", \"TV Show\", \"Movie\", \"Movie\", \"TV Show\", \"Movie\", \"Movie\", \"Movie\", \"Movie\", \"Movie\", \"Movie\", \"Movie\", \"TV Show\", \"Movie\", \"TV Show\", \"Movie\", \"Movie\", \"Movie\", \"Movie\", \"Movie\", \"TV Show\", \"Movie\", \"Movie\", \"Movie\", \"TV Show\", \"Movie\", \"TV Show\", \"Movie\", \"Movie\", \"Movie\", \"TV Show\", \"TV Show\", \"Movie\", \"TV Show\", \"Movie\", \"Movie\", \"Movie\", \"Movie\", \"Movie\", \"Movie\", \"Movie\", \"TV Show\", \"Movie\", \"Movie\", \"Movie\", \"TV Show\", \"Movie\", \"Movie\", \"Movie\", \"Movie\", \"Movie\", \"Movie\", \"Movie\", \"Movie\", \"Movie\", \"Movie\", \"TV Show\", \"Movie\", \"Movie\", \"Movie\", \"Movie\", \"TV Show\", \"TV Show\", \"Movie\", \"Movie\", \"TV Show\", \"Movie\", \"Movie\", \"TV Show\", \"TV Show\", \"Movie\", \"Movie\", \"Movie\", \"Movie\", \"Movie\", \"Movie\", \"Movie\", \"Movie\", \"Movie\", \"Movie\", \"Movie\", \"Movie\", \"Movie\", \"Movie\", \"Movie\", \"Movie\", \"TV Show\", \"Movie\", \"Movie\", \"Movie\", \"TV Show\", \"Movie\", \"TV Show\", \"Movie\", \"Movie\", \"TV Show\", \"Movie\", \"Movie\", \"Movie\", \"Movie\", \"Movie\", \"Movie\", \"Movie\", \"Movie\", \"Movie\", \"Movie\", \"Movie\", \"TV Show\", \"Movie\", \"Movie\", \"Movie\", \"Movie\", \"Movie\", \"Movie\", \"Movie\", \"Movie\", \"Movie\", \"Movie\", \"Movie\", \"Movie\", \"Movie\", \"Movie\", \"Movie\", \"TV Show\", \"Movie\", \"Movie\", \"TV Show\", \"TV Show\", \"Movie\", \"Movie\", \"Movie\", \"Movie\", \"Movie\", \"Movie\", \"Movie\", \"Movie\", \"Movie\", \"Movie\", \"Movie\", \"Movie\", \"Movie\", \"Movie\", \"Movie\", \"Movie\", \"Movie\", \"Movie\", \"Movie\", \"Movie\", \"Movie\", \"Movie\", \"Movie\", \"Movie\", \"Movie\", \"Movie\", \"Movie\", \"TV Show\", \"TV Show\", \"TV Show\", \"Movie\", \"Movie\", \"Movie\", \"Movie\", \"TV Show\", \"Movie\", \"Movie\", \"Movie\", \"TV Show\", \"Movie\", \"Movie\", \"TV Show\", \"TV Show\", \"TV Show\", \"Movie\", \"Movie\", \"Movie\", \"Movie\", \"Movie\", \"Movie\", \"Movie\", \"Movie\", \"Movie\", \"TV Show\", \"TV Show\", \"TV Show\", \"TV Show\", \"TV Show\", \"Movie\", \"Movie\", \"Movie\", \"TV Show\", \"Movie\", \"Movie\", \"Movie\", \"Movie\", \"Movie\", \"TV Show\", \"Movie\", \"TV Show\", \"Movie\", \"Movie\", \"Movie\", \"TV Show\", \"TV Show\", \"Movie\", \"TV Show\", \"Movie\", \"TV Show\", \"Movie\", \"TV Show\", \"TV Show\", \"TV Show\", \"Movie\", \"TV Show\", \"Movie\", \"Movie\", \"Movie\", \"Movie\", \"Movie\", \"Movie\", \"Movie\", \"Movie\", \"Movie\", \"TV Show\", \"Movie\", \"Movie\", \"Movie\", \"Movie\", \"Movie\", \"Movie\", \"Movie\", \"Movie\", \"Movie\", \"TV Show\", \"Movie\", \"Movie\", \"Movie\", \"Movie\", \"Movie\", \"Movie\", \"Movie\", \"Movie\", \"Movie\", \"Movie\", \"Movie\", \"Movie\", \"TV Show\", \"Movie\", \"Movie\", \"Movie\", \"Movie\", \"Movie\", \"Movie\", \"Movie\", \"Movie\", \"Movie\", \"Movie\", \"Movie\", \"Movie\", \"Movie\", \"TV Show\", \"Movie\", \"Movie\", \"Movie\", \"Movie\", \"Movie\", \"Movie\", \"Movie\", \"Movie\", \"Movie\", \"Movie\", \"Movie\", \"Movie\", \"Movie\", \"TV Show\", \"Movie\", \"Movie\", \"TV Show\", \"TV Show\", \"TV Show\", \"TV Show\", \"Movie\", \"TV Show\", \"Movie\", \"TV Show\", \"Movie\", \"Movie\", \"Movie\", \"Movie\", \"Movie\", \"Movie\", \"Movie\", \"Movie\", \"Movie\", \"Movie\", \"Movie\", \"TV Show\", \"Movie\", \"TV Show\", \"TV Show\", \"Movie\", \"Movie\", \"Movie\", \"Movie\", \"TV Show\", \"Movie\", \"Movie\", \"Movie\", \"TV Show\", \"Movie\", \"Movie\", \"Movie\", \"TV Show\", \"Movie\", \"TV Show\", \"Movie\", \"Movie\", \"Movie\", \"Movie\", \"Movie\", \"Movie\", \"Movie\", \"TV Show\", \"Movie\", \"Movie\", \"Movie\", \"Movie\", \"Movie\", \"Movie\", \"TV Show\", \"Movie\", \"TV Show\", \"TV Show\", \"Movie\", \"Movie\", \"Movie\", \"Movie\", \"Movie\", \"TV Show\", \"Movie\", \"Movie\", \"Movie\", \"Movie\", \"TV Show\", \"TV Show\", \"Movie\", \"TV Show\", \"Movie\", \"Movie\", \"TV Show\", \"TV Show\", \"Movie\", \"Movie\", \"Movie\", \"Movie\", \"TV Show\", \"Movie\", \"Movie\", \"TV Show\", \"TV Show\", \"Movie\", \"TV Show\", \"Movie\", \"Movie\", \"TV Show\", \"TV Show\", \"Movie\", \"Movie\", \"Movie\", \"Movie\", \"TV Show\", \"TV Show\", \"Movie\", \"Movie\", \"Movie\", \"Movie\", \"Movie\", \"Movie\", \"Movie\", \"TV Show\", \"Movie\", \"TV Show\", \"TV Show\", \"TV Show\", \"TV Show\", \"Movie\", \"Movie\", \"Movie\", \"Movie\", \"Movie\", \"Movie\", \"Movie\", \"Movie\", \"Movie\", \"Movie\", \"Movie\", \"Movie\", \"TV Show\", \"Movie\", \"Movie\", \"Movie\", \"Movie\", \"Movie\", \"Movie\", \"Movie\", \"TV Show\", \"TV Show\", \"Movie\", \"Movie\", \"Movie\", \"Movie\", \"Movie\", \"Movie\", \"Movie\", \"Movie\", \"TV Show\", \"TV Show\", \"Movie\", \"TV Show\", \"Movie\", \"Movie\", \"Movie\", \"Movie\", \"Movie\", \"Movie\", \"Movie\", \"TV Show\", \"Movie\", \"Movie\", \"Movie\", \"Movie\", \"TV Show\", \"Movie\", \"TV Show\", \"TV Show\", \"TV Show\", \"Movie\", \"TV Show\", \"TV Show\", \"Movie\", \"TV Show\", \"TV Show\", \"Movie\", \"TV Show\", \"TV Show\", \"TV Show\", \"TV Show\", \"TV Show\", \"TV Show\", \"Movie\", \"Movie\", \"Movie\", \"Movie\", \"TV Show\", \"Movie\", \"Movie\", \"Movie\", \"TV Show\", \"Movie\", \"Movie\", \"Movie\", \"TV Show\", \"Movie\", \"Movie\", \"Movie\", \"Movie\", \"Movie\", \"Movie\", \"Movie\", \"TV Show\", \"Movie\", \"Movie\", \"Movie\", \"TV Show\", \"Movie\", \"TV Show\", \"TV Show\", \"TV Show\", \"TV Show\", \"Movie\", \"TV Show\", \"Movie\", \"Movie\", \"TV Show\", \"Movie\", \"Movie\", \"TV Show\", \"Movie\", \"Movie\", \"Movie\", \"TV Show\", \"Movie\", \"TV Show\", \"Movie\", \"Movie\", \"Movie\", \"Movie\", \"Movie\", \"TV Show\", \"Movie\", \"Movie\", \"Movie\", \"Movie\", \"Movie\", \"Movie\", \"TV Show\", \"TV Show\", \"Movie\", \"Movie\", \"Movie\", \"TV Show\", \"Movie\", \"Movie\", \"Movie\", \"TV Show\", \"TV Show\", \"Movie\", \"TV Show\", \"Movie\", \"Movie\", \"TV Show\", \"Movie\", \"TV Show\", \"TV Show\", \"TV Show\", \"TV Show\", \"Movie\", \"TV Show\", \"TV Show\", \"Movie\", \"Movie\", \"Movie\", \"Movie\", \"TV Show\", \"TV Show\", \"Movie\", \"TV Show\", \"Movie\", \"TV Show\", \"Movie\", \"TV Show\", \"Movie\", \"TV Show\", \"Movie\", \"Movie\", \"Movie\", \"Movie\", \"Movie\", \"Movie\", \"Movie\", \"Movie\", \"Movie\", \"TV Show\", \"TV Show\", \"TV Show\", \"TV Show\", \"Movie\", \"Movie\", \"Movie\", \"Movie\", \"Movie\", \"TV Show\", \"Movie\", \"TV Show\", \"Movie\", \"Movie\", \"Movie\", \"Movie\", \"Movie\", \"Movie\", \"TV Show\", \"Movie\", \"TV Show\", \"TV Show\", \"TV Show\", \"Movie\", \"Movie\", \"Movie\", \"Movie\", \"Movie\", \"Movie\", \"Movie\", \"Movie\", \"Movie\", \"Movie\", \"TV Show\", \"Movie\", \"TV Show\", \"Movie\", \"Movie\", \"Movie\", \"TV Show\", \"Movie\", \"Movie\", \"Movie\", \"Movie\", \"Movie\", \"Movie\", \"TV Show\", \"Movie\", \"Movie\", \"Movie\", \"TV Show\", \"Movie\", \"Movie\", \"Movie\", \"Movie\", \"Movie\", \"Movie\", \"TV Show\", \"Movie\", \"Movie\", \"Movie\", \"Movie\", \"Movie\", \"Movie\", \"Movie\", \"Movie\", \"TV Show\", \"TV Show\", \"TV Show\", \"TV Show\", \"TV Show\", \"Movie\", \"TV Show\", \"Movie\", \"TV Show\", \"TV Show\", \"Movie\", \"TV Show\", \"Movie\", \"Movie\", \"TV Show\", \"TV Show\", \"TV Show\", \"Movie\", \"Movie\", \"Movie\", \"Movie\", \"TV Show\", \"Movie\", \"TV Show\", \"Movie\", \"Movie\", \"TV Show\", \"Movie\", \"Movie\", \"Movie\", \"TV Show\", \"Movie\", \"Movie\", \"Movie\", \"Movie\", \"TV Show\", \"Movie\", \"Movie\", \"TV Show\", \"TV Show\", \"Movie\", \"Movie\", \"Movie\", \"Movie\", \"Movie\", \"TV Show\", \"Movie\", \"Movie\", \"TV Show\", \"Movie\", \"TV Show\", \"Movie\", \"TV Show\", \"Movie\", \"TV Show\", \"Movie\", \"Movie\", \"TV Show\", \"TV Show\", \"Movie\", \"Movie\", \"Movie\", \"Movie\", \"TV Show\", \"TV Show\", \"TV Show\", \"TV Show\", \"Movie\", \"TV Show\", \"TV Show\", \"TV Show\", \"Movie\", \"TV Show\", \"Movie\", \"TV Show\", \"TV Show\", \"Movie\", \"TV Show\", \"Movie\", \"Movie\", \"TV Show\", \"Movie\", \"Movie\", \"Movie\", \"TV Show\", \"Movie\", \"Movie\", \"Movie\", \"Movie\", \"TV Show\", \"TV Show\", \"Movie\", \"TV Show\", \"Movie\", \"Movie\", \"Movie\", \"TV Show\", \"Movie\", \"TV Show\", \"TV Show\", \"Movie\", \"Movie\", \"TV Show\", \"Movie\", \"Movie\", \"Movie\", \"TV Show\", \"TV Show\", \"TV Show\", \"Movie\", \"Movie\", \"Movie\", \"Movie\", \"TV Show\", \"Movie\", \"TV Show\", \"Movie\", \"Movie\", \"Movie\", \"Movie\", \"Movie\", \"Movie\", \"Movie\", \"Movie\", \"Movie\", \"Movie\", \"Movie\", \"Movie\", \"Movie\", \"Movie\", \"Movie\", \"TV Show\", \"Movie\", \"Movie\", \"Movie\", \"TV Show\", \"Movie\", \"Movie\", \"TV Show\", \"TV Show\", \"Movie\", \"TV Show\", \"TV Show\", \"TV Show\", \"TV Show\", \"TV Show\", \"TV Show\", \"Movie\", \"Movie\", \"Movie\", \"Movie\", \"Movie\", \"Movie\", \"Movie\", \"Movie\", \"Movie\", \"Movie\", \"Movie\", \"Movie\", \"Movie\", \"Movie\", \"Movie\", \"TV Show\", \"Movie\", \"Movie\", \"Movie\", \"Movie\", \"Movie\", \"TV Show\", \"Movie\", \"Movie\", \"TV Show\", \"Movie\", \"Movie\", \"Movie\", \"TV Show\", \"TV Show\", \"TV Show\", \"TV Show\", \"TV Show\", \"Movie\", \"TV Show\", \"Movie\", \"Movie\", \"Movie\", \"Movie\", \"Movie\", \"Movie\", \"TV Show\", \"TV Show\", \"Movie\", \"TV Show\", \"Movie\", \"TV Show\", \"TV Show\", \"Movie\", \"Movie\", \"Movie\", \"Movie\", \"Movie\", \"TV Show\", \"TV Show\", \"Movie\", \"Movie\", \"TV Show\", \"Movie\", \"Movie\", \"Movie\", \"Movie\", \"Movie\", \"Movie\", \"Movie\", \"Movie\", \"TV Show\", \"Movie\", \"Movie\", \"Movie\", \"TV Show\", \"TV Show\", \"Movie\", \"TV Show\", \"Movie\", \"TV Show\", \"TV Show\", \"Movie\", \"Movie\", \"Movie\", \"Movie\", \"Movie\", \"Movie\", \"TV Show\", \"TV Show\", \"Movie\", \"Movie\", \"Movie\", \"Movie\", \"Movie\", \"Movie\", \"Movie\", \"Movie\", \"Movie\", \"Movie\", \"Movie\", \"Movie\", \"Movie\", \"Movie\", \"Movie\", \"Movie\", \"TV Show\", \"Movie\", \"TV Show\", \"Movie\", \"Movie\", \"Movie\", \"Movie\", \"TV Show\", \"TV Show\", \"TV Show\", \"Movie\", \"TV Show\", \"Movie\", \"Movie\", \"Movie\", \"Movie\", \"Movie\", \"TV Show\", \"Movie\", \"Movie\", \"TV Show\", \"Movie\", \"Movie\", \"Movie\", \"Movie\", \"TV Show\", \"TV Show\", \"TV Show\", \"Movie\", \"Movie\", \"Movie\", \"Movie\", \"Movie\", \"Movie\", \"TV Show\", \"TV Show\", \"Movie\", \"TV Show\", \"TV Show\", \"Movie\", \"TV Show\", \"Movie\", \"TV Show\", \"TV Show\", \"TV Show\", \"TV Show\", \"Movie\", \"Movie\", \"Movie\", \"TV Show\", \"TV Show\", \"Movie\", \"TV Show\", \"Movie\", \"TV Show\", \"TV Show\", \"TV Show\", \"Movie\", \"Movie\", \"Movie\", \"TV Show\", \"Movie\", \"Movie\", \"Movie\", \"Movie\", \"Movie\", \"Movie\", \"Movie\", \"Movie\", \"Movie\", \"Movie\", \"Movie\", \"Movie\", \"Movie\", \"Movie\", \"Movie\", \"Movie\", \"Movie\", \"Movie\", \"Movie\", \"Movie\", \"Movie\", \"Movie\", \"Movie\", \"TV Show\", \"TV Show\", \"TV Show\", \"TV Show\", \"Movie\", \"Movie\", \"TV Show\", \"Movie\", \"Movie\", \"TV Show\", \"TV Show\", \"TV Show\", \"Movie\", \"Movie\", \"Movie\", \"TV Show\", \"Movie\", \"Movie\", \"Movie\", \"TV Show\", \"Movie\", \"TV Show\", \"Movie\", \"Movie\", \"TV Show\", \"Movie\", \"Movie\", \"Movie\", \"Movie\", \"Movie\", \"Movie\", \"Movie\", \"Movie\", \"Movie\", \"TV Show\", \"Movie\", \"Movie\", \"TV Show\", \"TV Show\", \"TV Show\", \"Movie\", \"Movie\", \"Movie\", \"Movie\", \"TV Show\", \"Movie\", \"TV Show\", \"TV Show\", \"Movie\", \"Movie\", \"TV Show\", \"Movie\", \"Movie\", \"Movie\", \"Movie\", \"Movie\", \"TV Show\", \"Movie\", \"Movie\", \"Movie\", \"Movie\", \"Movie\", \"Movie\", \"Movie\", \"Movie\", \"Movie\", \"TV Show\", \"Movie\", \"TV Show\", \"TV Show\", \"TV Show\", \"Movie\", \"TV Show\", \"Movie\", \"TV Show\", \"TV Show\", \"TV Show\", \"TV Show\", \"TV Show\", \"TV Show\", \"Movie\", \"Movie\", \"Movie\", \"Movie\", \"Movie\", \"Movie\", \"Movie\", \"Movie\", \"Movie\", \"Movie\", \"Movie\", \"Movie\", \"Movie\", \"TV Show\", \"TV Show\", \"TV Show\", \"TV Show\", \"TV Show\", \"Movie\", \"Movie\", \"TV Show\", \"Movie\", \"Movie\", \"TV Show\", \"TV Show\", \"TV Show\", \"TV Show\", \"Movie\", \"Movie\", \"TV Show\", \"Movie\", \"Movie\", \"TV Show\", \"Movie\", \"Movie\", \"Movie\", \"Movie\", \"Movie\", \"TV Show\", \"Movie\", \"Movie\", \"Movie\", \"TV Show\", \"Movie\", \"TV Show\", \"TV Show\", \"Movie\", \"TV Show\", \"Movie\", \"Movie\", \"Movie\", \"Movie\", \"TV Show\", \"Movie\", \"TV Show\", \"Movie\", \"Movie\", \"Movie\", \"Movie\", \"Movie\", \"Movie\", \"Movie\", \"Movie\", \"Movie\", \"Movie\", \"Movie\", \"Movie\", \"TV Show\", \"TV Show\", \"TV Show\", \"Movie\", \"TV Show\", \"Movie\", \"Movie\", \"Movie\", \"Movie\", \"Movie\", \"Movie\", \"TV Show\", \"Movie\", \"Movie\", \"TV Show\", \"Movie\", \"Movie\", \"TV Show\", \"Movie\", \"TV Show\", \"Movie\", \"Movie\", \"Movie\", \"TV Show\", \"TV Show\", \"TV Show\", \"Movie\", \"Movie\", \"Movie\", \"Movie\", \"Movie\", \"Movie\", \"Movie\", \"Movie\", \"Movie\", \"Movie\", \"Movie\", \"Movie\", \"Movie\", \"Movie\", \"Movie\", \"Movie\", \"Movie\", \"Movie\", \"Movie\", \"TV Show\", \"Movie\", \"Movie\", \"TV Show\", \"TV Show\", \"TV Show\", \"Movie\", \"TV Show\", \"Movie\", \"Movie\", \"Movie\", \"Movie\", \"Movie\", \"Movie\", \"TV Show\", \"TV Show\", \"TV Show\", \"Movie\", \"TV Show\", \"TV Show\", \"Movie\", \"Movie\", \"Movie\", \"Movie\", \"TV Show\", \"TV Show\", \"Movie\", \"TV Show\", \"Movie\", \"Movie\", \"Movie\", \"TV Show\", \"TV Show\", \"Movie\", \"Movie\", \"Movie\", \"TV Show\", \"Movie\", \"Movie\", \"TV Show\", \"Movie\", \"Movie\", \"TV Show\", \"Movie\", \"TV Show\", \"TV Show\", \"Movie\", \"Movie\", \"Movie\", \"Movie\", \"Movie\", \"TV Show\", \"Movie\", \"Movie\", \"Movie\", \"Movie\", \"Movie\", \"TV Show\", \"Movie\", \"Movie\", \"TV Show\", \"Movie\", \"Movie\", \"Movie\", \"Movie\", \"Movie\", \"Movie\", \"Movie\", \"Movie\", \"Movie\", \"Movie\", \"Movie\", \"Movie\", \"Movie\", \"Movie\", \"Movie\", \"Movie\", \"Movie\", \"Movie\", \"Movie\", \"Movie\", \"Movie\", \"Movie\", \"Movie\", \"Movie\", \"Movie\", \"TV Show\", \"TV Show\", \"Movie\", \"Movie\", \"Movie\", \"TV Show\", \"TV Show\", \"Movie\", \"Movie\", \"Movie\", \"TV Show\", \"Movie\", \"Movie\", \"Movie\", \"Movie\", \"Movie\", \"TV Show\", \"Movie\", \"Movie\", \"Movie\", \"Movie\", \"Movie\", \"TV Show\", \"Movie\", \"TV Show\", \"TV Show\", \"Movie\", \"Movie\", \"Movie\", \"Movie\", \"TV Show\", \"Movie\", \"Movie\", \"Movie\", \"Movie\", \"TV Show\", \"Movie\", \"Movie\", \"TV Show\", \"TV Show\", \"Movie\", \"TV Show\", \"TV Show\", \"Movie\", \"Movie\", \"Movie\", \"Movie\", \"Movie\", \"Movie\", \"TV Show\", \"TV Show\", \"Movie\", \"TV Show\", \"TV Show\", \"Movie\", \"Movie\", \"TV Show\", \"Movie\", \"Movie\", \"TV Show\", \"Movie\", \"TV Show\", \"TV Show\", \"TV Show\", \"Movie\", \"Movie\", \"TV Show\", \"TV Show\", \"Movie\", \"Movie\", \"Movie\", \"Movie\", \"Movie\", \"Movie\", \"TV Show\", \"Movie\", \"Movie\", \"Movie\", \"Movie\", \"Movie\", \"Movie\", \"Movie\", \"TV Show\", \"TV Show\", \"TV Show\", \"Movie\", \"TV Show\", \"Movie\", \"TV Show\", \"Movie\", \"TV Show\", \"TV Show\", \"Movie\", \"Movie\", \"Movie\", \"Movie\", \"TV Show\", \"Movie\", \"TV Show\", \"TV Show\", \"TV Show\", \"TV Show\", \"TV Show\", \"TV Show\", \"TV Show\", \"Movie\", \"Movie\", \"Movie\", \"Movie\", \"Movie\", \"Movie\", \"Movie\", \"Movie\", \"Movie\", \"TV Show\", \"TV Show\", \"TV Show\", \"TV Show\", \"Movie\", \"Movie\", \"Movie\", \"Movie\", \"Movie\", \"Movie\", \"Movie\", \"Movie\", \"Movie\", \"Movie\", \"Movie\", \"Movie\", \"Movie\", \"Movie\", \"Movie\", \"Movie\", \"Movie\", \"Movie\", \"Movie\", \"Movie\", \"Movie\", \"Movie\", \"Movie\", \"TV Show\", \"TV Show\", \"Movie\", \"TV Show\", \"TV Show\", \"TV Show\", \"TV Show\", \"Movie\", \"Movie\", \"TV Show\", \"TV Show\", \"Movie\", \"Movie\", \"Movie\", \"Movie\", \"Movie\", \"TV Show\", \"TV Show\", \"Movie\", \"Movie\", \"TV Show\", \"TV Show\", \"Movie\", \"TV Show\", \"Movie\", \"Movie\", \"Movie\", \"Movie\", \"Movie\", \"Movie\", \"Movie\", \"TV Show\", \"Movie\", \"TV Show\", \"Movie\", \"Movie\", \"Movie\", \"Movie\", \"TV Show\", \"Movie\", \"TV Show\", \"Movie\", \"TV Show\", \"TV Show\", \"TV Show\", \"Movie\", \"Movie\", \"Movie\", \"Movie\", \"Movie\", \"TV Show\", \"TV Show\", \"Movie\", \"TV Show\", \"Movie\", \"Movie\", \"Movie\", \"Movie\", \"Movie\", \"TV Show\", \"Movie\", \"TV Show\", \"Movie\", \"Movie\", \"Movie\", \"Movie\", \"Movie\", \"TV Show\", \"TV Show\", \"TV Show\", \"Movie\", \"Movie\", \"Movie\", \"Movie\", \"TV Show\", \"Movie\", \"TV Show\", \"TV Show\", \"Movie\", \"Movie\", \"Movie\", \"Movie\", \"Movie\", \"TV Show\", \"TV Show\", \"TV Show\", \"Movie\", \"Movie\", \"Movie\", \"Movie\", \"Movie\", \"Movie\", \"Movie\", \"Movie\", \"Movie\", \"Movie\", \"Movie\", \"Movie\", \"Movie\", \"Movie\", \"Movie\", \"Movie\", \"Movie\", \"Movie\", \"Movie\", \"Movie\", \"Movie\", \"Movie\", \"Movie\", \"Movie\", \"Movie\", \"Movie\", \"TV Show\", \"Movie\", \"Movie\", \"Movie\", \"Movie\", \"TV Show\", \"TV Show\", \"TV Show\", \"TV Show\", \"Movie\", \"Movie\", \"TV Show\", \"TV Show\", \"TV Show\", \"Movie\", \"Movie\", \"Movie\", \"TV Show\", \"Movie\", \"Movie\", \"Movie\", \"Movie\", \"TV Show\", \"Movie\", \"Movie\", \"Movie\", \"TV Show\", \"TV Show\", \"TV Show\", \"Movie\", \"Movie\", \"TV Show\", \"Movie\", \"Movie\", \"Movie\", \"TV Show\", \"Movie\", \"Movie\", \"TV Show\", \"Movie\", \"Movie\", \"TV Show\", \"TV Show\", \"Movie\", \"TV Show\", \"Movie\", \"Movie\", \"Movie\", \"Movie\", \"TV Show\", \"TV Show\", \"Movie\", \"Movie\", \"Movie\", \"Movie\", \"Movie\", \"TV Show\", \"Movie\", \"Movie\", \"Movie\", \"Movie\", \"TV Show\", \"Movie\", \"TV Show\", \"TV Show\", \"TV Show\", \"Movie\", \"Movie\", \"Movie\", \"Movie\", \"Movie\", \"TV Show\", \"Movie\", \"TV Show\", \"TV Show\", \"Movie\", \"TV Show\", \"Movie\", \"Movie\", \"Movie\", \"Movie\", \"Movie\", \"Movie\", \"Movie\", \"Movie\", \"Movie\", \"Movie\", \"Movie\", \"Movie\", \"Movie\", \"TV Show\", \"TV Show\", \"Movie\", \"Movie\", \"Movie\", \"Movie\", \"Movie\", \"Movie\", \"Movie\", \"TV Show\", \"Movie\", \"Movie\", \"Movie\", \"Movie\", \"Movie\", \"Movie\", \"Movie\", \"Movie\", \"TV Show\", \"Movie\", \"Movie\", \"Movie\", \"TV Show\", \"TV Show\", \"TV Show\", \"TV Show\", \"Movie\", \"TV Show\", \"Movie\", \"Movie\", \"Movie\", \"Movie\", \"Movie\", \"Movie\", \"Movie\", \"Movie\", \"Movie\", \"Movie\", \"TV Show\", \"Movie\", \"Movie\", \"TV Show\", \"TV Show\", \"Movie\", \"Movie\", \"Movie\", \"Movie\", \"TV Show\", \"Movie\", \"TV Show\", \"Movie\", \"Movie\", \"Movie\", \"TV Show\", \"Movie\", \"TV Show\", \"TV Show\", \"Movie\", \"Movie\", \"Movie\", \"Movie\", \"Movie\", \"Movie\", \"Movie\", \"Movie\", \"Movie\", \"TV Show\", \"Movie\", \"Movie\", \"Movie\", \"TV Show\", \"Movie\", \"Movie\", \"Movie\", \"TV Show\", \"TV Show\", \"TV Show\", \"Movie\", \"Movie\", \"Movie\", \"Movie\", \"TV Show\", \"Movie\", \"Movie\", \"Movie\", \"Movie\", \"TV Show\", \"Movie\", \"Movie\", \"TV Show\", \"Movie\", \"Movie\", \"TV Show\", \"Movie\", \"TV Show\", \"TV Show\", \"TV Show\", \"Movie\", \"TV Show\", \"Movie\", \"Movie\", \"TV Show\", \"Movie\", \"Movie\", \"TV Show\", \"Movie\", \"Movie\", \"Movie\", \"Movie\", \"Movie\", \"Movie\", \"Movie\", \"Movie\", \"Movie\", \"TV Show\", \"TV Show\", \"Movie\", \"Movie\", \"Movie\", \"Movie\", \"TV Show\", \"Movie\", \"Movie\", \"Movie\", \"Movie\", \"Movie\", \"Movie\", \"Movie\", \"Movie\", \"TV Show\", \"TV Show\", \"Movie\", \"Movie\", \"TV Show\", \"Movie\", \"TV Show\", \"TV Show\", \"Movie\", \"Movie\", \"TV Show\", \"Movie\", \"TV Show\", \"Movie\", \"Movie\", \"Movie\", \"Movie\", \"Movie\", \"Movie\", \"Movie\", \"TV Show\", \"Movie\", \"Movie\", \"TV Show\", \"Movie\", \"TV Show\", \"Movie\", \"Movie\", \"TV Show\", \"TV Show\", \"Movie\", \"Movie\", \"Movie\", \"Movie\", \"TV Show\", \"Movie\", \"Movie\", \"Movie\", \"TV Show\", \"Movie\", \"Movie\", \"TV Show\", \"Movie\", \"TV Show\", \"Movie\", \"Movie\", \"Movie\", \"TV Show\", \"TV Show\", \"Movie\", \"Movie\", \"Movie\", \"TV Show\", \"Movie\", \"Movie\", \"Movie\", \"Movie\", \"Movie\", \"Movie\", \"Movie\", \"Movie\", \"Movie\", \"TV Show\", \"TV Show\", \"Movie\", \"Movie\", \"Movie\", \"Movie\", \"Movie\", \"Movie\", \"TV Show\", \"Movie\", \"TV Show\", \"TV Show\", \"Movie\", \"Movie\", \"Movie\", \"Movie\", \"Movie\", \"Movie\", \"Movie\", \"Movie\", \"Movie\", \"Movie\", \"Movie\", \"Movie\", \"Movie\", \"Movie\", \"Movie\", \"Movie\", \"Movie\", \"Movie\", \"Movie\", \"Movie\", \"Movie\", \"Movie\", \"Movie\", \"Movie\", \"Movie\", \"TV Show\", \"Movie\", \"TV Show\", \"Movie\", \"Movie\", \"Movie\", \"TV Show\", \"Movie\", \"TV Show\", \"TV Show\", \"Movie\", \"Movie\", \"Movie\", \"TV Show\", \"Movie\", \"Movie\", \"Movie\", \"TV Show\", \"TV Show\", \"Movie\", \"Movie\", \"Movie\", \"Movie\", \"Movie\", \"Movie\", \"Movie\", \"TV Show\", \"Movie\", \"Movie\", \"TV Show\", \"Movie\", \"Movie\", \"Movie\", \"Movie\", \"Movie\", \"Movie\", \"Movie\", \"TV Show\", \"Movie\", \"Movie\", \"TV Show\", \"TV Show\", \"Movie\", \"Movie\", \"Movie\", \"TV Show\", \"TV Show\", \"Movie\", \"TV Show\", \"Movie\", \"Movie\", \"Movie\", \"TV Show\", \"TV Show\", \"TV Show\", \"Movie\", \"TV Show\", \"Movie\", \"Movie\", \"Movie\", \"TV Show\", \"Movie\", \"Movie\", \"Movie\", \"Movie\", \"TV Show\", \"TV Show\", \"Movie\", \"TV Show\", \"TV Show\", \"TV Show\", \"TV Show\", \"TV Show\", \"TV Show\", \"TV Show\", \"TV Show\", \"TV Show\", \"TV Show\", \"TV Show\", \"TV Show\", \"TV Show\", \"TV Show\", \"TV Show\", \"TV Show\", \"Movie\", \"Movie\", \"Movie\", \"TV Show\", \"Movie\", \"TV Show\", \"Movie\", \"Movie\", \"TV Show\", \"TV Show\", \"TV Show\", \"TV Show\", \"TV Show\", \"Movie\", \"Movie\", \"Movie\", \"Movie\", \"TV Show\", \"Movie\", \"Movie\", \"Movie\", \"Movie\", \"TV Show\", \"TV Show\", \"Movie\", \"TV Show\", \"Movie\", \"Movie\", \"Movie\", \"Movie\", \"TV Show\", \"TV Show\", \"Movie\", \"Movie\", \"Movie\", \"TV Show\", \"Movie\", \"TV Show\", \"TV Show\", \"Movie\", \"Movie\", \"TV Show\", \"Movie\", \"TV Show\", \"Movie\", \"Movie\", \"TV Show\", \"Movie\", \"Movie\", \"Movie\", \"TV Show\", \"Movie\", \"Movie\", \"TV Show\", \"TV Show\", \"TV Show\", \"Movie\", \"TV Show\", \"Movie\", \"Movie\", \"Movie\", \"Movie\", \"TV Show\", \"Movie\", \"Movie\", \"Movie\", \"Movie\", \"Movie\", \"Movie\", \"Movie\", \"Movie\", \"TV Show\", \"Movie\", \"Movie\", \"Movie\", \"TV Show\", \"Movie\", \"Movie\", \"Movie\", \"TV Show\", \"Movie\", \"TV Show\", \"Movie\", \"Movie\", \"TV Show\", \"TV Show\", \"Movie\", \"Movie\", \"Movie\", \"TV Show\", \"Movie\", \"TV Show\", \"TV Show\", \"TV Show\", \"TV Show\", \"TV Show\", \"TV Show\", \"Movie\", \"TV Show\", \"Movie\", \"Movie\", \"Movie\", \"TV Show\", \"Movie\", \"Movie\", \"Movie\", \"Movie\", \"TV Show\", \"TV Show\", \"Movie\", \"Movie\", \"Movie\", \"Movie\", \"Movie\", \"Movie\", \"Movie\", \"Movie\", \"Movie\", \"Movie\", \"Movie\", \"Movie\", \"Movie\", \"Movie\", \"Movie\", \"TV Show\", \"Movie\", \"Movie\", \"Movie\", \"Movie\", \"Movie\", \"TV Show\", \"Movie\", \"TV Show\", \"Movie\", \"Movie\", \"Movie\", \"Movie\", \"TV Show\", \"Movie\", \"Movie\", \"TV Show\", \"Movie\", \"Movie\", \"Movie\", \"Movie\", \"Movie\", \"Movie\", \"Movie\", \"Movie\", \"TV Show\", \"Movie\", \"Movie\", \"Movie\", \"Movie\", \"Movie\", \"Movie\", \"Movie\", \"Movie\", \"Movie\", \"TV Show\", \"TV Show\", \"Movie\", \"Movie\", \"Movie\", \"Movie\", \"Movie\", \"Movie\", \"TV Show\", \"TV Show\", \"TV Show\", \"Movie\", \"Movie\", \"Movie\", \"Movie\", \"Movie\", \"TV Show\", \"Movie\", \"TV Show\", \"TV Show\", \"Movie\", \"Movie\", \"TV Show\", \"TV Show\", \"Movie\", \"TV Show\", \"Movie\", \"TV Show\", \"TV Show\", \"TV Show\", \"Movie\", \"TV Show\", \"Movie\", \"Movie\", \"Movie\", \"Movie\", \"Movie\", \"TV Show\", \"Movie\", \"Movie\", \"Movie\", \"TV Show\", \"TV Show\", \"Movie\", \"TV Show\", \"Movie\", \"Movie\", \"Movie\", \"Movie\", \"Movie\", \"Movie\", \"Movie\", \"Movie\", \"Movie\", \"Movie\", \"Movie\", \"Movie\", \"Movie\", \"Movie\", \"TV Show\", \"TV Show\", \"TV Show\", \"TV Show\", \"TV Show\", \"Movie\", \"Movie\", \"Movie\", \"TV Show\", \"Movie\", \"Movie\", \"Movie\", \"TV Show\", \"Movie\", \"TV Show\", \"Movie\", \"Movie\", \"Movie\", \"TV Show\", \"Movie\", \"Movie\", \"Movie\", \"Movie\", \"TV Show\", \"Movie\", \"TV Show\", \"TV Show\", \"Movie\", \"Movie\", \"TV Show\", \"TV Show\", \"Movie\", \"TV Show\", \"TV Show\", \"Movie\", \"Movie\", \"Movie\", \"Movie\", \"Movie\", \"Movie\", \"TV Show\", \"Movie\", \"Movie\", \"TV Show\", \"Movie\", \"Movie\", \"Movie\", \"TV Show\", \"Movie\", \"TV Show\", \"Movie\", \"Movie\", \"Movie\", \"Movie\", \"TV Show\", \"TV Show\", \"Movie\", \"Movie\", \"TV Show\", \"Movie\", \"Movie\", \"TV Show\", \"Movie\", \"Movie\", \"Movie\", \"TV Show\", \"Movie\", \"Movie\", \"Movie\", \"Movie\", \"Movie\", \"Movie\", \"Movie\", \"Movie\", \"Movie\", \"TV Show\", \"TV Show\", \"TV Show\", \"TV Show\", \"Movie\", \"Movie\", \"Movie\", \"Movie\", \"Movie\", \"Movie\", \"Movie\", \"Movie\", \"Movie\", \"Movie\", \"Movie\", \"Movie\", \"Movie\", \"Movie\", \"Movie\", \"Movie\", \"Movie\", \"Movie\", \"Movie\", \"Movie\", \"Movie\", \"Movie\", \"TV Show\", \"Movie\", \"TV Show\", \"Movie\", \"Movie\", \"Movie\", \"Movie\", \"Movie\", \"Movie\", \"Movie\", \"Movie\", \"TV Show\", \"Movie\", \"TV Show\", \"Movie\", \"Movie\", \"TV Show\", \"Movie\", \"Movie\", \"Movie\", \"Movie\", \"TV Show\", \"Movie\", \"Movie\", \"TV Show\", \"TV Show\", \"Movie\", \"Movie\", \"Movie\", \"TV Show\", \"TV Show\", \"Movie\", \"TV Show\", \"Movie\", \"Movie\", \"Movie\", \"Movie\", \"Movie\", \"Movie\", \"TV Show\", \"Movie\", \"Movie\", \"TV Show\", \"Movie\", \"Movie\", \"TV Show\", \"Movie\", \"Movie\", \"Movie\", \"Movie\", \"TV Show\", \"Movie\", \"Movie\", \"TV Show\", \"Movie\", \"TV Show\", \"Movie\", \"Movie\", \"Movie\", \"Movie\", \"Movie\", \"Movie\", \"Movie\", \"Movie\", \"Movie\", \"Movie\", \"Movie\", \"TV Show\", \"Movie\", \"TV Show\", \"Movie\", \"Movie\", \"Movie\", \"Movie\", \"Movie\", \"TV Show\", \"Movie\", \"TV Show\", \"Movie\", \"Movie\", \"Movie\", \"Movie\", \"TV Show\", \"TV Show\", \"Movie\", \"Movie\", \"Movie\", \"TV Show\", \"Movie\", \"Movie\", \"Movie\", \"Movie\", \"TV Show\", \"TV Show\", \"Movie\", \"Movie\", \"Movie\", \"Movie\", \"Movie\", \"Movie\", \"TV Show\", \"Movie\", \"Movie\", \"Movie\", \"TV Show\", \"Movie\", \"Movie\", \"Movie\", \"TV Show\", \"Movie\", \"Movie\", \"Movie\", \"Movie\", \"Movie\", \"Movie\", \"Movie\", \"TV Show\", \"Movie\", \"TV Show\", \"Movie\", \"Movie\", \"Movie\", \"Movie\", \"Movie\", \"Movie\", \"Movie\", \"Movie\", \"Movie\", \"Movie\", \"Movie\", \"Movie\", \"Movie\", \"Movie\", \"Movie\", \"Movie\", \"Movie\", \"Movie\", \"Movie\", \"Movie\", \"Movie\", \"TV Show\", \"Movie\", \"Movie\", \"Movie\", \"TV Show\", \"Movie\", \"Movie\", \"Movie\", \"Movie\", \"Movie\", \"TV Show\", \"TV Show\", \"Movie\", \"Movie\", \"Movie\", \"Movie\", \"Movie\", \"TV Show\", \"Movie\", \"Movie\", \"Movie\", \"TV Show\", \"TV Show\", \"Movie\", \"TV Show\", \"Movie\", \"Movie\", \"Movie\", \"Movie\", \"TV Show\", \"Movie\", \"Movie\", \"Movie\", \"TV Show\", \"TV Show\", \"Movie\", \"TV Show\", \"Movie\", \"Movie\", \"TV Show\", \"Movie\", \"Movie\", \"Movie\", \"Movie\", \"TV Show\", \"Movie\", \"Movie\", \"Movie\", \"Movie\", \"Movie\", \"Movie\", \"Movie\", \"Movie\", \"Movie\", \"TV Show\", \"Movie\", \"TV Show\", \"TV Show\", \"Movie\", \"Movie\", \"TV Show\", \"TV Show\", \"Movie\", \"TV Show\", \"Movie\", \"Movie\", \"Movie\", \"TV Show\", \"Movie\", \"Movie\", \"Movie\", \"Movie\", \"Movie\", \"Movie\", \"Movie\", \"Movie\", \"Movie\", \"Movie\", \"TV Show\", \"Movie\", \"Movie\", \"Movie\", \"TV Show\", \"TV Show\", \"TV Show\", \"TV Show\", \"Movie\", \"TV Show\", \"Movie\", \"Movie\", \"Movie\", \"TV Show\", \"TV Show\", \"Movie\", \"Movie\", \"Movie\", \"Movie\", \"TV Show\", \"Movie\", \"Movie\", \"TV Show\", \"Movie\", \"Movie\", \"Movie\", \"Movie\", \"Movie\", \"Movie\", \"Movie\", \"Movie\", \"Movie\", \"Movie\", \"TV Show\", \"Movie\", \"Movie\", \"TV Show\", \"Movie\", \"Movie\", \"Movie\", \"Movie\", \"Movie\", \"Movie\", \"Movie\", \"TV Show\", \"TV Show\", \"Movie\", \"Movie\", \"TV Show\", \"Movie\", \"Movie\", \"Movie\", \"Movie\", \"TV Show\", \"Movie\", \"Movie\", \"TV Show\", \"Movie\", \"TV Show\", \"Movie\", \"Movie\", \"Movie\", \"Movie\", \"Movie\", \"Movie\", \"TV Show\", \"TV Show\", \"Movie\", \"Movie\", \"Movie\", \"Movie\", \"TV Show\", \"Movie\", \"Movie\", \"TV Show\", \"Movie\", \"TV Show\", \"Movie\", \"Movie\", \"Movie\", \"Movie\", \"Movie\", \"TV Show\", \"Movie\", \"Movie\", \"Movie\", \"Movie\", \"TV Show\", \"Movie\", \"Movie\", \"Movie\", \"Movie\", \"TV Show\", \"Movie\", \"TV Show\", \"Movie\", \"Movie\", \"Movie\", \"Movie\", \"Movie\", \"Movie\", \"Movie\", \"Movie\", \"Movie\", \"TV Show\", \"Movie\", \"TV Show\", \"Movie\", \"TV Show\", \"Movie\", \"Movie\", \"Movie\", \"Movie\", \"Movie\", \"Movie\", \"Movie\", \"Movie\", \"TV Show\", \"TV Show\", \"Movie\", \"Movie\", \"Movie\", \"TV Show\", \"TV Show\", \"Movie\", \"Movie\", \"Movie\", \"Movie\", \"Movie\", \"TV Show\", \"Movie\", \"TV Show\", \"TV Show\", \"Movie\", \"Movie\", \"Movie\", \"Movie\", \"TV Show\", \"TV Show\", \"TV Show\", \"Movie\", \"TV Show\", \"TV Show\", \"TV Show\", \"Movie\", \"TV Show\", \"Movie\", \"Movie\", \"Movie\", \"TV Show\", \"TV Show\", \"TV Show\", \"Movie\", \"Movie\", \"Movie\", \"TV Show\", \"Movie\", \"TV Show\", \"Movie\", \"Movie\", \"TV Show\", \"Movie\", \"TV Show\", \"Movie\", \"TV Show\", \"Movie\", \"TV Show\", \"Movie\", \"TV Show\", \"TV Show\", \"Movie\", \"Movie\", \"Movie\", \"Movie\", \"Movie\", \"Movie\", \"TV Show\", \"Movie\", \"TV Show\", \"Movie\", \"TV Show\", \"Movie\", \"TV Show\", \"TV Show\", \"TV Show\", \"TV Show\", \"Movie\", \"Movie\", \"Movie\", \"TV Show\", \"Movie\", \"Movie\", \"Movie\", \"Movie\", \"Movie\", \"Movie\", \"Movie\", \"Movie\", \"TV Show\", \"Movie\", \"TV Show\", \"Movie\", \"Movie\", \"Movie\", \"Movie\", \"Movie\", \"Movie\", \"Movie\", \"TV Show\", \"Movie\", \"Movie\", \"Movie\", \"TV Show\", \"Movie\", \"Movie\", \"Movie\", \"Movie\", \"Movie\", \"Movie\", \"Movie\", \"Movie\", \"TV Show\", \"Movie\", \"TV Show\", \"Movie\", \"TV Show\", \"TV Show\", \"Movie\", \"TV Show\", \"Movie\", \"Movie\", \"TV Show\", \"TV Show\", \"Movie\", \"Movie\", \"Movie\", \"Movie\", \"TV Show\", \"Movie\", \"TV Show\", \"Movie\", \"TV Show\", \"Movie\", \"Movie\", \"TV Show\", \"TV Show\", \"Movie\", \"Movie\", \"Movie\", \"TV Show\", \"Movie\", \"TV Show\", \"Movie\", \"TV Show\", \"TV Show\", \"TV Show\", \"Movie\", \"TV Show\", \"Movie\", \"Movie\", \"TV Show\", \"TV Show\", \"TV Show\", \"Movie\", \"Movie\", \"Movie\", \"TV Show\", \"Movie\", \"Movie\", \"Movie\", \"Movie\", \"Movie\", \"TV Show\", \"Movie\", \"Movie\", \"TV Show\", \"TV Show\", \"Movie\", \"TV Show\", \"Movie\", \"TV Show\", \"TV Show\", \"Movie\", \"Movie\", \"TV Show\", \"Movie\", \"Movie\", \"Movie\", \"TV Show\", \"Movie\", \"Movie\", \"Movie\", \"Movie\", \"Movie\", \"Movie\", \"Movie\", \"Movie\", \"TV Show\", \"Movie\", \"Movie\", \"Movie\", \"Movie\", \"TV Show\", \"Movie\", \"Movie\", \"TV Show\", \"TV Show\", \"TV Show\", \"TV Show\", \"TV Show\", \"Movie\", \"TV Show\", \"TV Show\", \"Movie\", \"Movie\", \"TV Show\", \"Movie\", \"Movie\", \"Movie\", \"TV Show\", \"Movie\", \"TV Show\", \"TV Show\", \"TV Show\", \"TV Show\", \"Movie\", \"Movie\", \"Movie\", \"Movie\", \"Movie\", \"Movie\", \"Movie\", \"Movie\", \"Movie\", \"Movie\", \"Movie\", \"Movie\", \"Movie\", \"TV Show\", \"Movie\", \"Movie\", \"TV Show\", \"TV Show\", \"TV Show\", \"Movie\", \"Movie\", \"TV Show\", \"TV Show\", \"Movie\", \"TV Show\", \"Movie\", \"Movie\", \"Movie\", \"Movie\", \"TV Show\", \"Movie\", \"TV Show\", \"TV Show\", \"TV Show\", \"Movie\", \"Movie\", \"Movie\", \"TV Show\", \"TV Show\", \"TV Show\", \"Movie\", \"Movie\", \"Movie\", \"Movie\", \"Movie\", \"TV Show\", \"TV Show\", \"Movie\", \"Movie\", \"TV Show\", \"TV Show\", \"Movie\", \"Movie\", \"Movie\", \"Movie\", \"Movie\", \"Movie\", \"TV Show\", \"Movie\", \"TV Show\", \"Movie\", \"Movie\", \"TV Show\", \"Movie\", \"Movie\", \"TV Show\", \"Movie\", \"Movie\", \"TV Show\", \"TV Show\", \"Movie\", \"Movie\", \"TV Show\", \"Movie\", \"Movie\", \"TV Show\", \"Movie\", \"Movie\", \"TV Show\", \"Movie\", \"TV Show\", \"Movie\", \"TV Show\", \"Movie\", \"Movie\", \"Movie\", \"TV Show\", \"TV Show\", \"Movie\", \"Movie\", \"Movie\", \"TV Show\", \"TV Show\", \"Movie\", \"Movie\", \"Movie\", \"Movie\", \"Movie\", \"Movie\", \"Movie\", \"TV Show\", \"Movie\", \"Movie\", \"TV Show\", \"Movie\", \"Movie\", \"TV Show\", \"TV Show\", \"TV Show\", \"Movie\", \"Movie\", \"Movie\", \"Movie\", \"Movie\", \"Movie\", \"Movie\", \"TV Show\", \"TV Show\", \"TV Show\", \"TV Show\", \"Movie\", \"TV Show\", \"Movie\", \"Movie\", \"Movie\", \"Movie\", \"Movie\", \"Movie\", \"Movie\", \"TV Show\", \"Movie\", \"Movie\", \"Movie\", \"TV Show\", \"Movie\", \"Movie\", \"Movie\", \"Movie\", \"TV Show\", \"TV Show\", \"TV Show\", \"Movie\", \"Movie\", \"Movie\", \"TV Show\", \"Movie\", \"TV Show\", \"Movie\", \"Movie\", \"Movie\", \"TV Show\", \"TV Show\", \"Movie\", \"TV Show\", \"Movie\", \"Movie\", \"TV Show\", \"Movie\", \"Movie\", \"Movie\", \"TV Show\", \"Movie\", \"TV Show\", \"Movie\", \"Movie\", \"TV Show\", \"Movie\", \"TV Show\", \"TV Show\", \"TV Show\", \"Movie\", \"Movie\", \"Movie\", \"Movie\", \"Movie\", \"TV Show\", \"Movie\", \"Movie\", \"Movie\", \"Movie\", \"Movie\", \"Movie\", \"Movie\", \"Movie\", \"Movie\", \"Movie\", \"Movie\", \"Movie\", \"Movie\", \"Movie\", \"TV Show\", \"Movie\", \"Movie\", \"TV Show\", \"Movie\", \"Movie\", \"Movie\", \"Movie\", \"TV Show\", \"Movie\", \"TV Show\", \"Movie\", \"Movie\", \"Movie\", \"TV Show\", \"Movie\", \"TV Show\", \"Movie\", \"Movie\", \"Movie\", \"Movie\", \"Movie\", \"Movie\", \"Movie\", \"Movie\", \"Movie\", \"Movie\", \"Movie\", \"TV Show\", \"Movie\", \"Movie\", \"Movie\", \"Movie\", \"TV Show\", \"TV Show\", \"TV Show\", \"TV Show\", \"Movie\", \"TV Show\", \"Movie\", \"Movie\", \"TV Show\", \"Movie\", \"TV Show\", \"Movie\", \"Movie\", \"Movie\", \"Movie\", \"TV Show\", \"Movie\", \"TV Show\", \"TV Show\", \"TV Show\", \"Movie\", \"Movie\", \"TV Show\", \"Movie\", \"Movie\", \"Movie\", \"Movie\", \"TV Show\", \"TV Show\", \"Movie\", \"Movie\", \"TV Show\", \"Movie\", \"Movie\", \"Movie\", \"TV Show\", \"Movie\", \"TV Show\", \"Movie\", \"TV Show\", \"Movie\", \"Movie\", \"Movie\", \"Movie\", \"Movie\", \"TV Show\", \"Movie\", \"TV Show\", \"TV Show\", \"Movie\", \"Movie\", \"Movie\", \"Movie\", \"TV Show\", \"Movie\", \"Movie\", \"Movie\", \"Movie\", \"TV Show\", \"Movie\", \"Movie\", \"Movie\", \"Movie\", \"Movie\", \"Movie\", \"Movie\", \"Movie\", \"TV Show\", \"Movie\", \"Movie\", \"Movie\", \"Movie\", \"TV Show\", \"Movie\", \"Movie\", \"TV Show\", \"TV Show\", \"Movie\", \"Movie\", \"Movie\", \"Movie\", \"Movie\", \"Movie\", \"Movie\", \"Movie\", \"TV Show\", \"Movie\", \"Movie\", \"Movie\", \"Movie\", \"Movie\", \"Movie\", \"TV Show\", \"Movie\", \"Movie\", \"TV Show\", \"Movie\", \"TV Show\", \"TV Show\", \"TV Show\", \"TV Show\", \"TV Show\", \"Movie\", \"Movie\", \"Movie\", \"Movie\", \"Movie\", \"Movie\", \"Movie\", \"Movie\", \"Movie\", \"TV Show\", \"Movie\", \"Movie\", \"Movie\", \"Movie\", \"Movie\", \"Movie\", \"Movie\", \"TV Show\", \"Movie\", \"Movie\", \"Movie\", \"Movie\", \"TV Show\", \"TV Show\", \"Movie\", \"Movie\", \"TV Show\", \"TV Show\", \"Movie\", \"Movie\", \"TV Show\", \"Movie\", \"Movie\", \"Movie\", \"Movie\", \"Movie\", \"Movie\", \"Movie\", \"Movie\", \"Movie\", \"Movie\", \"Movie\", \"Movie\", \"TV Show\", \"TV Show\", \"Movie\", \"Movie\", \"Movie\", \"TV Show\", \"Movie\", \"Movie\", \"Movie\", \"Movie\", \"Movie\", \"Movie\", \"Movie\", \"Movie\", \"TV Show\", \"Movie\", \"Movie\", \"Movie\", \"Movie\", \"TV Show\", \"Movie\", \"Movie\", \"TV Show\", \"Movie\", \"Movie\", \"Movie\", \"Movie\", \"Movie\", \"TV Show\", \"TV Show\", \"Movie\", \"Movie\", \"TV Show\", \"TV Show\", \"TV Show\", \"Movie\", \"TV Show\", \"TV Show\", \"TV Show\", \"Movie\", \"Movie\", \"TV Show\", \"Movie\", \"Movie\", \"Movie\", \"Movie\", \"Movie\", \"Movie\", \"TV Show\", \"TV Show\", \"TV Show\", \"Movie\", \"Movie\", \"Movie\", \"Movie\", \"TV Show\", \"TV Show\", \"Movie\", \"TV Show\", \"Movie\", \"Movie\", \"Movie\", \"Movie\", \"TV Show\", \"TV Show\", \"Movie\", \"TV Show\", \"Movie\", \"Movie\", \"Movie\", \"TV Show\", \"Movie\", \"TV Show\", \"Movie\", \"TV Show\", \"Movie\", \"TV Show\", \"Movie\", \"Movie\", \"Movie\", \"TV Show\", \"Movie\", \"Movie\", \"Movie\", \"TV Show\", \"TV Show\", \"TV Show\", \"Movie\", \"Movie\", \"Movie\", \"Movie\", \"Movie\", \"Movie\", \"TV Show\", \"Movie\", \"Movie\", \"Movie\", \"Movie\", \"Movie\", \"TV Show\", \"TV Show\", \"Movie\", \"TV Show\", \"Movie\", \"Movie\", \"Movie\", \"Movie\", \"Movie\", \"Movie\", \"Movie\", \"TV Show\", \"TV Show\", \"TV Show\", \"Movie\", \"Movie\", \"Movie\", \"Movie\", \"Movie\", \"Movie\", \"Movie\", \"TV Show\", \"TV Show\", \"TV Show\", \"Movie\", \"Movie\", \"Movie\", \"Movie\", \"TV Show\", \"Movie\", \"TV Show\", \"TV Show\", \"Movie\", \"Movie\", \"Movie\", \"Movie\", \"Movie\", \"TV Show\", \"TV Show\", \"TV Show\", \"Movie\", \"Movie\", \"Movie\", \"TV Show\", \"TV Show\", \"Movie\", \"Movie\", \"Movie\", \"TV Show\", \"TV Show\", \"Movie\", \"Movie\", \"Movie\", \"TV Show\", \"Movie\", \"Movie\", \"Movie\", \"TV Show\", \"Movie\", \"Movie\", \"Movie\", \"TV Show\", \"TV Show\", \"TV Show\", \"Movie\", \"Movie\", \"TV Show\", \"Movie\", \"Movie\", \"Movie\", \"TV Show\", \"TV Show\", \"Movie\", \"Movie\", \"TV Show\", \"Movie\", \"Movie\", \"Movie\", \"TV Show\", \"Movie\", \"Movie\", \"Movie\", \"Movie\", \"TV Show\", \"Movie\", \"TV Show\", \"TV Show\", \"Movie\", \"Movie\", \"Movie\", \"Movie\", \"Movie\", \"Movie\", \"Movie\", \"Movie\", \"Movie\", \"TV Show\", \"Movie\", \"Movie\", \"TV Show\", \"Movie\", \"TV Show\", \"Movie\", \"TV Show\", \"Movie\", \"Movie\", \"TV Show\", \"Movie\", \"TV Show\", \"TV Show\", \"Movie\", \"Movie\", \"TV Show\", \"Movie\", \"Movie\", \"TV Show\", \"Movie\", \"TV Show\", \"Movie\", \"Movie\", \"TV Show\", \"Movie\", \"Movie\", \"Movie\", \"TV Show\", \"TV Show\", \"Movie\", \"TV Show\", \"Movie\", \"TV Show\", \"TV Show\", \"Movie\", \"TV Show\", \"Movie\", \"TV Show\", \"Movie\", \"Movie\", \"Movie\", \"Movie\", \"TV Show\", \"Movie\", \"Movie\", \"TV Show\", \"TV Show\", \"TV Show\", \"TV Show\", \"Movie\", \"Movie\", \"TV Show\", \"Movie\", \"Movie\", \"TV Show\", \"Movie\", \"Movie\", \"Movie\", \"Movie\", \"TV Show\", \"TV Show\", \"Movie\", \"Movie\", \"Movie\", \"Movie\", \"TV Show\", \"Movie\", \"Movie\", \"TV Show\", \"TV Show\", \"TV Show\", \"Movie\", \"Movie\", \"TV Show\", \"Movie\", \"Movie\", \"Movie\", \"Movie\", \"Movie\", \"Movie\", \"Movie\", \"Movie\", \"Movie\", \"TV Show\", \"Movie\", \"TV Show\", \"TV Show\", \"Movie\", \"TV Show\", \"Movie\", \"TV Show\", \"TV Show\", \"TV Show\", \"Movie\", \"TV Show\", \"Movie\", \"Movie\", \"TV Show\", \"Movie\", \"Movie\", \"Movie\", \"Movie\", \"Movie\", \"TV Show\", \"Movie\", \"Movie\", \"TV Show\", \"TV Show\", \"TV Show\", \"Movie\", \"Movie\", \"TV Show\", \"TV Show\", \"TV Show\", \"Movie\", \"Movie\", \"Movie\", \"Movie\", \"TV Show\", \"Movie\", \"Movie\", \"Movie\", \"TV Show\", \"TV Show\", \"TV Show\", \"TV Show\", \"Movie\", \"Movie\", \"Movie\", \"Movie\", \"Movie\", \"Movie\", \"TV Show\", \"Movie\", \"Movie\", \"Movie\", \"TV Show\", \"Movie\", \"Movie\", \"Movie\", \"TV Show\", \"Movie\", \"TV Show\", \"Movie\", \"Movie\", \"TV Show\", \"Movie\", \"TV Show\", \"Movie\", \"TV Show\", \"TV Show\", \"Movie\", \"TV Show\", \"Movie\", \"TV Show\", \"Movie\", \"Movie\", \"Movie\", \"Movie\", \"TV Show\", \"Movie\", \"TV Show\", \"TV Show\", \"Movie\", \"TV Show\", \"Movie\", \"Movie\", \"Movie\", \"Movie\", \"TV Show\", \"TV Show\", \"TV Show\", \"Movie\", \"Movie\", \"Movie\", \"Movie\", \"TV Show\", \"Movie\", \"Movie\", \"Movie\", \"Movie\", \"Movie\", \"Movie\", \"TV Show\", \"TV Show\", \"Movie\", \"Movie\", \"Movie\", \"Movie\", \"Movie\", \"Movie\", \"TV Show\", \"TV Show\", \"Movie\", \"Movie\", \"TV Show\", \"TV Show\", \"Movie\", \"Movie\", \"Movie\", \"Movie\", \"Movie\", \"Movie\", \"TV Show\", \"Movie\", \"Movie\", \"Movie\", \"TV Show\", \"Movie\", \"Movie\", \"Movie\", \"Movie\", \"TV Show\", \"Movie\", \"TV Show\", \"Movie\", \"TV Show\", \"TV Show\", \"TV Show\", \"Movie\", \"TV Show\", \"TV Show\", \"TV Show\", \"TV Show\", \"Movie\", \"Movie\", \"Movie\", \"Movie\", \"Movie\", \"Movie\", \"Movie\", \"TV Show\", \"Movie\", \"Movie\", \"Movie\", \"Movie\", \"Movie\", \"TV Show\", \"Movie\", \"Movie\", \"Movie\", \"Movie\", \"Movie\", \"Movie\", \"Movie\", \"Movie\", \"Movie\", \"Movie\", \"Movie\", \"Movie\", \"Movie\", \"Movie\", \"Movie\", \"Movie\", \"Movie\", \"Movie\", \"Movie\", \"Movie\", \"Movie\", \"TV Show\", \"TV Show\", \"Movie\", \"Movie\", \"Movie\", \"TV Show\", \"Movie\", \"TV Show\", \"Movie\", \"Movie\", \"Movie\", \"Movie\", \"TV Show\", \"Movie\", \"Movie\", \"Movie\", \"Movie\", \"Movie\", \"Movie\", \"Movie\", \"Movie\", \"Movie\", \"Movie\", \"Movie\", \"Movie\", \"Movie\", \"TV Show\", \"Movie\", \"Movie\", \"Movie\", \"TV Show\", \"TV Show\", \"TV Show\", \"Movie\", \"Movie\", \"TV Show\", \"Movie\", \"Movie\", \"Movie\", \"TV Show\", \"TV Show\", \"Movie\", \"TV Show\", \"TV Show\", \"TV Show\", \"TV Show\", \"TV Show\", \"Movie\", \"TV Show\", \"TV Show\", \"Movie\", \"Movie\", \"Movie\", \"Movie\", \"Movie\", \"TV Show\", \"Movie\", \"TV Show\", \"Movie\", \"Movie\", \"Movie\", \"TV Show\", \"TV Show\", \"Movie\", \"TV Show\", \"Movie\", \"TV Show\", \"Movie\", \"Movie\", \"Movie\", \"Movie\", \"TV Show\", \"TV Show\", \"Movie\", \"TV Show\", \"Movie\", \"Movie\", \"Movie\", \"TV Show\", \"Movie\", \"Movie\", \"TV Show\", \"TV Show\", \"Movie\", \"Movie\", \"Movie\", \"TV Show\", \"TV Show\", \"Movie\", \"TV Show\", \"Movie\", \"Movie\", \"TV Show\", \"Movie\", \"Movie\", \"Movie\", \"TV Show\", \"Movie\", \"TV Show\", \"Movie\", \"Movie\", \"Movie\", \"Movie\", \"Movie\", \"Movie\", \"Movie\", \"Movie\", \"TV Show\", \"Movie\", \"Movie\", \"TV Show\", \"Movie\", \"TV Show\", \"Movie\", \"Movie\", \"Movie\", \"Movie\", \"Movie\", \"Movie\", \"Movie\", \"TV Show\", \"Movie\", \"Movie\", \"Movie\", \"Movie\", \"TV Show\", \"Movie\", \"Movie\", \"Movie\", \"Movie\", \"Movie\", \"Movie\", \"Movie\", \"Movie\", \"Movie\", \"Movie\", \"TV Show\", \"TV Show\", \"Movie\", \"Movie\", \"Movie\", \"TV Show\", \"Movie\", \"Movie\", \"Movie\", \"Movie\", \"Movie\", \"Movie\", \"TV Show\", \"TV Show\", \"Movie\", \"Movie\", \"Movie\", \"TV Show\", \"Movie\", \"Movie\", \"Movie\", \"Movie\", \"TV Show\", \"TV Show\", \"Movie\", \"Movie\", \"Movie\", \"TV Show\", \"Movie\", \"TV Show\", \"TV Show\", \"TV Show\", \"Movie\", \"TV Show\", \"Movie\", \"Movie\", \"TV Show\", \"TV Show\", \"Movie\", \"TV Show\", \"Movie\", \"Movie\", \"Movie\", \"Movie\", \"Movie\", \"Movie\", \"Movie\", \"Movie\", \"TV Show\", \"Movie\", \"Movie\", \"Movie\", \"TV Show\", \"Movie\", \"Movie\", \"Movie\", \"Movie\", \"Movie\", \"Movie\", \"TV Show\", \"TV Show\", \"Movie\", \"Movie\", \"Movie\", \"TV Show\", \"Movie\", \"TV Show\", \"Movie\", \"Movie\", \"Movie\", \"Movie\", \"Movie\", \"Movie\", \"TV Show\", \"Movie\", \"Movie\", \"Movie\", \"Movie\", \"Movie\", \"Movie\", \"Movie\", \"Movie\", \"Movie\", \"Movie\", \"TV Show\", \"Movie\", \"Movie\", \"Movie\", \"TV Show\", \"Movie\", \"Movie\", \"Movie\", \"Movie\", \"TV Show\", \"Movie\", \"Movie\", \"TV Show\", \"TV Show\", \"Movie\", \"Movie\", \"Movie\", \"Movie\", \"Movie\", \"Movie\", \"Movie\", \"Movie\", \"Movie\", \"Movie\", \"Movie\", \"Movie\", \"Movie\", \"TV Show\", \"Movie\", \"Movie\", \"Movie\", \"Movie\", \"Movie\", \"TV Show\", \"Movie\", \"Movie\", \"TV Show\", \"Movie\", \"TV Show\", \"TV Show\", \"Movie\", \"Movie\", \"Movie\", \"Movie\", \"Movie\", \"Movie\", \"TV Show\", \"Movie\", \"Movie\", \"Movie\", \"Movie\", \"TV Show\", \"Movie\", \"TV Show\", \"Movie\", \"Movie\", \"TV Show\", \"TV Show\", \"TV Show\", \"TV Show\", \"Movie\", \"Movie\", \"Movie\", \"Movie\", \"Movie\", \"TV Show\", \"Movie\", \"TV Show\", \"Movie\", \"Movie\", \"Movie\", \"Movie\", \"Movie\", \"TV Show\", \"Movie\", \"Movie\", \"Movie\", \"Movie\", \"Movie\", \"Movie\", \"Movie\", \"Movie\", \"Movie\", \"Movie\", \"Movie\", \"TV Show\", \"Movie\", \"TV Show\", \"Movie\", \"Movie\", \"TV Show\", \"Movie\", \"TV Show\", \"Movie\", \"Movie\", \"Movie\", \"Movie\", \"Movie\", \"TV Show\", \"Movie\", \"TV Show\", \"TV Show\", \"Movie\", \"TV Show\", \"TV Show\", \"Movie\", \"Movie\", \"Movie\", \"TV Show\", \"TV Show\", \"Movie\", \"TV Show\", \"TV Show\", \"TV Show\", \"TV Show\", \"TV Show\", \"TV Show\", \"Movie\", \"Movie\", \"TV Show\", \"Movie\", \"TV Show\", \"TV Show\", \"Movie\", \"TV Show\", \"TV Show\", \"Movie\", \"Movie\", \"Movie\", \"Movie\", \"TV Show\", \"TV Show\", \"Movie\", \"Movie\", \"TV Show\", \"Movie\", \"Movie\", \"TV Show\", \"Movie\", \"Movie\", \"Movie\", \"Movie\", \"Movie\", \"Movie\", \"Movie\", \"Movie\", \"Movie\", \"TV Show\", \"Movie\", \"TV Show\", \"TV Show\", \"Movie\", \"TV Show\", \"Movie\", \"Movie\", \"Movie\", \"Movie\", \"TV Show\", \"TV Show\", \"Movie\", \"Movie\", \"TV Show\", \"Movie\", \"Movie\", \"TV Show\", \"Movie\", \"Movie\", \"Movie\", \"Movie\", \"TV Show\", \"Movie\", \"TV Show\", \"Movie\", \"TV Show\", \"Movie\", \"Movie\", \"TV Show\", \"TV Show\", \"Movie\", \"Movie\", \"Movie\", \"Movie\", \"Movie\", \"Movie\", \"Movie\", \"Movie\", \"Movie\", \"Movie\", \"Movie\", \"Movie\", \"Movie\", \"Movie\", \"TV Show\", \"Movie\", \"Movie\", \"Movie\", \"TV Show\", \"TV Show\", \"Movie\", \"TV Show\", \"TV Show\", \"Movie\", \"Movie\", \"Movie\", \"Movie\", \"Movie\", \"Movie\", \"TV Show\", \"Movie\", \"Movie\", \"Movie\", \"Movie\", \"Movie\", \"Movie\", \"Movie\", \"TV Show\", \"TV Show\", \"Movie\", \"Movie\", \"Movie\", \"Movie\", \"Movie\", \"Movie\", \"Movie\", \"TV Show\", \"TV Show\", \"TV Show\", \"TV Show\", \"TV Show\", \"Movie\", \"Movie\", \"Movie\", \"Movie\", \"Movie\", \"TV Show\", \"Movie\", \"TV Show\", \"Movie\", \"Movie\", \"TV Show\", \"Movie\", \"Movie\", \"Movie\", \"Movie\", \"Movie\", \"Movie\", \"Movie\", \"Movie\", \"Movie\", \"TV Show\", \"TV Show\", \"TV Show\", \"TV Show\", \"Movie\", \"Movie\", \"Movie\", \"TV Show\", \"TV Show\", \"TV Show\", \"TV Show\", \"TV Show\", \"TV Show\", \"Movie\", \"Movie\", \"Movie\", \"Movie\", \"Movie\", \"Movie\", \"Movie\", \"TV Show\", \"Movie\", \"TV Show\", \"TV Show\", \"Movie\", \"Movie\", \"Movie\", \"Movie\", \"Movie\", \"Movie\", \"TV Show\", \"Movie\", \"Movie\", \"Movie\", \"TV Show\", \"Movie\", \"Movie\", \"Movie\", \"Movie\", \"Movie\", \"Movie\", \"Movie\", \"Movie\", \"Movie\", \"Movie\", \"TV Show\", \"TV Show\", \"Movie\", \"Movie\", \"Movie\", \"TV Show\", \"Movie\", \"TV Show\", \"Movie\", \"TV Show\", \"TV Show\", \"TV Show\", \"Movie\", \"TV Show\", \"Movie\", \"Movie\", \"Movie\", \"TV Show\", \"Movie\", \"Movie\", \"Movie\", \"TV Show\", \"TV Show\", \"Movie\", \"Movie\", \"Movie\", \"TV Show\", \"Movie\", \"Movie\", \"Movie\", \"Movie\", \"TV Show\", \"TV Show\", \"Movie\", \"TV Show\", \"Movie\", \"Movie\", \"Movie\", \"Movie\", \"Movie\", \"Movie\", \"TV Show\", \"Movie\", \"Movie\", \"TV Show\", \"Movie\", \"TV Show\", \"TV Show\", \"TV Show\", \"TV Show\", \"TV Show\", \"TV Show\", \"TV Show\", \"Movie\", \"Movie\", \"TV Show\", \"Movie\", \"TV Show\", \"Movie\", \"Movie\", \"Movie\", \"TV Show\", \"Movie\", \"TV Show\", \"Movie\", \"Movie\", \"Movie\", \"Movie\", \"Movie\", \"Movie\", \"Movie\", \"Movie\", \"Movie\", \"Movie\", \"TV Show\", \"TV Show\", \"TV Show\", \"Movie\", \"TV Show\", \"Movie\", \"Movie\", \"TV Show\", \"TV Show\", \"Movie\", \"Movie\", \"Movie\", \"Movie\", \"Movie\", \"Movie\", \"TV Show\", \"Movie\", \"TV Show\", \"Movie\", \"TV Show\", \"TV Show\", \"TV Show\", \"Movie\", \"Movie\", \"TV Show\", \"Movie\", \"Movie\", \"Movie\", \"TV Show\", \"Movie\", \"Movie\", \"Movie\", \"TV Show\", \"Movie\", \"TV Show\", \"Movie\", \"Movie\", \"TV Show\", \"Movie\", \"Movie\", \"TV Show\", \"Movie\", \"Movie\", \"TV Show\", \"Movie\", \"Movie\", \"Movie\", \"Movie\", \"Movie\", \"TV Show\", \"Movie\", \"Movie\", \"TV Show\", \"Movie\", \"TV Show\", \"Movie\", \"TV Show\", \"TV Show\", \"Movie\", \"TV Show\", \"Movie\", \"TV Show\", \"Movie\", \"TV Show\", \"Movie\", \"Movie\", \"TV Show\", \"Movie\", \"Movie\", \"TV Show\", \"Movie\", \"Movie\", \"TV Show\", \"TV Show\", \"Movie\", \"TV Show\", \"Movie\", \"Movie\", \"Movie\", \"Movie\", \"Movie\", \"Movie\", \"Movie\", \"TV Show\", \"TV Show\", \"Movie\", \"TV Show\", \"TV Show\", \"TV Show\", \"TV Show\", \"Movie\", \"TV Show\", \"Movie\", \"Movie\", \"Movie\", \"Movie\", \"TV Show\", \"Movie\", \"Movie\", \"TV Show\", \"TV Show\", \"TV Show\", \"Movie\", \"Movie\", \"Movie\", \"Movie\", \"TV Show\", \"Movie\", \"Movie\", \"Movie\", \"Movie\", \"Movie\", \"Movie\", \"Movie\", \"TV Show\", \"TV Show\", \"Movie\", \"Movie\", \"Movie\", \"Movie\", \"Movie\", \"TV Show\", \"Movie\", \"Movie\", \"TV Show\", \"Movie\", \"Movie\", \"Movie\", \"Movie\", \"Movie\", \"Movie\", \"Movie\", \"Movie\", \"TV Show\", \"Movie\", \"Movie\", \"TV Show\", \"TV Show\", \"TV Show\", \"TV Show\", \"Movie\", \"TV Show\", \"Movie\", \"TV Show\", \"TV Show\", \"Movie\", \"TV Show\", \"Movie\", \"TV Show\", \"Movie\", \"Movie\", \"Movie\", \"TV Show\", \"Movie\", \"Movie\", \"Movie\", \"Movie\", \"Movie\", \"Movie\", \"Movie\", \"Movie\", \"Movie\", \"Movie\", \"TV Show\", \"TV Show\", \"TV Show\", \"TV Show\", \"TV Show\", \"TV Show\", \"TV Show\", \"TV Show\", \"TV Show\", \"Movie\", \"TV Show\", \"Movie\", \"Movie\", \"Movie\", \"Movie\", \"Movie\", \"Movie\", \"Movie\", \"TV Show\", \"TV Show\", \"TV Show\", \"Movie\", \"TV Show\", \"Movie\", \"Movie\", \"Movie\", \"TV Show\", \"Movie\", \"Movie\", \"Movie\", \"Movie\", \"TV Show\", \"Movie\", \"TV Show\", \"Movie\", \"Movie\", \"TV Show\", \"TV Show\", \"Movie\", \"Movie\", \"Movie\", \"Movie\", \"Movie\", \"TV Show\", \"Movie\", \"TV Show\", \"Movie\", \"Movie\", \"Movie\", \"Movie\", \"TV Show\", \"TV Show\", \"Movie\", \"Movie\", \"Movie\", \"Movie\", \"Movie\", \"Movie\", \"Movie\", \"Movie\", \"Movie\", \"TV Show\", \"TV Show\", \"TV Show\", \"Movie\", \"Movie\", \"TV Show\", \"Movie\", \"Movie\", \"Movie\", \"TV Show\", \"Movie\", \"TV Show\", \"Movie\", \"Movie\", \"TV Show\", \"Movie\", \"TV Show\", \"Movie\", \"Movie\", \"Movie\", \"TV Show\", \"Movie\", \"Movie\", \"TV Show\", \"TV Show\", \"Movie\", \"Movie\", \"Movie\", \"Movie\", \"Movie\", \"Movie\", \"Movie\", \"TV Show\", \"TV Show\", \"Movie\", \"Movie\", \"Movie\", \"Movie\", \"Movie\", \"Movie\", \"Movie\", \"Movie\", \"TV Show\", \"TV Show\", \"TV Show\", \"TV Show\", \"Movie\", \"TV Show\", \"Movie\", \"Movie\", \"Movie\", \"TV Show\", \"TV Show\", \"Movie\", \"Movie\", \"Movie\", \"Movie\", \"Movie\", \"TV Show\", \"TV Show\", \"Movie\", \"Movie\", \"TV Show\", \"Movie\", \"Movie\", \"Movie\", \"Movie\", \"TV Show\", \"Movie\", \"Movie\", \"Movie\", \"Movie\", \"TV Show\", \"Movie\", \"Movie\", \"Movie\", \"Movie\", \"Movie\", \"Movie\", \"TV Show\", \"Movie\", \"TV Show\", \"Movie\", \"Movie\", \"Movie\", \"Movie\", \"Movie\", \"Movie\", \"Movie\", \"TV Show\", \"Movie\", \"Movie\", \"TV Show\", \"TV Show\", \"Movie\", \"Movie\", \"TV Show\", \"Movie\", \"TV Show\", \"TV Show\", \"Movie\", \"TV Show\", \"TV Show\", \"TV Show\", \"Movie\", \"Movie\", \"Movie\", \"Movie\", \"Movie\", \"Movie\", \"Movie\", \"Movie\", \"TV Show\", \"TV Show\", \"TV Show\", \"TV Show\", \"Movie\", \"Movie\", \"Movie\", \"TV Show\", \"Movie\", \"Movie\", \"Movie\", \"Movie\", \"Movie\", \"TV Show\", \"Movie\", \"Movie\", \"Movie\", \"Movie\", \"TV Show\", \"Movie\", \"Movie\", \"Movie\", \"Movie\", \"Movie\", \"Movie\", \"TV Show\", \"Movie\", \"TV Show\", \"TV Show\", \"Movie\", \"TV Show\", \"TV Show\", \"Movie\", \"Movie\", \"Movie\", \"Movie\", \"Movie\", \"Movie\", \"Movie\", \"Movie\", \"Movie\", \"Movie\", \"Movie\", \"Movie\", \"Movie\", \"TV Show\", \"Movie\", \"TV Show\", \"TV Show\", \"TV Show\", \"Movie\", \"Movie\", \"TV Show\", \"TV Show\", \"Movie\", \"Movie\", \"Movie\", \"TV Show\", \"Movie\", \"TV Show\", \"Movie\", \"Movie\", \"Movie\", \"Movie\", \"TV Show\", \"TV Show\", \"Movie\", \"TV Show\", \"Movie\", \"TV Show\", \"Movie\", \"Movie\", \"Movie\", \"Movie\", \"Movie\", \"Movie\", \"Movie\", \"TV Show\", \"Movie\", \"Movie\", \"Movie\", \"TV Show\", \"Movie\", \"Movie\", \"TV Show\", \"Movie\", \"TV Show\", \"Movie\", \"Movie\", \"Movie\", \"Movie\", \"Movie\", \"TV Show\", \"Movie\", \"Movie\", \"Movie\", \"Movie\", \"TV Show\", \"TV Show\", \"Movie\", \"TV Show\", \"Movie\", \"TV Show\", \"Movie\", \"Movie\", \"Movie\", \"Movie\", \"TV Show\", \"TV Show\", \"Movie\", \"TV Show\", \"TV Show\", \"Movie\", \"TV Show\", \"Movie\", \"TV Show\", \"TV Show\", \"TV Show\", \"Movie\", \"TV Show\", \"Movie\", \"TV Show\", \"Movie\", \"Movie\", \"TV Show\", \"TV Show\", \"Movie\", \"Movie\", \"Movie\", \"TV Show\", \"Movie\", \"Movie\", \"Movie\", \"Movie\", \"Movie\", \"Movie\", \"Movie\", \"Movie\", \"Movie\", \"Movie\", \"Movie\", \"Movie\", \"Movie\", \"Movie\", \"Movie\", \"TV Show\", \"TV Show\", \"Movie\", \"Movie\", \"Movie\", \"TV Show\", \"Movie\", \"Movie\", \"Movie\", \"Movie\", \"Movie\", \"TV Show\", \"Movie\", \"TV Show\", \"TV Show\", \"Movie\", \"Movie\", \"TV Show\", \"Movie\", \"TV Show\", \"Movie\", \"Movie\", \"TV Show\", \"TV Show\", \"Movie\", \"Movie\", \"Movie\", \"TV Show\", \"Movie\", \"Movie\", \"Movie\", \"Movie\", \"TV Show\", \"Movie\", \"Movie\", \"TV Show\", \"Movie\", \"TV Show\", \"Movie\", \"Movie\", \"TV Show\", \"Movie\", \"TV Show\", \"Movie\", \"Movie\", \"TV Show\", \"Movie\", \"Movie\", \"TV Show\", \"Movie\", \"Movie\", \"TV Show\", \"TV Show\", \"Movie\", \"TV Show\", \"TV Show\", \"Movie\", \"TV Show\", \"TV Show\", \"Movie\", \"Movie\", \"TV Show\", \"Movie\", \"Movie\", \"Movie\", \"Movie\", \"Movie\", \"Movie\", \"TV Show\", \"TV Show\", \"Movie\", \"Movie\", \"Movie\", \"Movie\", \"Movie\", \"Movie\", \"Movie\", \"TV Show\", \"Movie\", \"TV Show\", \"Movie\", \"TV Show\", \"Movie\", \"Movie\", \"Movie\", \"Movie\", \"Movie\", \"TV Show\", \"Movie\"], \"xaxis\": \"x\", \"yaxis\": \"y\"}],\n",
              "                        {\"barmode\": \"relative\", \"height\": 400, \"legend\": {\"tracegroupgap\": 0}, \"template\": {\"data\": {\"bar\": [{\"error_x\": {\"color\": \"#2a3f5f\"}, \"error_y\": {\"color\": \"#2a3f5f\"}, \"marker\": {\"line\": {\"color\": \"#E5ECF6\", \"width\": 0.5}}, \"type\": \"bar\"}], \"barpolar\": [{\"marker\": {\"line\": {\"color\": \"#E5ECF6\", \"width\": 0.5}}, \"type\": \"barpolar\"}], \"carpet\": [{\"aaxis\": {\"endlinecolor\": \"#2a3f5f\", \"gridcolor\": \"white\", \"linecolor\": \"white\", \"minorgridcolor\": \"white\", \"startlinecolor\": \"#2a3f5f\"}, \"baxis\": {\"endlinecolor\": \"#2a3f5f\", \"gridcolor\": \"white\", \"linecolor\": \"white\", \"minorgridcolor\": \"white\", \"startlinecolor\": \"#2a3f5f\"}, \"type\": \"carpet\"}], \"choropleth\": [{\"colorbar\": {\"outlinewidth\": 0, \"ticks\": \"\"}, \"type\": \"choropleth\"}], \"contour\": [{\"colorbar\": {\"outlinewidth\": 0, \"ticks\": \"\"}, \"colorscale\": [[0.0, \"#0d0887\"], [0.1111111111111111, \"#46039f\"], [0.2222222222222222, \"#7201a8\"], [0.3333333333333333, \"#9c179e\"], [0.4444444444444444, \"#bd3786\"], [0.5555555555555556, \"#d8576b\"], [0.6666666666666666, \"#ed7953\"], [0.7777777777777778, \"#fb9f3a\"], [0.8888888888888888, \"#fdca26\"], [1.0, \"#f0f921\"]], \"type\": \"contour\"}], \"contourcarpet\": [{\"colorbar\": {\"outlinewidth\": 0, \"ticks\": \"\"}, \"type\": \"contourcarpet\"}], \"heatmap\": [{\"colorbar\": {\"outlinewidth\": 0, \"ticks\": \"\"}, \"colorscale\": [[0.0, \"#0d0887\"], [0.1111111111111111, \"#46039f\"], [0.2222222222222222, \"#7201a8\"], [0.3333333333333333, \"#9c179e\"], [0.4444444444444444, \"#bd3786\"], [0.5555555555555556, \"#d8576b\"], [0.6666666666666666, \"#ed7953\"], [0.7777777777777778, \"#fb9f3a\"], [0.8888888888888888, \"#fdca26\"], [1.0, \"#f0f921\"]], \"type\": \"heatmap\"}], \"heatmapgl\": [{\"colorbar\": {\"outlinewidth\": 0, \"ticks\": \"\"}, \"colorscale\": [[0.0, \"#0d0887\"], [0.1111111111111111, \"#46039f\"], [0.2222222222222222, \"#7201a8\"], [0.3333333333333333, \"#9c179e\"], [0.4444444444444444, \"#bd3786\"], [0.5555555555555556, \"#d8576b\"], [0.6666666666666666, \"#ed7953\"], [0.7777777777777778, \"#fb9f3a\"], [0.8888888888888888, \"#fdca26\"], [1.0, \"#f0f921\"]], \"type\": \"heatmapgl\"}], \"histogram\": [{\"marker\": {\"colorbar\": {\"outlinewidth\": 0, \"ticks\": \"\"}}, \"type\": \"histogram\"}], \"histogram2d\": [{\"colorbar\": {\"outlinewidth\": 0, \"ticks\": \"\"}, \"colorscale\": [[0.0, \"#0d0887\"], [0.1111111111111111, \"#46039f\"], [0.2222222222222222, \"#7201a8\"], [0.3333333333333333, \"#9c179e\"], [0.4444444444444444, \"#bd3786\"], [0.5555555555555556, \"#d8576b\"], [0.6666666666666666, \"#ed7953\"], [0.7777777777777778, \"#fb9f3a\"], [0.8888888888888888, \"#fdca26\"], [1.0, \"#f0f921\"]], \"type\": \"histogram2d\"}], \"histogram2dcontour\": [{\"colorbar\": {\"outlinewidth\": 0, \"ticks\": \"\"}, \"colorscale\": [[0.0, \"#0d0887\"], [0.1111111111111111, \"#46039f\"], [0.2222222222222222, \"#7201a8\"], [0.3333333333333333, \"#9c179e\"], [0.4444444444444444, \"#bd3786\"], [0.5555555555555556, \"#d8576b\"], [0.6666666666666666, \"#ed7953\"], [0.7777777777777778, \"#fb9f3a\"], [0.8888888888888888, \"#fdca26\"], [1.0, \"#f0f921\"]], \"type\": \"histogram2dcontour\"}], \"mesh3d\": [{\"colorbar\": {\"outlinewidth\": 0, \"ticks\": \"\"}, \"type\": \"mesh3d\"}], \"parcoords\": [{\"line\": {\"colorbar\": {\"outlinewidth\": 0, \"ticks\": \"\"}}, \"type\": \"parcoords\"}], \"pie\": [{\"automargin\": true, \"type\": \"pie\"}], \"scatter\": [{\"marker\": {\"colorbar\": {\"outlinewidth\": 0, \"ticks\": \"\"}}, \"type\": \"scatter\"}], \"scatter3d\": [{\"line\": {\"colorbar\": {\"outlinewidth\": 0, \"ticks\": \"\"}}, \"marker\": {\"colorbar\": {\"outlinewidth\": 0, \"ticks\": \"\"}}, \"type\": \"scatter3d\"}], \"scattercarpet\": [{\"marker\": {\"colorbar\": {\"outlinewidth\": 0, \"ticks\": \"\"}}, \"type\": \"scattercarpet\"}], \"scattergeo\": [{\"marker\": {\"colorbar\": {\"outlinewidth\": 0, \"ticks\": \"\"}}, \"type\": \"scattergeo\"}], \"scattergl\": [{\"marker\": {\"colorbar\": {\"outlinewidth\": 0, \"ticks\": \"\"}}, \"type\": \"scattergl\"}], \"scattermapbox\": [{\"marker\": {\"colorbar\": {\"outlinewidth\": 0, \"ticks\": \"\"}}, \"type\": \"scattermapbox\"}], \"scatterpolar\": [{\"marker\": {\"colorbar\": {\"outlinewidth\": 0, \"ticks\": \"\"}}, \"type\": \"scatterpolar\"}], \"scatterpolargl\": [{\"marker\": {\"colorbar\": {\"outlinewidth\": 0, \"ticks\": \"\"}}, \"type\": \"scatterpolargl\"}], \"scatterternary\": [{\"marker\": {\"colorbar\": {\"outlinewidth\": 0, \"ticks\": \"\"}}, \"type\": \"scatterternary\"}], \"surface\": [{\"colorbar\": {\"outlinewidth\": 0, \"ticks\": \"\"}, \"colorscale\": [[0.0, \"#0d0887\"], [0.1111111111111111, \"#46039f\"], [0.2222222222222222, \"#7201a8\"], [0.3333333333333333, \"#9c179e\"], [0.4444444444444444, \"#bd3786\"], [0.5555555555555556, \"#d8576b\"], [0.6666666666666666, \"#ed7953\"], [0.7777777777777778, \"#fb9f3a\"], [0.8888888888888888, \"#fdca26\"], [1.0, \"#f0f921\"]], \"type\": \"surface\"}], \"table\": [{\"cells\": {\"fill\": {\"color\": \"#EBF0F8\"}, \"line\": {\"color\": \"white\"}}, \"header\": {\"fill\": {\"color\": \"#C8D4E3\"}, \"line\": {\"color\": \"white\"}}, \"type\": \"table\"}]}, \"layout\": {\"annotationdefaults\": {\"arrowcolor\": \"#2a3f5f\", \"arrowhead\": 0, \"arrowwidth\": 1}, \"coloraxis\": {\"colorbar\": {\"outlinewidth\": 0, \"ticks\": \"\"}}, \"colorscale\": {\"diverging\": [[0, \"#8e0152\"], [0.1, \"#c51b7d\"], [0.2, \"#de77ae\"], [0.3, \"#f1b6da\"], [0.4, \"#fde0ef\"], [0.5, \"#f7f7f7\"], [0.6, \"#e6f5d0\"], [0.7, \"#b8e186\"], [0.8, \"#7fbc41\"], [0.9, \"#4d9221\"], [1, \"#276419\"]], \"sequential\": [[0.0, \"#0d0887\"], [0.1111111111111111, \"#46039f\"], [0.2222222222222222, \"#7201a8\"], [0.3333333333333333, \"#9c179e\"], [0.4444444444444444, \"#bd3786\"], [0.5555555555555556, \"#d8576b\"], [0.6666666666666666, \"#ed7953\"], [0.7777777777777778, \"#fb9f3a\"], [0.8888888888888888, \"#fdca26\"], [1.0, \"#f0f921\"]], \"sequentialminus\": [[0.0, \"#0d0887\"], [0.1111111111111111, \"#46039f\"], [0.2222222222222222, \"#7201a8\"], [0.3333333333333333, \"#9c179e\"], [0.4444444444444444, \"#bd3786\"], [0.5555555555555556, \"#d8576b\"], [0.6666666666666666, \"#ed7953\"], [0.7777777777777778, \"#fb9f3a\"], [0.8888888888888888, \"#fdca26\"], [1.0, \"#f0f921\"]]}, \"colorway\": [\"#636efa\", \"#EF553B\", \"#00cc96\", \"#ab63fa\", \"#FFA15A\", \"#19d3f3\", \"#FF6692\", \"#B6E880\", \"#FF97FF\", \"#FECB52\"], \"font\": {\"color\": \"#2a3f5f\"}, \"geo\": {\"bgcolor\": \"white\", \"lakecolor\": \"white\", \"landcolor\": \"#E5ECF6\", \"showlakes\": true, \"showland\": true, \"subunitcolor\": \"white\"}, \"hoverlabel\": {\"align\": \"left\"}, \"hovermode\": \"closest\", \"mapbox\": {\"style\": \"light\"}, \"paper_bgcolor\": \"white\", \"plot_bgcolor\": \"#E5ECF6\", \"polar\": {\"angularaxis\": {\"gridcolor\": \"white\", \"linecolor\": \"white\", \"ticks\": \"\"}, \"bgcolor\": \"#E5ECF6\", \"radialaxis\": {\"gridcolor\": \"white\", \"linecolor\": \"white\", \"ticks\": \"\"}}, \"scene\": {\"xaxis\": {\"backgroundcolor\": \"#E5ECF6\", \"gridcolor\": \"white\", \"gridwidth\": 2, \"linecolor\": \"white\", \"showbackground\": true, \"ticks\": \"\", \"zerolinecolor\": \"white\"}, \"yaxis\": {\"backgroundcolor\": \"#E5ECF6\", \"gridcolor\": \"white\", \"gridwidth\": 2, \"linecolor\": \"white\", \"showbackground\": true, \"ticks\": \"\", \"zerolinecolor\": \"white\"}, \"zaxis\": {\"backgroundcolor\": \"#E5ECF6\", \"gridcolor\": \"white\", \"gridwidth\": 2, \"linecolor\": \"white\", \"showbackground\": true, \"ticks\": \"\", \"zerolinecolor\": \"white\"}}, \"shapedefaults\": {\"line\": {\"color\": \"#2a3f5f\"}}, \"ternary\": {\"aaxis\": {\"gridcolor\": \"white\", \"linecolor\": \"white\", \"ticks\": \"\"}, \"baxis\": {\"gridcolor\": \"white\", \"linecolor\": \"white\", \"ticks\": \"\"}, \"bgcolor\": \"#E5ECF6\", \"caxis\": {\"gridcolor\": \"white\", \"linecolor\": \"white\", \"ticks\": \"\"}}, \"title\": {\"x\": 0.05}, \"xaxis\": {\"automargin\": true, \"gridcolor\": \"white\", \"linecolor\": \"white\", \"ticks\": \"\", \"title\": {\"standoff\": 15}, \"zerolinecolor\": \"white\", \"zerolinewidth\": 2}, \"yaxis\": {\"automargin\": true, \"gridcolor\": \"white\", \"linecolor\": \"white\", \"ticks\": \"\", \"title\": {\"standoff\": 15}, \"zerolinecolor\": \"white\", \"zerolinewidth\": 2}}}, \"title\": {\"text\": \"Type of Releases over the years\"}, \"width\": 800, \"xaxis\": {\"anchor\": \"y\", \"domain\": [0.0, 1.0], \"title\": {\"text\": \"type\"}}, \"yaxis\": {\"anchor\": \"x\", \"domain\": [0.0, 1.0], \"title\": {\"text\": \"count\"}}},\n",
              "                        {\"responsive\": true}\n",
              "                    ).then(function(){\n",
              "                            \n",
              "var gd = document.getElementById('641f83ac-ddbc-44c1-9946-88f9e09cd014');\n",
              "var x = new MutationObserver(function (mutations, observer) {{\n",
              "        var display = window.getComputedStyle(gd).display;\n",
              "        if (!display || display === 'none') {{\n",
              "            console.log([gd, 'removed!']);\n",
              "            Plotly.purge(gd);\n",
              "            observer.disconnect();\n",
              "        }}\n",
              "}});\n",
              "\n",
              "// Listen for the removal of the full notebook cells\n",
              "var notebookContainer = gd.closest('#notebook-container');\n",
              "if (notebookContainer) {{\n",
              "    x.observe(notebookContainer, {childList: true});\n",
              "}}\n",
              "\n",
              "// Listen for the clearing of the current output cell\n",
              "var outputEl = gd.closest('.output');\n",
              "if (outputEl) {{\n",
              "    x.observe(outputEl, {childList: true});\n",
              "}}\n",
              "\n",
              "                        })\n",
              "                };\n",
              "                \n",
              "            </script>\n",
              "        </div>\n",
              "</body>\n",
              "</html>"
            ]
          },
          "metadata": {
            "tags": []
          }
        }
      ]
    },
    {
      "cell_type": "code",
      "metadata": {
        "colab": {
          "base_uri": "https://localhost:8080/"
        },
        "id": "79PAYfpP9JvQ",
        "outputId": "965824a6-2639-4dcf-8de2-e57679e81002"
      },
      "source": [
        "df1 = data.loc[data['release_year'] >= 2010]\n",
        "df2 = data.loc[(data['release_year'] >=2000) & (data['release_year'] <= 2009)]\n",
        "df3 = data.loc[(data['release_year'] <= 1999)]\n",
        "print(df1.shape)\n",
        "print(df2.shape)\n",
        "print(df3.shape)"
      ],
      "execution_count": 13,
      "outputs": [
        {
          "output_type": "stream",
          "text": [
            "(6603, 12)\n",
            "(725, 12)\n",
            "(449, 12)\n"
          ],
          "name": "stdout"
        }
      ]
    },
    {
      "cell_type": "code",
      "metadata": {
        "colab": {
          "base_uri": "https://localhost:8080/",
          "height": 678
        },
        "id": "aQE3XZA9_66v",
        "outputId": "05b7f43e-fcf5-47e8-cad8-f6f6cfdbc9c5"
      },
      "source": [
        "df1['count'] = 1\n",
        "fig2 = px.pie(df1, values ='count', names = 'release_year')\n",
        "fig2.show()"
      ],
      "execution_count": 14,
      "outputs": [
        {
          "output_type": "stream",
          "text": [
            "/usr/local/lib/python3.7/dist-packages/ipykernel_launcher.py:1: SettingWithCopyWarning:\n",
            "\n",
            "\n",
            "A value is trying to be set on a copy of a slice from a DataFrame.\n",
            "Try using .loc[row_indexer,col_indexer] = value instead\n",
            "\n",
            "See the caveats in the documentation: https://pandas.pydata.org/pandas-docs/stable/user_guide/indexing.html#returning-a-view-versus-a-copy\n",
            "\n"
          ],
          "name": "stderr"
        },
        {
          "output_type": "display_data",
          "data": {
            "text/html": [
              "<html>\n",
              "<head><meta charset=\"utf-8\" /></head>\n",
              "<body>\n",
              "    <div>\n",
              "            <script src=\"https://cdnjs.cloudflare.com/ajax/libs/mathjax/2.7.5/MathJax.js?config=TeX-AMS-MML_SVG\"></script><script type=\"text/javascript\">if (window.MathJax) {MathJax.Hub.Config({SVG: {font: \"STIX-Web\"}});}</script>\n",
              "                <script type=\"text/javascript\">window.PlotlyConfig = {MathJaxConfig: 'local'};</script>\n",
              "        <script src=\"https://cdn.plot.ly/plotly-latest.min.js\"></script>    \n",
              "            <div id=\"057188ec-44b8-420d-94a2-0b01aafbb47c\" class=\"plotly-graph-div\" style=\"height:525px; width:100%;\"></div>\n",
              "            <script type=\"text/javascript\">\n",
              "                \n",
              "                    window.PLOTLYENV=window.PLOTLYENV || {};\n",
              "                    \n",
              "                if (document.getElementById(\"057188ec-44b8-420d-94a2-0b01aafbb47c\")) {\n",
              "                    Plotly.newPlot(\n",
              "                        '057188ec-44b8-420d-94a2-0b01aafbb47c',\n",
              "                        [{\"domain\": {\"x\": [0.0, 1.0], \"y\": [0.0, 1.0]}, \"hoverlabel\": {\"namelength\": 0}, \"hovertemplate\": \"release_year=%{label}<br>count=%{value}\", \"labels\": [2020, 2016, 2011, 2016, 2019, 2019, 2017, 2018, 2019, 2018, 2019, 2014, 2018, 2018, 2019, 2017, 2018, 2018, 2017, 2017, 2020, 2015, 2020, 2020, 2019, 2020, 2020, 2018, 2020, 2017, 2018, 2016, 2014, 2016, 2016, 2019, 2015, 2017, 2010, 2020, 2013, 2014, 2017, 2017, 2012, 2018, 2018, 2020, 2016, 2014, 2016, 2020, 2017, 2014, 2017, 2014, 2015, 2020, 2019, 2014, 2016, 2017, 2010, 2018, 2016, 2020, 2016, 2019, 2018, 2014, 2013, 2013, 2015, 2018, 2016, 2013, 2019, 2018, 2017, 2016, 2017, 2016, 2012, 2018, 2017, 2016, 2014, 2015, 2016, 2018, 2015, 2016, 2011, 2020, 2020, 2019, 2019, 2017, 2018, 2019, 2017, 2019, 2015, 2019, 2017, 2014, 2018, 2014, 2011, 2012, 2019, 2018, 2017, 2019, 2015, 2014, 2019, 2017, 2019, 2016, 2018, 2018, 2011, 2016, 2018, 2017, 2016, 2020, 2016, 2019, 2016, 2011, 2019, 2020, 2017, 2011, 2016, 2016, 2017, 2020, 2018, 2016, 2020, 2018, 2017, 2019, 2018, 2016, 2019, 2014, 2020, 2015, 2016, 2019, 2016, 2018, 2018, 2017, 2012, 2020, 2020, 2020, 2013, 2015, 2017, 2013, 2019, 2015, 2011, 2019, 2017, 2019, 2016, 2017, 2019, 2018, 2020, 2014, 2018, 2019, 2020, 2020, 2010, 2016, 2012, 2016, 2014, 2014, 2017, 2020, 2015, 2015, 2020, 2012, 2013, 2016, 2011, 2020, 2019, 2011, 2016, 2015, 2020, 2011, 2019, 2020, 2016, 2017, 2015, 2017, 2019, 2018, 2015, 2019, 2019, 2012, 2016, 2020, 2016, 2020, 2018, 2017, 2015, 2018, 2017, 2020, 2017, 2018, 2015, 2016, 2015, 2018, 2019, 2018, 2011, 2017, 2013, 2018, 2018, 2011, 2010, 2010, 2019, 2019, 2015, 2015, 2013, 2012, 2017, 2016, 2016, 2017, 2012, 2013, 2019, 2020, 2019, 2015, 2016, 2018, 2013, 2015, 2012, 2010, 2010, 2017, 2018, 2018, 2020, 2019, 2018, 2018, 2014, 2018, 2018, 2017, 2013, 2018, 2017, 2015, 2018, 2016, 2018, 2020, 2013, 2017, 2019, 2020, 2019, 2012, 2018, 2019, 2020, 2017, 2012, 2014, 2018, 2017, 2010, 2018, 2017, 2019, 2015, 2020, 2018, 2018, 2012, 2019, 2018, 2014, 2020, 2020, 2015, 2018, 2012, 2020, 2015, 2016, 2017, 2020, 2014, 2019, 2015, 2019, 2017, 2020, 2017, 2017, 2017, 2017, 2019, 2016, 2018, 2018, 2019, 2020, 2018, 2020, 2019, 2019, 2015, 2016, 2018, 2018, 2017, 2017, 2020, 2019, 2017, 2020, 2019, 2020, 2020, 2018, 2016, 2017, 2018, 2018, 2019, 2020, 2020, 2020, 2019, 2017, 2017, 2016, 2019, 2018, 2017, 2020, 2018, 2020, 2017, 2020, 2019, 2017, 2020, 2020, 2019, 2016, 2019, 2013, 2014, 2014, 2017, 2018, 2020, 2020, 2019, 2019, 2016, 2016, 2017, 2015, 2011, 2018, 2018, 2017, 2014, 2013, 2016, 2017, 2017, 2017, 2016, 2017, 2018, 2018, 2019, 2019, 2019, 2014, 2016, 2019, 2018, 2020, 2015, 2020, 2019, 2018, 2019, 2019, 2017, 2017, 2015, 2019, 2017, 2013, 2019, 2018, 2012, 2017, 2012, 2018, 2017, 2020, 2014, 2018, 2014, 2017, 2017, 2010, 2018, 2018, 2018, 2020, 2020, 2020, 2020, 2015, 2017, 2014, 2010, 2019, 2018, 2020, 2018, 2015, 2020, 2018, 2019, 2020, 2018, 2018, 2020, 2014, 2018, 2018, 2015, 2013, 2013, 2016, 2019, 2011, 2018, 2016, 2019, 2016, 2019, 2018, 2017, 2018, 2019, 2015, 2018, 2019, 2012, 2017, 2019, 2016, 2016, 2011, 2018, 2015, 2016, 2016, 2015, 2018, 2019, 2020, 2019, 2016, 2018, 2014, 2020, 2017, 2020, 2017, 2020, 2011, 2011, 2016, 2019, 2019, 2019, 2019, 2011, 2011, 2019, 2018, 2014, 2018, 2018, 2018, 2018, 2017, 2019, 2016, 2020, 2019, 2019, 2015, 2020, 2016, 2016, 2018, 2015, 2020, 2019, 2012, 2012, 2016, 2013, 2014, 2016, 2019, 2016, 2020, 2010, 2016, 2016, 2014, 2020, 2018, 2019, 2018, 2017, 2018, 2019, 2019, 2020, 2015, 2018, 2020, 2017, 2018, 2018, 2016, 2015, 2013, 2019, 2018, 2013, 2017, 2017, 2016, 2017, 2017, 2017, 2015, 2015, 2015, 2015, 2018, 2018, 2020, 2020, 2018, 2019, 2018, 2020, 2016, 2016, 2019, 2018, 2016, 2019, 2015, 2018, 2014, 2019, 2019, 2015, 2019, 2020, 2017, 2014, 2017, 2014, 2014, 2018, 2017, 2016, 2018, 2013, 2019, 2019, 2019, 2020, 2020, 2018, 2019, 2016, 2017, 2015, 2017, 2020, 2017, 2015, 2010, 2015, 2016, 2019, 2018, 2018, 2019, 2019, 2015, 2016, 2020, 2017, 2013, 2017, 2018, 2020, 2010, 2015, 2015, 2012, 2020, 2016, 2010, 2011, 2016, 2012, 2017, 2017, 2016, 2019, 2017, 2015, 2012, 2013, 2016, 2019, 2016, 2017, 2016, 2018, 2016, 2018, 2015, 2018, 2016, 2018, 2019, 2019, 2011, 2015, 2016, 2015, 2015, 2018, 2013, 2013, 2010, 2019, 2015, 2018, 2017, 2015, 2019, 2016, 2016, 2015, 2016, 2017, 2016, 2020, 2018, 2018, 2015, 2017, 2016, 2016, 2016, 2015, 2017, 2018, 2015, 2010, 2016, 2015, 2011, 2016, 2014, 2018, 2016, 2015, 2015, 2018, 2016, 2016, 2020, 2019, 2017, 2019, 2018, 2019, 2012, 2017, 2020, 2019, 2012, 2012, 2013, 2020, 2018, 2016, 2020, 2016, 2014, 2020, 2020, 2016, 2018, 2020, 2019, 2018, 2019, 2017, 2018, 2016, 2019, 2019, 2018, 2010, 2016, 2017, 2019, 2018, 2013, 2017, 2017, 2020, 2018, 2013, 2020, 2015, 2019, 2019, 2013, 2019, 2017, 2018, 2018, 2020, 2017, 2014, 2014, 2016, 2017, 2016, 2017, 2017, 2018, 2012, 2020, 2014, 2017, 2012, 2020, 2017, 2019, 2014, 2010, 2019, 2017, 2012, 2015, 2018, 2017, 2018, 2016, 2017, 2020, 2015, 2016, 2018, 2019, 2016, 2018, 2017, 2016, 2016, 2018, 2010, 2012, 2015, 2018, 2019, 2010, 2017, 2018, 2014, 2014, 2019, 2015, 2019, 2018, 2014, 2018, 2014, 2015, 2017, 2017, 2019, 2019, 2013, 2020, 2015, 2017, 2018, 2017, 2010, 2016, 2016, 2015, 2013, 2021, 2015, 2013, 2017, 2016, 2020, 2016, 2012, 2020, 2018, 2019, 2017, 2020, 2019, 2017, 2013, 2013, 2016, 2016, 2017, 2013, 2010, 2017, 2020, 2018, 2016, 2013, 2018, 2015, 2017, 2020, 2014, 2018, 2018, 2016, 2018, 2011, 2018, 2018, 2020, 2014, 2017, 2019, 2017, 2018, 2013, 2016, 2017, 2015, 2017, 2016, 2019, 2019, 2019, 2020, 2016, 2018, 2017, 2017, 2019, 2012, 2018, 2019, 2014, 2016, 2018, 2017, 2016, 2013, 2013, 2017, 2017, 2011, 2013, 2016, 2016, 2016, 2017, 2016, 2016, 2016, 2018, 2018, 2020, 2013, 2016, 2018, 2014, 2020, 2018, 2020, 2010, 2014, 2019, 2013, 2015, 2014, 2010, 2018, 2019, 2020, 2017, 2014, 2019, 2020, 2016, 2017, 2017, 2018, 2016, 2017, 2015, 2017, 2019, 2015, 2019, 2019, 2019, 2017, 2015, 2016, 2016, 2017, 2017, 2018, 2018, 2013, 2020, 2012, 2017, 2017, 2016, 2018, 2016, 2020, 2018, 2017, 2020, 2018, 2012, 2018, 2020, 2017, 2010, 2017, 2017, 2018, 2019, 2017, 2012, 2017, 2019, 2016, 2018, 2012, 2015, 2017, 2019, 2016, 2016, 2017, 2019, 2020, 2020, 2014, 2016, 2018, 2015, 2018, 2018, 2020, 2017, 2019, 2017, 2020, 2016, 2018, 2020, 2019, 2018, 2018, 2018, 2014, 2016, 2017, 2014, 2014, 2012, 2020, 2018, 2017, 2018, 2019, 2017, 2016, 2019, 2020, 2019, 2017, 2020, 2020, 2016, 2020, 2017, 2016, 2016, 2012, 2018, 2020, 2019, 2016, 2018, 2020, 2021, 2020, 2015, 2019, 2016, 2012, 2016, 2015, 2015, 2017, 2018, 2015, 2020, 2018, 2015, 2016, 2017, 2010, 2018, 2015, 2016, 2016, 2017, 2018, 2012, 2018, 2014, 2014, 2010, 2017, 2020, 2020, 2019, 2018, 2010, 2010, 2018, 2016, 2017, 2015, 2017, 2019, 2019, 2019, 2021, 2013, 2013, 2016, 2017, 2016, 2017, 2016, 2015, 2015, 2016, 2020, 2020, 2016, 2016, 2014, 2017, 2019, 2020, 2016, 2017, 2016, 2014, 2014, 2013, 2012, 2015, 2017, 2019, 2012, 2018, 2018, 2018, 2019, 2019, 2017, 2017, 2018, 2020, 2020, 2018, 2019, 2020, 2019, 2017, 2011, 2020, 2017, 2017, 2019, 2020, 2012, 2019, 2017, 2020, 2019, 2019, 2017, 2015, 2017, 2020, 2021, 2018, 2015, 2014, 2018, 2017, 2016, 2019, 2020, 2012, 2017, 2015, 2017, 2018, 2017, 2018, 2018, 2018, 2016, 2019, 2019, 2019, 2019, 2019, 2019, 2017, 2017, 2018, 2017, 2011, 2016, 2016, 2015, 2015, 2016, 2015, 2020, 2020, 2018, 2016, 2013, 2018, 2016, 2018, 2016, 2019, 2010, 2020, 2018, 2012, 2020, 2017, 2017, 2017, 2017, 2019, 2018, 2016, 2013, 2012, 2014, 2013, 2018, 2018, 2015, 2016, 2017, 2016, 2016, 2016, 2019, 2018, 2021, 2018, 2018, 2020, 2015, 2019, 2020, 2017, 2017, 2017, 2017, 2019, 2013, 2019, 2016, 2015, 2016, 2018, 2018, 2015, 2018, 2012, 2016, 2018, 2019, 2019, 2016, 2018, 2017, 2015, 2019, 2016, 2018, 2016, 2013, 2014, 2020, 2017, 2014, 2014, 2015, 2016, 2020, 2019, 2014, 2017, 2016, 2020, 2018, 2017, 2015, 2016, 2020, 2020, 2015, 2017, 2018, 2017, 2020, 2016, 2016, 2017, 2016, 2014, 2021, 2018, 2017, 2019, 2016, 2020, 2015, 2020, 2019, 2018, 2018, 2016, 2016, 2021, 2015, 2014, 2017, 2019, 2019, 2019, 2019, 2017, 2017, 2019, 2019, 2019, 2020, 2020, 2017, 2016, 2018, 2016, 2017, 2019, 2019, 2017, 2019, 2019, 2020, 2020, 2018, 2014, 2013, 2020, 2015, 2017, 2018, 2014, 2018, 2013, 2016, 2013, 2015, 2020, 2015, 2014, 2015, 2013, 2020, 2019, 2015, 2017, 2015, 2013, 2017, 2016, 2018, 2013, 2017, 2020, 2016, 2018, 2016, 2019, 2016, 2016, 2016, 2020, 2012, 2018, 2019, 2017, 2015, 2017, 2018, 2018, 2019, 2015, 2020, 2016, 2016, 2020, 2020, 2019, 2017, 2015, 2013, 2018, 2015, 2016, 2020, 2020, 2020, 2017, 2017, 2017, 2019, 2020, 2020, 2020, 2016, 2016, 2019, 2016, 2017, 2017, 2018, 2019, 2017, 2017, 2019, 2020, 2018, 2015, 2018, 2019, 2020, 2019, 2018, 2019, 2020, 2020, 2016, 2016, 2012, 2018, 2016, 2011, 2019, 2016, 2010, 2018, 2020, 2017, 2017, 2020, 2017, 2020, 2017, 2016, 2014, 2017, 2017, 2016, 2013, 2017, 2016, 2017, 2017, 2011, 2019, 2014, 2018, 2018, 2020, 2015, 2018, 2014, 2018, 2015, 2018, 2017, 2019, 2017, 2015, 2018, 2018, 2018, 2019, 2019, 2019, 2017, 2018, 2017, 2020, 2017, 2019, 2020, 2017, 2016, 2016, 2019, 2016, 2017, 2018, 2017, 2013, 2015, 2015, 2014, 2017, 2015, 2010, 2018, 2020, 2019, 2019, 2015, 2018, 2017, 2017, 2015, 2020, 2015, 2016, 2019, 2019, 2015, 2014, 2018, 2019, 2015, 2010, 2020, 2016, 2017, 2018, 2018, 2020, 2018, 2020, 2018, 2017, 2021, 2018, 2017, 2017, 2016, 2019, 2012, 2020, 2020, 2010, 2017, 2019, 2016, 2018, 2018, 2019, 2019, 2020, 2019, 2019, 2020, 2019, 2014, 2019, 2011, 2015, 2015, 2010, 2015, 2016, 2017, 2019, 2011, 2014, 2016, 2016, 2016, 2020, 2012, 2019, 2013, 2020, 2019, 2019, 2020, 2020, 2020, 2018, 2017, 2020, 2018, 2018, 2012, 2020, 2018, 2019, 2020, 2015, 2017, 2020, 2018, 2014, 2018, 2020, 2020, 2020, 2020, 2016, 2017, 2017, 2021, 2015, 2011, 2017, 2011, 2011, 2017, 2020, 2016, 2015, 2019, 2018, 2019, 2018, 2019, 2015, 2019, 2018, 2018, 2018, 2018, 2018, 2015, 2014, 2018, 2016, 2017, 2018, 2019, 2016, 2014, 2020, 2014, 2014, 2015, 2018, 2019, 2015, 2018, 2019, 2010, 2010, 2018, 2019, 2015, 2018, 2018, 2018, 2017, 2019, 2018, 2018, 2019, 2014, 2019, 2015, 2019, 2012, 2016, 2012, 2013, 2017, 2019, 2010, 2018, 2017, 2010, 2018, 2018, 2019, 2020, 2017, 2017, 2020, 2019, 2018, 2018, 2013, 2019, 2019, 2017, 2018, 2017, 2016, 2018, 2012, 2019, 2020, 2020, 2019, 2019, 2020, 2016, 2019, 2018, 2014, 2015, 2016, 2018, 2015, 2016, 2020, 2020, 2020, 2016, 2016, 2017, 2018, 2014, 2018, 2016, 2018, 2012, 2018, 2013, 2018, 2018, 2016, 2020, 2014, 2018, 2019, 2016, 2017, 2015, 2017, 2020, 2016, 2020, 2012, 2018, 2017, 2020, 2016, 2017, 2018, 2020, 2018, 2018, 2019, 2020, 2017, 2019, 2010, 2018, 2016, 2019, 2019, 2015, 2014, 2016, 2018, 2019, 2018, 2019, 2015, 2011, 2019, 2018, 2019, 2013, 2012, 2017, 2017, 2014, 2019, 2019, 2018, 2020, 2020, 2019, 2019, 2016, 2019, 2010, 2011, 2014, 2016, 2020, 2017, 2018, 2017, 2020, 2017, 2019, 2019, 2015, 2018, 2011, 2019, 2014, 2017, 2019, 2018, 2018, 2018, 2017, 2018, 2020, 2020, 2015, 2018, 2019, 2017, 2014, 2016, 2018, 2015, 2017, 2015, 2020, 2018, 2020, 2019, 2020, 2020, 2016, 2017, 2018, 2016, 2015, 2012, 2017, 2018, 2020, 2012, 2020, 2020, 2015, 2020, 2020, 2017, 2020, 2020, 2012, 2017, 2020, 2018, 2018, 2018, 2012, 2020, 2015, 2018, 2018, 2016, 2015, 2017, 2015, 2017, 2017, 2020, 2020, 2016, 2017, 2019, 2012, 2019, 2013, 2018, 2015, 2015, 2017, 2018, 2018, 2017, 2018, 2018, 2018, 2018, 2017, 2016, 2019, 2017, 2015, 2018, 2015, 2016, 2019, 2017, 2015, 2014, 2017, 2020, 2018, 2016, 2019, 2018, 2018, 2020, 2016, 2018, 2017, 2018, 2020, 2017, 2016, 2017, 2011, 2015, 2010, 2015, 2012, 2015, 2019, 2018, 2018, 2016, 2017, 2017, 2017, 2016, 2016, 2020, 2011, 2019, 2018, 2016, 2019, 2011, 2018, 2017, 2011, 2020, 2020, 2016, 2013, 2019, 2016, 2012, 2019, 2019, 2018, 2016, 2020, 2019, 2017, 2018, 2018, 2020, 2018, 2016, 2019, 2018, 2019, 2016, 2018, 2018, 2015, 2016, 2015, 2015, 2016, 2019, 2020, 2017, 2016, 2019, 2014, 2016, 2017, 2013, 2010, 2016, 2018, 2018, 2011, 2011, 2011, 2013, 2018, 2013, 2020, 2020, 2019, 2015, 2020, 2020, 2017, 2010, 2017, 2018, 2016, 2020, 2019, 2017, 2020, 2019, 2017, 2016, 2015, 2021, 2019, 2017, 2016, 2018, 2018, 2017, 2015, 2017, 2013, 2016, 2017, 2011, 2020, 2012, 2019, 2019, 2019, 2018, 2020, 2016, 2014, 2016, 2018, 2014, 2016, 2013, 2019, 2011, 2018, 2015, 2016, 2016, 2018, 2019, 2017, 2017, 2018, 2018, 2015, 2016, 2020, 2016, 2020, 2017, 2011, 2020, 2010, 2019, 2017, 2020, 2014, 2017, 2016, 2013, 2013, 2017, 2020, 2017, 2013, 2016, 2020, 2014, 2012, 2013, 2019, 2020, 2018, 2019, 2016, 2013, 2020, 2013, 2012, 2020, 2019, 2018, 2018, 2019, 2013, 2020, 2017, 2017, 2019, 2018, 2019, 2012, 2015, 2019, 2020, 2015, 2019, 2020, 2016, 2017, 2019, 2020, 2012, 2010, 2018, 2020, 2020, 2020, 2019, 2019, 2018, 2015, 2016, 2017, 2014, 2018, 2017, 2017, 2017, 2018, 2018, 2020, 2018, 2013, 2019, 2017, 2016, 2014, 2016, 2018, 2015, 2017, 2018, 2019, 2016, 2014, 2019, 2012, 2017, 2020, 2014, 2019, 2017, 2019, 2012, 2016, 2017, 2011, 2016, 2018, 2013, 2018, 2012, 2019, 2015, 2018, 2020, 2020, 2017, 2020, 2017, 2013, 2013, 2019, 2012, 2014, 2015, 2017, 2019, 2016, 2017, 2020, 2017, 2016, 2019, 2019, 2019, 2019, 2015, 2016, 2020, 2020, 2018, 2019, 2019, 2015, 2017, 2016, 2018, 2018, 2016, 2016, 2019, 2020, 2020, 2020, 2018, 2015, 2019, 2020, 2017, 2018, 2015, 2010, 2017, 2015, 2013, 2013, 2015, 2016, 2013, 2010, 2012, 2019, 2014, 2014, 2015, 2016, 2018, 2016, 2017, 2017, 2018, 2015, 2017, 2018, 2017, 2016, 2020, 2017, 2014, 2017, 2013, 2020, 2018, 2015, 2016, 2018, 2017, 2018, 2018, 2013, 2012, 2018, 2018, 2014, 2017, 2019, 2014, 2019, 2014, 2016, 2019, 2015, 2020, 2015, 2020, 2015, 2015, 2018, 2018, 2018, 2015, 2014, 2010, 2017, 2015, 2016, 2014, 2010, 2020, 2017, 2014, 2015, 2020, 2018, 2018, 2017, 2015, 2019, 2017, 2017, 2018, 2020, 2016, 2017, 2015, 2016, 2015, 2015, 2011, 2020, 2016, 2015, 2015, 2018, 2018, 2016, 2021, 2011, 2017, 2019, 2017, 2017, 2017, 2011, 2018, 2016, 2020, 2017, 2015, 2015, 2015, 2016, 2016, 2020, 2019, 2017, 2019, 2015, 2015, 2016, 2013, 2020, 2018, 2016, 2018, 2014, 2019, 2016, 2017, 2012, 2018, 2017, 2020, 2019, 2016, 2017, 2019, 2015, 2018, 2010, 2016, 2016, 2017, 2017, 2016, 2019, 2019, 2019, 2020, 2020, 2018, 2019, 2017, 2015, 2014, 2016, 2018, 2021, 2020, 2013, 2016, 2020, 2015, 2020, 2010, 2015, 2019, 2020, 2017, 2021, 2016, 2012, 2017, 2016, 2017, 2015, 2015, 2019, 2016, 2016, 2018, 2015, 2016, 2020, 2020, 2019, 2019, 2019, 2016, 2018, 2020, 2017, 2019, 2017, 2016, 2010, 2017, 2020, 2020, 2019, 2018, 2019, 2019, 2020, 2018, 2011, 2018, 2014, 2018, 2011, 2020, 2011, 2018, 2020, 2018, 2017, 2015, 2013, 2019, 2020, 2016, 2013, 2020, 2020, 2016, 2017, 2017, 2016, 2018, 2019, 2015, 2017, 2016, 2017, 2017, 2017, 2018, 2019, 2012, 2018, 2017, 2016, 2016, 2019, 2018, 2017, 2017, 2015, 2020, 2020, 2018, 2018, 2020, 2020, 2017, 2014, 2016, 2012, 2020, 2019, 2011, 2019, 2014, 2011, 2014, 2016, 2010, 2020, 2013, 2015, 2015, 2015, 2011, 2016, 2018, 2012, 2016, 2020, 2018, 2018, 2017, 2019, 2016, 2010, 2020, 2020, 2016, 2013, 2017, 2019, 2010, 2018, 2016, 2015, 2019, 2018, 2016, 2020, 2017, 2015, 2016, 2018, 2020, 2019, 2016, 2016, 2017, 2011, 2017, 2014, 2010, 2019, 2019, 2019, 2019, 2019, 2010, 2016, 2015, 2016, 2015, 2013, 2019, 2019, 2019, 2020, 2019, 2017, 2018, 2017, 2017, 2016, 2016, 2014, 2017, 2010, 2014, 2020, 2018, 2018, 2017, 2016, 2018, 2015, 2019, 2013, 2018, 2018, 2020, 2012, 2018, 2012, 2014, 2017, 2016, 2012, 2018, 2018, 2018, 2016, 2017, 2018, 2019, 2017, 2019, 2020, 2017, 2016, 2019, 2019, 2016, 2011, 2016, 2010, 2014, 2019, 2017, 2017, 2015, 2018, 2014, 2015, 2017, 2020, 2016, 2013, 2016, 2018, 2018, 2013, 2019, 2020, 2012, 2013, 2017, 2017, 2019, 2019, 2019, 2018, 2017, 2015, 2017, 2018, 2021, 2010, 2017, 2018, 2019, 2013, 2019, 2016, 2015, 2016, 2018, 2015, 2016, 2020, 2020, 2019, 2017, 2018, 2017, 2019, 2010, 2015, 2019, 2010, 2018, 2019, 2018, 2014, 2011, 2019, 2018, 2015, 2018, 2019, 2015, 2020, 2018, 2014, 2017, 2015, 2013, 2017, 2019, 2013, 2019, 2012, 2016, 2015, 2020, 2017, 2020, 2017, 2014, 2015, 2019, 2020, 2018, 2020, 2017, 2013, 2018, 2016, 2017, 2019, 2020, 2020, 2017, 2015, 2019, 2019, 2016, 2015, 2017, 2020, 2019, 2017, 2014, 2013, 2012, 2018, 2020, 2016, 2016, 2019, 2018, 2018, 2020, 2019, 2014, 2013, 2018, 2014, 2019, 2011, 2012, 2017, 2015, 2016, 2019, 2020, 2015, 2015, 2017, 2017, 2019, 2019, 2016, 2015, 2017, 2020, 2014, 2016, 2018, 2016, 2019, 2017, 2017, 2017, 2012, 2014, 2014, 2016, 2020, 2018, 2017, 2016, 2019, 2018, 2017, 2020, 2017, 2019, 2013, 2011, 2019, 2020, 2017, 2018, 2017, 2012, 2017, 2017, 2017, 2018, 2016, 2018, 2012, 2013, 2020, 2018, 2017, 2019, 2018, 2012, 2015, 2020, 2013, 2014, 2017, 2012, 2018, 2015, 2018, 2015, 2017, 2017, 2018, 2016, 2019, 2020, 2015, 2016, 2019, 2017, 2017, 2015, 2017, 2011, 2017, 2020, 2017, 2014, 2019, 2015, 2011, 2015, 2020, 2020, 2018, 2016, 2013, 2017, 2012, 2011, 2016, 2012, 2016, 2019, 2012, 2010, 2011, 2012, 2013, 2016, 2013, 2017, 2019, 2015, 2019, 2020, 2017, 2016, 2019, 2019, 2016, 2012, 2014, 2013, 2010, 2019, 2012, 2016, 2019, 2019, 2017, 2016, 2017, 2019, 2017, 2020, 2017, 2016, 2020, 2015, 2019, 2016, 2010, 2017, 2019, 2016, 2012, 2019, 2017, 2016, 2018, 2012, 2015, 2018, 2017, 2017, 2019, 2015, 2019, 2014, 2019, 2019, 2020, 2019, 2019, 2011, 2013, 2010, 2016, 2020, 2019, 2018, 2017, 2017, 2018, 2013, 2018, 2014, 2011, 2018, 2017, 2017, 2016, 2018, 2015, 2016, 2015, 2019, 2019, 2016, 2015, 2014, 2019, 2016, 2011, 2014, 2014, 2019, 2020, 2019, 2017, 2010, 2017, 2012, 2016, 2014, 2020, 2015, 2018, 2018, 2012, 2017, 2017, 2018, 2017, 2020, 2020, 2015, 2017, 2018, 2020, 2016, 2020, 2017, 2017, 2013, 2019, 2019, 2015, 2019, 2015, 2012, 2015, 2016, 2018, 2016, 2019, 2018, 2014, 2012, 2018, 2020, 2020, 2014, 2013, 2016, 2012, 2017, 2017, 2010, 2013, 2015, 2020, 2019, 2013, 2019, 2017, 2017, 2016, 2018, 2010, 2010, 2016, 2017, 2018, 2017, 2013, 2016, 2014, 2012, 2016, 2017, 2019, 2019, 2016, 2017, 2020, 2016, 2016, 2016, 2016, 2016, 2016, 2020, 2017, 2017, 2016, 2020, 2017, 2020, 2019, 2010, 2016, 2016, 2018, 2011, 2018, 2019, 2017, 2016, 2019, 2017, 2019, 2018, 2015, 2017, 2018, 2016, 2010, 2011, 2015, 2018, 2017, 2019, 2020, 2015, 2019, 2018, 2015, 2019, 2020, 2019, 2012, 2018, 2015, 2010, 2020, 2018, 2020, 2011, 2012, 2012, 2016, 2017, 2014, 2019, 2018, 2010, 2016, 2011, 2011, 2011, 2015, 2018, 2017, 2013, 2014, 2019, 2015, 2010, 2017, 2017, 2019, 2017, 2016, 2010, 2016, 2014, 2017, 2017, 2018, 2016, 2018, 2019, 2018, 2016, 2015, 2018, 2017, 2020, 2019, 2016, 2019, 2013, 2019, 2010, 2020, 2015, 2017, 2013, 2016, 2012, 2020, 2018, 2017, 2019, 2015, 2013, 2019, 2014, 2020, 2018, 2015, 2013, 2017, 2014, 2010, 2018, 2010, 2014, 2018, 2012, 2018, 2019, 2016, 2018, 2014, 2018, 2019, 2018, 2018, 2019, 2015, 2018, 2014, 2017, 2012, 2012, 2016, 2020, 2017, 2013, 2018, 2019, 2017, 2019, 2019, 2016, 2017, 2015, 2016, 2016, 2016, 2018, 2020, 2018, 2019, 2019, 2020, 2019, 2020, 2019, 2016, 2019, 2017, 2018, 2017, 2018, 2020, 2017, 2019, 2019, 2019, 2014, 2019, 2016, 2018, 2017, 2013, 2017, 2016, 2013, 2020, 2018, 2020, 2012, 2017, 2014, 2015, 2019, 2016, 2017, 2017, 2020, 2015, 2017, 2017, 2017, 2016, 2015, 2015, 2019, 2015, 2015, 2017, 2012, 2019, 2019, 2017, 2016, 2020, 2015, 2020, 2017, 2019, 2018, 2018, 2017, 2010, 2015, 2018, 2016, 2020, 2020, 2020, 2019, 2018, 2017, 2017, 2013, 2016, 2014, 2015, 2019, 2013, 2018, 2019, 2013, 2010, 2015, 2019, 2010, 2019, 2018, 2020, 2015, 2012, 2017, 2012, 2016, 2017, 2019, 2018, 2012, 2016, 2018, 2011, 2016, 2020, 2017, 2015, 2013, 2014, 2019, 2020, 2014, 2017, 2017, 2014, 2016, 2020, 2016, 2016, 2019, 2010, 2017, 2017, 2020, 2019, 2019, 2019, 2016, 2018, 2017, 2020, 2019, 2017, 2010, 2020, 2019, 2018, 2019, 2020, 2017, 2018, 2019, 2018, 2021, 2018, 2015, 2018, 2012, 2017, 2017, 2020, 2020, 2017, 2012, 2014, 2013, 2016, 2014, 2016, 2016, 2019, 2017, 2019, 2018, 2013, 2016, 2017, 2016, 2013, 2020, 2016, 2013, 2019, 2018, 2015, 2016, 2013, 2010, 2015, 2014, 2017, 2010, 2013, 2010, 2015, 2018, 2020, 2020, 2016, 2018, 2017, 2019, 2020, 2018, 2018, 2019, 2020, 2019, 2018, 2019, 2018, 2017, 2020, 2013, 2017, 2015, 2018, 2020, 2017, 2014, 2016, 2014, 2017, 2020, 2018, 2020, 2017, 2020, 2019, 2017, 2015, 2018, 2017, 2017, 2018, 2017, 2014, 2017, 2017, 2020, 2016, 2020, 2013, 2017, 2019, 2017, 2018, 2017, 2016, 2015, 2019, 2017, 2012, 2015, 2019, 2016, 2016, 2018, 2018, 2016, 2018, 2019, 2019, 2018, 2018, 2017, 2019, 2016, 2014, 2011, 2011, 2015, 2020, 2018, 2016, 2018, 2013, 2019, 2018, 2017, 2019, 2017, 2014, 2018, 2016, 2020, 2020, 2013, 2016, 2019, 2012, 2012, 2020, 2016, 2017, 2018, 2017, 2017, 2012, 2018, 2018, 2020, 2013, 2018, 2014, 2017, 2016, 2019, 2017, 2017, 2016, 2017, 2016, 2011, 2020, 2018, 2020, 2019, 2017, 2016, 2017, 2017, 2013, 2018, 2012, 2017, 2019, 2017, 2016, 2017, 2019, 2018, 2018, 2017, 2020, 2017, 2016, 2018, 2016, 2018, 2016, 2019, 2018, 2019, 2018, 2015, 2012, 2019, 2019, 2018, 2017, 2017, 2020, 2013, 2014, 2018, 2016, 2016, 2016, 2017, 2019, 2018, 2015, 2017, 2011, 2017, 2016, 2017, 2020, 2020, 2019, 2016, 2020, 2020, 2014, 2019, 2018, 2016, 2020, 2020, 2020, 2019, 2020, 2021, 2010, 2014, 2013, 2017, 2019, 2015, 2019, 2017, 2018, 2020, 2019, 2018, 2019, 2020, 2019, 2017, 2015, 2017, 2017, 2019, 2016, 2019, 2015, 2014, 2016, 2018, 2016, 2017, 2013, 2019, 2019, 2018, 2018, 2019, 2012, 2016, 2014, 2019, 2017, 2019, 2020, 2020, 2019, 2015, 2015, 2016, 2020, 2014, 2014, 2017, 2012, 2011, 2015, 2015, 2016, 2019, 2014, 2017, 2018, 2014, 2015, 2014, 2018, 2019, 2018, 2014, 2016, 2018, 2016, 2019, 2017, 2016, 2015, 2019, 2015, 2017, 2017, 2014, 2018, 2021, 2016, 2015, 2020, 2019, 2017, 2014, 2018, 2016, 2017, 2017, 2013, 2015, 2017, 2012, 2014, 2013, 2011, 2014, 2012, 2016, 2015, 2010, 2013, 2013, 2017, 2012, 2014, 2014, 2013, 2011, 2014, 2014, 2014, 2018, 2016, 2015, 2015, 2018, 2020, 2016, 2019, 2013, 2011, 2012, 2017, 2020, 2016, 2020, 2020, 2016, 2019, 2016, 2019, 2016, 2017, 2020, 2013, 2018, 2016, 2018, 2018, 2016, 2015, 2020, 2014, 2016, 2015, 2017, 2018, 2013, 2020, 2012, 2017, 2016, 2015, 2020, 2015, 2012, 2017, 2012, 2019, 2012, 2014, 2018, 2014, 2014, 2014, 2017, 2011, 2017, 2018, 2019, 2020, 2017, 2015, 2019, 2013, 2017, 2017, 2018, 2020, 2015, 2010, 2012, 2010, 2016, 2015, 2018, 2019, 2017, 2017, 2019, 2013, 2016, 2017, 2015, 2019, 2011, 2017, 2020, 2015, 2012, 2017, 2019, 2016, 2017, 2016, 2018, 2015, 2016, 2014, 2018, 2018, 2018, 2018, 2016, 2020, 2019, 2020, 2017, 2013, 2015, 2020, 2018, 2018, 2016, 2017, 2015, 2017, 2017, 2018, 2016, 2019, 2013, 2018, 2017, 2012, 2016, 2011, 2017, 2014, 2020, 2018, 2020, 2014, 2017, 2019, 2017, 2013, 2017, 2014, 2020, 2016, 2014, 2020, 2019, 2020, 2019, 2021, 2019, 2017, 2017, 2016, 2016, 2015, 2018, 2017, 2020, 2019, 2011, 2010, 2013, 2020, 2018, 2017, 2020, 2010, 2019, 2018, 2016, 2016, 2016, 2016, 2015, 2018, 2016, 2016, 2016, 2015, 2013, 2016, 2017, 2019, 2017, 2014, 2016, 2018, 2018, 2016, 2016, 2020, 2018, 2018, 2018, 2017, 2016, 2018, 2018, 2020, 2017, 2018, 2018, 2018, 2013, 2018, 2020, 2020, 2021, 2014, 2018, 2016, 2016, 2019, 2016, 2019, 2019, 2020, 2015, 2018, 2018, 2014, 2017, 2019, 2011, 2017, 2011, 2019, 2016, 2016, 2019, 2020, 2020, 2017, 2019, 2016, 2016, 2018, 2017, 2020, 2019, 2019, 2016, 2020, 2019, 2017, 2020, 2016, 2018, 2018, 2019, 2017, 2018, 2017, 2017, 2017, 2017, 2018, 2017, 2017, 2018, 2017, 2017, 2017, 2017, 2017, 2018, 2017, 2018, 2018, 2012, 2018, 2017, 2016, 2019, 2016, 2018, 2019, 2012, 2015, 2011, 2015, 2016, 2013, 2013, 2016, 2016, 2016, 2014, 2018, 2019, 2017, 2020, 2015, 2020, 2020, 2017, 2018, 2018, 2018, 2015, 2015, 2020, 2011, 2016, 2016, 2017, 2017, 2015, 2011, 2012, 2015, 2012, 2014, 2020, 2017, 2019, 2019, 2019, 2019, 2013, 2016, 2017, 2018, 2017, 2020, 2018, 2015, 2013, 2018, 2014, 2013, 2012, 2020, 2017, 2018, 2020, 2018, 2017, 2017, 2016, 2010, 2018, 2018, 2018, 2018, 2018, 2018, 2018, 2018, 2018, 2019, 2019, 2019, 2010, 2013, 2014, 2016, 2019, 2020, 2019, 2013, 2017, 2016, 2018, 2017, 2016, 2012, 2016, 2017, 2019, 2018, 2020, 2015, 2020, 2019, 2013, 2018, 2015, 2016, 2015, 2020, 2016, 2016, 2016, 2018, 2012, 2012, 2018, 2016, 2019, 2019, 2017, 2018, 2016, 2016, 2018, 2017, 2011, 2019, 2016, 2019, 2017, 2019, 2014, 2019, 2018, 2011, 2016, 2019, 2019, 2017, 2017, 2018, 2017, 2015, 2020, 2017, 2018, 2018, 2018, 2021, 2020, 2020, 2017, 2017, 2020, 2015, 2016, 2010, 2017, 2017, 2020, 2017, 2012, 2014, 2016, 2019, 2016, 2017, 2018, 2015, 2019, 2013, 2019, 2018, 2016, 2011, 2019, 2015, 2015, 2020, 2017, 2016, 2019, 2017, 2014, 2018, 2018, 2018, 2019, 2018, 2020, 2018, 2016, 2020, 2018, 2016, 2012, 2014, 2019, 2017, 2018, 2019, 2019, 2015, 2018, 2017, 2018, 2018, 2020, 2016, 2011, 2017, 2019, 2019, 2020, 2014, 2017, 2020, 2016, 2017, 2016, 2010, 2018, 2016, 2019, 2018, 2015, 2013, 2016, 2010, 2019, 2014, 2016, 2019, 2018, 2014, 2016, 2018, 2016, 2018, 2017, 2018, 2017, 2018, 2018, 2016, 2019, 2016, 2020, 2016, 2018, 2020, 2019, 2019, 2016, 2018, 2015, 2015, 2015, 2012, 2016, 2017, 2018, 2017, 2020, 2018, 2018, 2018, 2019, 2017, 2018, 2016, 2019, 2019, 2018, 2014, 2018, 2014, 2018, 2016, 2010, 2016, 2012, 2012, 2018, 2019, 2020, 2018, 2017, 2015, 2015, 2015, 2014, 2016, 2019, 2020, 2017, 2018, 2019, 2019, 2019, 2019, 2020, 2018, 2013, 2018, 2017, 2018, 2016, 2013, 2018, 2016, 2019, 2017, 2016, 2019, 2018, 2017, 2017, 2017, 2010, 2016, 2017, 2020, 2020, 2015, 2016, 2018, 2011, 2011, 2011, 2011, 2014, 2014, 2012, 2012, 2012, 2013, 2013, 2013, 2013, 2019, 2019, 2015, 2013, 2015, 2010, 2021, 2018, 2018, 2012, 2017, 2019, 2018, 2017, 2014, 2017, 2018, 2020, 2012, 2018, 2011, 2016, 2017, 2018, 2020, 2017, 2019, 2018, 2016, 2020, 2018, 2018, 2011, 2020, 2015, 2016, 2018, 2014, 2020, 2016, 2017, 2018, 2018, 2017, 2012, 2017, 2011, 2019, 2011, 2015, 2014, 2019, 2017, 2019, 2012, 2018, 2020, 2015, 2018, 2012, 2014, 2015, 2018, 2020, 2017, 2018, 2020, 2019, 2018, 2019, 2018, 2017, 2019, 2010, 2020, 2012, 2018, 2013, 2013, 2012, 2015, 2018, 2017, 2016, 2018, 2011, 2014, 2020, 2015, 2015, 2016, 2018, 2016, 2016, 2019, 2016, 2014, 2014, 2018, 2018, 2019, 2018, 2015, 2015, 2018, 2016, 2012, 2018, 2016, 2018, 2010, 2011, 2017, 2017, 2018, 2020, 2021, 2016, 2019, 2017, 2019, 2015, 2017, 2018, 2011, 2011, 2019, 2010, 2017, 2011, 2015, 2020, 2020, 2016, 2016, 2018, 2018, 2019, 2018, 2020, 2018, 2016, 2016, 2017, 2017, 2013, 2016, 2016, 2015, 2016, 2017, 2020, 2012, 2017, 2012, 2019, 2019, 2019, 2019, 2019, 2018, 2018, 2018, 2015, 2015, 2010, 2017, 2018, 2015, 2014, 2012, 2014, 2018, 2010, 2017, 2020, 2020, 2016, 2015, 2017, 2018, 2017, 2016, 2016, 2017, 2014, 2019, 2018, 2018, 2018, 2017, 2017, 2017, 2012, 2020, 2020, 2020, 2019, 2016, 2016, 2016, 2018, 2019, 2020, 2015, 2018, 2020, 2019, 2020, 2018, 2019, 2019, 2017, 2015, 2015, 2017, 2016, 2017, 2020, 2013, 2018, 2010, 2020, 2020, 2020, 2011, 2019, 2018, 2019, 2016, 2020, 2010, 2015, 2020, 2016, 2018, 2015, 2018, 2018, 2016, 2019, 2019, 2016, 2017, 2017, 2017, 2020, 2019, 2020, 2014, 2018, 2017, 2015, 2019, 2018, 2019, 2020, 2019, 2010, 2013, 2019, 2014, 2018, 2018, 2018, 2019, 2019, 2015, 2020, 2017, 2012, 2016, 2020, 2016, 2020, 2017, 2018, 2020, 2020, 2019, 2012, 2018, 2016, 2016, 2020, 2017, 2016, 2020, 2018, 2020, 2018, 2017, 2010, 2018, 2017, 2015, 2013, 2016, 2013, 2019, 2019, 2020, 2016, 2017, 2016, 2016, 2020, 2015, 2019, 2019, 2016, 2017, 2018, 2019, 2013, 2017, 2014, 2016, 2014, 2016, 2018, 2012, 2017, 2016, 2013, 2016, 2019, 2019, 2018, 2014, 2018, 2014, 2020, 2016, 2017, 2019, 2017, 2017, 2013, 2014, 2012, 2018, 2018, 2017, 2017, 2016, 2017, 2018, 2020, 2016, 2019, 2014, 2019, 2016, 2010, 2020, 2018, 2018, 2020, 2017, 2010, 2014, 2015, 2016, 2018, 2018, 2018, 2017, 2017, 2018, 2014, 2012, 2017, 2014, 2017, 2013, 2016, 2017, 2018, 2017, 2015, 2019, 2017, 2013, 2019, 2018, 2020, 2014, 2017, 2019, 2018, 2011, 2019, 2013, 2020, 2019, 2016, 2020, 2020, 2012, 2018, 2010, 2019, 2018, 2013, 2018, 2012, 2014, 2012, 2011, 2018, 2019, 2012, 2016, 2015, 2014, 2016, 2015, 2019, 2015, 2016, 2017, 2019, 2018, 2013, 2013, 2016, 2013, 2014, 2013, 2013, 2014, 2020, 2013, 2014, 2014, 2017, 2017, 2019, 2018, 2018, 2019, 2018, 2020, 2020, 2015, 2020, 2015, 2012, 2010, 2018, 2016, 2015, 2016, 2017, 2020, 2018, 2020, 2020, 2015, 2018, 2011, 2019, 2018, 2020, 2013, 2019, 2019, 2018, 2017, 2018, 2018, 2017, 2019, 2014, 2010, 2016, 2020, 2020, 2019, 2019, 2019, 2019, 2018, 2016, 2011, 2011, 2019, 2012, 2019, 2011, 2018, 2016, 2020, 2020, 2020, 2020, 2020, 2019, 2020, 2014, 2018, 2010, 2013, 2019, 2010, 2016, 2017, 2020, 2017, 2018, 2020, 2018, 2018, 2018, 2014, 2016, 2018, 2017, 2011, 2016, 2013, 2016, 2017, 2017, 2016, 2013, 2015, 2017, 2017, 2018, 2019, 2020, 2018, 2017, 2018, 2014, 2018, 2014, 2016, 2020, 2018, 2014, 2012, 2016, 2019, 2016, 2012, 2015, 2016, 2019, 2012, 2017, 2019, 2018, 2015, 2018, 2020, 2020, 2020, 2019, 2013, 2011, 2015, 2018, 2018, 2015, 2017, 2015, 2017, 2019, 2016, 2018, 2016, 2015, 2012, 2018, 2020, 2020, 2019, 2020, 2014, 2016, 2016, 2017, 2016, 2016, 2016, 2020, 2014, 2018, 2010, 2019, 2017, 2019, 2015, 2019, 2019, 2019, 2020, 2018, 2017, 2015, 2017, 2017, 2017, 2016, 2018, 2015, 2020, 2016, 2016, 2013, 2020, 2018, 2020, 2013, 2016, 2018, 2017, 2020, 2018, 2018, 2018, 2015, 2017, 2020, 2019, 2020, 2015, 2017, 2018, 2016, 2017, 2019, 2013, 2015, 2014, 2018, 2020, 2018, 2016, 2017, 2018, 2016, 2015, 2011, 2019, 2019, 2016, 2020, 2020, 2016, 2014, 2015, 2016, 2017, 2018, 2013, 2019, 2013, 2016, 2016, 2020, 2017, 2019, 2020, 2020, 2017, 2014, 2018, 2020, 2019, 2020, 2020, 2019, 2019, 2017, 2018, 2017, 2018, 2019, 2015, 2015, 2012, 2018, 2018, 2011, 2018, 2015, 2017, 2018, 2019, 2018, 2015, 2015, 2017, 2014, 2020, 2020, 2013, 2018, 2020, 2014, 2020, 2015, 2018, 2019, 2019, 2018, 2018, 2018, 2017, 2014, 2015, 2018, 2010, 2010, 2018, 2019, 2015, 2010, 2020, 2017, 2014, 2014, 2015, 2015, 2017, 2016, 2020, 2019, 2016, 2020, 2019, 2019, 2015, 2010, 2018, 2019, 2019, 2020, 2018, 2018, 2016, 2016, 2017, 2017, 2016, 2017, 2018, 2018, 2021, 2018, 2019, 2018, 2019, 2019, 2019, 2015, 2020, 2011, 2018, 2013, 2015, 2020, 2020, 2020, 2014, 2014, 2018, 2019, 2015, 2020, 2017, 2017, 2020, 2018, 2016, 2014, 2019, 2018, 2017, 2019, 2018, 2019, 2018, 2019, 2019, 2018, 2019, 2019, 2018, 2020, 2020, 2020, 2019, 2014, 2020, 2019, 2018, 2019, 2016, 2019, 2016, 2015, 2017, 2021, 2017, 2019, 2020, 2019, 2014, 2017, 2017, 2016, 2018, 2019, 2018, 2014, 2014, 2020, 2017, 2019, 2018, 2016, 2018, 2018, 2018, 2016, 2018, 2018, 2010, 2020, 2017, 2020, 2020, 2017, 2011, 2018, 2017, 2018, 2018, 2018, 2010, 2014, 2012, 2018, 2018, 2019, 2017, 2019, 2016, 2014, 2015, 2011, 2018, 2011, 2017, 2018, 2015, 2020, 2013, 2017, 2018, 2012, 2018, 2018, 2020, 2014, 2016, 2016, 2017, 2016, 2020, 2019, 2019, 2018, 2018, 2011, 2010, 2020, 2016, 2010, 2019, 2016, 2017, 2017, 2015, 2012, 2010, 2016, 2015, 2017, 2016, 2018, 2019, 2017, 2018, 2016, 2012, 2015, 2012, 2019, 2019, 2019, 2019, 2011, 2015, 2013, 2018, 2020, 2016, 2018, 2018, 2016, 2020, 2018, 2019, 2019, 2016, 2019, 2018, 2017, 2018, 2015, 2010, 2016, 2018, 2011, 2016, 2018, 2016, 2019, 2014, 2020, 2013, 2019, 2018, 2018, 2019, 2019, 2010, 2014, 2015, 2019, 2020, 2016, 2017, 2013, 2011, 2018, 2016, 2016, 2018, 2016, 2020, 2017, 2020, 2010, 2017, 2016, 2015, 2016, 2018, 2017, 2017, 2020, 2018, 2014, 2020, 2012, 2016, 2020, 2016, 2016, 2011, 2015, 2018, 2020, 2020, 2018, 2020, 2018, 2018, 2017, 2019, 2017, 2016, 2015, 2019, 2016, 2018, 2016, 2019, 2013, 2019, 2019, 2019, 2016, 2011, 2019, 2010, 2020, 2013, 2020, 2020, 2015, 2019, 2010, 2016, 2010, 2019, 2020, 2020, 2019, 2019, 2017, 2018, 2018, 2018, 2015, 2017, 2017, 2020, 2017, 2013, 2018, 2020, 2013, 2017, 2019, 2016, 2020, 2017, 2020, 2018, 2014, 2019, 2017, 2017, 2019, 2014, 2017, 2016, 2018, 2019, 2016, 2015, 2020, 2017, 2010, 2016, 2019, 2015, 2013, 2018, 2020, 2016, 2020, 2020, 2020, 2017, 2020, 2017, 2018, 2019, 2011, 2019, 2018, 2018, 2010, 2018, 2018, 2019, 2019, 2016, 2018, 2013, 2013, 2011, 2018, 2016, 2019, 2020, 2015, 2015, 2020, 2013, 2020, 2019, 2015, 2018, 2016, 2015, 2011, 2015, 2019, 2018, 2016, 2016, 2015, 2017, 2017, 2015, 2020, 2016, 2010, 2017, 2017, 2018, 2020, 2020, 2019, 2019, 2019, 2018, 2017, 2017, 2020, 2017, 2012, 2013, 2019, 2020, 2018, 2016, 2015, 2019, 2019, 2017, 2018, 2019, 2017, 2016, 2016, 2016, 2017, 2019, 2016, 2016, 2018, 2011, 2020, 2016, 2018, 2020, 2019, 2016, 2015, 2016, 2019, 2019, 2015, 2017, 2019, 2020, 2019, 2020, 2016, 2020, 2016, 2019, 2013, 2010, 2012, 2015, 2018, 2010, 2010, 2018, 2015, 2014, 2019, 2016, 2018, 2019, 2017, 2017, 2017, 2016, 2019, 2020, 2014, 2020, 2017, 2016, 2017, 2016, 2017, 2013, 2016, 2015, 2016, 2018, 2013, 2018, 2018, 2017, 2018, 2020, 2019, 2017, 2020, 2018, 2016, 2011, 2016, 2018, 2018, 2017, 2018, 2020, 2016, 2020, 2020, 2014, 2015, 2015, 2014, 2016, 2013, 2018, 2020, 2020, 2018, 2012, 2019, 2020, 2011, 2013, 2011, 2013, 2016, 2018, 2018, 2013, 2020, 2018, 2019, 2015, 2015, 2020, 2017, 2013, 2020, 2018, 2017, 2020, 2020, 2018, 2011, 2017, 2015, 2017, 2019, 2012, 2019, 2018, 2020, 2020, 2016, 2017, 2015, 2018, 2020, 2017, 2020, 2019, 2016, 2015, 2018, 2013, 2017, 2018, 2014, 2015, 2018, 2016, 2019, 2021, 2020, 2012, 2011, 2020, 2010, 2014, 2017, 2018, 2018, 2017, 2019, 2018, 2020, 2018, 2018, 2016, 2018, 2011, 2018, 2017, 2016, 2015, 2019, 2019, 2011, 2014, 2018, 2013, 2016, 2015, 2010, 2018, 2016, 2018, 2010, 2013, 2016, 2010, 2017, 2017, 2017, 2017, 2018, 2019, 2019, 2020, 2019, 2010, 2017, 2018, 2020, 2019, 2019, 2017, 2017, 2012, 2018, 2018, 2016, 2020, 2010, 2019, 2019, 2020, 2020, 2010, 2016, 2018, 2017, 2020, 2020, 2019, 2014, 2019, 2017, 2018, 2018, 2016, 2019, 2020, 2019, 2020, 2016, 2019, 2018, 2020, 2018, 2019, 2017, 2019, 2014, 2016, 2019, 2019, 2020, 2019, 2013, 2017, 2020, 2019, 2020, 2020, 2010, 2016, 2016, 2017, 2018, 2015, 2019, 2017, 2015, 2015, 2017, 2019, 2018, 2019, 2014, 2017, 2020, 2019, 2015, 2020, 2017, 2016, 2017, 2018, 2020, 2020, 2020, 2020, 2020, 2012, 2018, 2019, 2017, 2017, 2017, 2015, 2012, 2020, 2017, 2018, 2017, 2013, 2019, 2015, 2020, 2015, 2015, 2017, 2013, 2020, 2020, 2017, 2019, 2016, 2019, 2021, 2012, 2020, 2017, 2016, 2018, 2011, 2016, 2017, 2012, 2017, 2016, 2016, 2015, 2018, 2018, 2017, 2017, 2018, 2017, 2019, 2017, 2011, 2015, 2017, 2019, 2019, 2021, 2020, 2020, 2018, 2016, 2018, 2020, 2018, 2017, 2017, 2016, 2014, 2018, 2019, 2011, 2020, 2012, 2020, 2018, 2014, 2018, 2020, 2018, 2010, 2015, 2018, 2017, 2017, 2020, 2019, 2018, 2019, 2018, 2020, 2016, 2019, 2018, 2014, 2017, 2019, 2019, 2012, 2020, 2018, 2013, 2014, 2017, 2012, 2012, 2018, 2015, 2020, 2020, 2012, 2020, 2020, 2018, 2017, 2017, 2014, 2019, 2018, 2020, 2016, 2017, 2019, 2020, 2016, 2019, 2020, 2019, 2018, 2020, 2018, 2020, 2018, 2020, 2020, 2016, 2010, 2015, 2016, 2016, 2019, 2017, 2016, 2019, 2019, 2018, 2015, 2017, 2018, 2015, 2016, 2015, 2016, 2011, 2014, 2020, 2018, 2018, 2016, 2017, 2019, 2019, 2016, 2011, 2020, 2014, 2014, 2017, 2017, 2011, 2010, 2015, 2017, 2019, 2017, 2014, 2012, 2020, 2015, 2020, 2016, 2018, 2019, 2019, 2019, 2018, 2014, 2015, 2018, 2014, 2013, 2017, 2019, 2016, 2014, 2019, 2019, 2019, 2020, 2015, 2013, 2018, 2018, 2019, 2020, 2011, 2013, 2017, 2020, 2010, 2019, 2019, 2016, 2018, 2016, 2013, 2020, 2019, 2019, 2010, 2019, 2013, 2018, 2020, 2018, 2015, 2016, 2017, 2017, 2019, 2020, 2017, 2018, 2015, 2017, 2016, 2020, 2018, 2016, 2016, 2018, 2014, 2013, 2016, 2020, 2016, 2017, 2018, 2010, 2019, 2018, 2016, 2017, 2018, 2019, 2020, 2020, 2018, 2017, 2016, 2015, 2016, 2016, 2010, 2019, 2019, 2020, 2011, 2020, 2020, 2017, 2019, 2015, 2016, 2013, 2019, 2016, 2020, 2019, 2017, 2020, 2017, 2020, 2015, 2017, 2018, 2020, 2017, 2016, 2015, 2018, 2015, 2019, 2018, 2014, 2016, 2017, 2019, 2018, 2016, 2018, 2015, 2020, 2020, 2017, 2015, 2018, 2018, 2019, 2020, 2019, 2010, 2016, 2016, 2020, 2017, 2018, 2019, 2019, 2018, 2020, 2016, 2019, 2017, 2020, 2019, 2016, 2016, 2019, 2016, 2017, 2013, 2019, 2016, 2016, 2019, 2016, 2018, 2018, 2017, 2020, 2019, 2014, 2019, 2017, 2015, 2017, 2015, 2015, 2020, 2020, 2020, 2020, 2017, 2017, 2011, 2010, 2010, 2019, 2016, 2019, 2018, 2018, 2010, 2018, 2019, 2017, 2017, 2018, 2019, 2017, 2017, 2019, 2019, 2017, 2015, 2018, 2016, 2020, 2020, 2019, 2016, 2017, 2019, 2011, 2015, 2013, 2018, 2020, 2017, 2017, 2014, 2010, 2016, 2014, 2018, 2020, 2019, 2020, 2014, 2018, 2017, 2018, 2020, 2016, 2019, 2018, 2017, 2020, 2015, 2018, 2017, 2017, 2018, 2012, 2018, 2016, 2017, 2017, 2017, 2010, 2011, 2020, 2020, 2014, 2018, 2016, 2016, 2017, 2016, 2020, 2016, 2019, 2020, 2017, 2019, 2018, 2019, 2018, 2016, 2020, 2016, 2015, 2016, 2018, 2016, 2019, 2015, 2017, 2018, 2014, 2014, 2015, 2016, 2017, 2020, 2016, 2019, 2017, 2014, 2017, 2017, 2013, 2020, 2020, 2016, 2016, 2020, 2020, 2014, 2016, 2020, 2018, 2018, 2019, 2019, 2017, 2019, 2015, 2018, 2015, 2018, 2020, 2016, 2017, 2018, 2019, 2020, 2020, 2021, 2019, 2020, 2016, 2014, 2016, 2019, 2019, 2019, 2018, 2017, 2019, 2017, 2017, 2018, 2017, 2018, 2019, 2016, 2017, 2019, 2020, 2019, 2019, 2018, 2020, 2020, 2019, 2019, 2018, 2020, 2015, 2018, 2017, 2016, 2019, 2010, 2012, 2010, 2020, 2019, 2016, 2019, 2019, 2013, 2016, 2017, 2019, 2017, 2014, 2019, 2010, 2019, 2020, 2018, 2018, 2015, 2018, 2013, 2018, 2016, 2019, 2020, 2015, 2019, 2016, 2020, 2010, 2016, 2013, 2020, 2015, 2018, 2018, 2019, 2019, 2020, 2019, 2020, 2015, 2015, 2016, 2018, 2017, 2020, 2019, 2019, 2020, 2018, 2019, 2017, 2016, 2016, 2019, 2020, 2019, 2019, 2011, 2017, 2016, 2016, 2018, 2020, 2016, 2013, 2020, 2019, 2016, 2017, 2013, 2017, 2012, 2014, 2014, 2019, 2017, 2017, 2011, 2020, 2020, 2019, 2020, 2019, 2017, 2012, 2011, 2018, 2020, 2020, 2018, 2020, 2018, 2018, 2011, 2020, 2019, 2019, 2017, 2020, 2018, 2018, 2016, 2019, 2019, 2019, 2018, 2020, 2020, 2018, 2020, 2020, 2019, 2018, 2020, 2016, 2016, 2018, 2016, 2017, 2016, 2016, 2019, 2018, 2020, 2017, 2017, 2018, 2017, 2015, 2012, 2012, 2017, 2018, 2015, 2013, 2018, 2016, 2020, 2016, 2016, 2018, 2019, 2018, 2017, 2020, 2018, 2020, 2013, 2020, 2010, 2014, 2015, 2017, 2014, 2018, 2018, 2020, 2018, 2018, 2017, 2016, 2018, 2018, 2011, 2015, 2018, 2017, 2013, 2016, 2015, 2012, 2019, 2015, 2010, 2017, 2016, 2017, 2014, 2017, 2017, 2019, 2017, 2015, 2019, 2019, 2018, 2018, 2013, 2013, 2011, 2017, 2016, 2014, 2015, 2018, 2020, 2014, 2020, 2020, 2020, 2019, 2017, 2018, 2018, 2011, 2016, 2010, 2019, 2020, 2020, 2019, 2014, 2015, 2018, 2018, 2020, 2018, 2016, 2018, 2020, 2018, 2017, 2012, 2017, 2015, 2018, 2017, 2018, 2018, 2012, 2016, 2016, 2015, 2013, 2016, 2014, 2020, 2018, 2017, 2020, 2020, 2016, 2015, 2018, 2019, 2015, 2017, 2019, 2017, 2020, 2018, 2020, 2017, 2021, 2015, 2016, 2019, 2015, 2012, 2018, 2017, 2017, 2018, 2019, 2013, 2017, 2015, 2020, 2017, 2020, 2021, 2017, 2020, 2018, 2017, 2013, 2018, 2015, 2014, 2019, 2019, 2016, 2018, 2017, 2015, 2019, 2020, 2018, 2018, 2016, 2019, 2016, 2020, 2016, 2016, 2019, 2010, 2019, 2020, 2017, 2019, 2011, 2017, 2020, 2016, 2016, 2015, 2015, 2013, 2019, 2016, 2018, 2018, 2018, 2017, 2019, 2017, 2020, 2018, 2019, 2017, 2016, 2015, 2014, 2010, 2015, 2019, 2014, 2019, 2020, 2021, 2015, 2017, 2011, 2016, 2017, 2020, 2018, 2016, 2010, 2019, 2019, 2014, 2017, 2019, 2017, 2020, 2020, 2020, 2020, 2014, 2020, 2017, 2017, 2020, 2015, 2017, 2013, 2018, 2015, 2016, 2019, 2014, 2018, 2011, 2015, 2016, 2016, 2017, 2020, 2011, 2013, 2019, 2019, 2018, 2020, 2014, 2018, 2014, 2010, 2012, 2015, 2014, 2020, 2018, 2015, 2016, 2016, 2016, 2015, 2016, 2018, 2018, 2020, 2019, 2020, 2017, 2017, 2020, 2015, 2017, 2019, 2016, 2015, 2020, 2017, 2011, 2020, 2019, 2014, 2020, 2018, 2012, 2020, 2019, 2016, 2015, 2018, 2019, 2016, 2018, 2018, 2016, 2014, 2014, 2018, 2018, 2016, 2012, 2016, 2011, 2015, 2018, 2016, 2016, 2018, 2011, 2018, 2019, 2018, 2015, 2019, 2019, 2019], \"legendgroup\": \"\", \"name\": \"\", \"showlegend\": true, \"type\": \"pie\", \"values\": [1, 1, 1, 1, 1, 1, 1, 1, 1, 1, 1, 1, 1, 1, 1, 1, 1, 1, 1, 1, 1, 1, 1, 1, 1, 1, 1, 1, 1, 1, 1, 1, 1, 1, 1, 1, 1, 1, 1, 1, 1, 1, 1, 1, 1, 1, 1, 1, 1, 1, 1, 1, 1, 1, 1, 1, 1, 1, 1, 1, 1, 1, 1, 1, 1, 1, 1, 1, 1, 1, 1, 1, 1, 1, 1, 1, 1, 1, 1, 1, 1, 1, 1, 1, 1, 1, 1, 1, 1, 1, 1, 1, 1, 1, 1, 1, 1, 1, 1, 1, 1, 1, 1, 1, 1, 1, 1, 1, 1, 1, 1, 1, 1, 1, 1, 1, 1, 1, 1, 1, 1, 1, 1, 1, 1, 1, 1, 1, 1, 1, 1, 1, 1, 1, 1, 1, 1, 1, 1, 1, 1, 1, 1, 1, 1, 1, 1, 1, 1, 1, 1, 1, 1, 1, 1, 1, 1, 1, 1, 1, 1, 1, 1, 1, 1, 1, 1, 1, 1, 1, 1, 1, 1, 1, 1, 1, 1, 1, 1, 1, 1, 1, 1, 1, 1, 1, 1, 1, 1, 1, 1, 1, 1, 1, 1, 1, 1, 1, 1, 1, 1, 1, 1, 1, 1, 1, 1, 1, 1, 1, 1, 1, 1, 1, 1, 1, 1, 1, 1, 1, 1, 1, 1, 1, 1, 1, 1, 1, 1, 1, 1, 1, 1, 1, 1, 1, 1, 1, 1, 1, 1, 1, 1, 1, 1, 1, 1, 1, 1, 1, 1, 1, 1, 1, 1, 1, 1, 1, 1, 1, 1, 1, 1, 1, 1, 1, 1, 1, 1, 1, 1, 1, 1, 1, 1, 1, 1, 1, 1, 1, 1, 1, 1, 1, 1, 1, 1, 1, 1, 1, 1, 1, 1, 1, 1, 1, 1, 1, 1, 1, 1, 1, 1, 1, 1, 1, 1, 1, 1, 1, 1, 1, 1, 1, 1, 1, 1, 1, 1, 1, 1, 1, 1, 1, 1, 1, 1, 1, 1, 1, 1, 1, 1, 1, 1, 1, 1, 1, 1, 1, 1, 1, 1, 1, 1, 1, 1, 1, 1, 1, 1, 1, 1, 1, 1, 1, 1, 1, 1, 1, 1, 1, 1, 1, 1, 1, 1, 1, 1, 1, 1, 1, 1, 1, 1, 1, 1, 1, 1, 1, 1, 1, 1, 1, 1, 1, 1, 1, 1, 1, 1, 1, 1, 1, 1, 1, 1, 1, 1, 1, 1, 1, 1, 1, 1, 1, 1, 1, 1, 1, 1, 1, 1, 1, 1, 1, 1, 1, 1, 1, 1, 1, 1, 1, 1, 1, 1, 1, 1, 1, 1, 1, 1, 1, 1, 1, 1, 1, 1, 1, 1, 1, 1, 1, 1, 1, 1, 1, 1, 1, 1, 1, 1, 1, 1, 1, 1, 1, 1, 1, 1, 1, 1, 1, 1, 1, 1, 1, 1, 1, 1, 1, 1, 1, 1, 1, 1, 1, 1, 1, 1, 1, 1, 1, 1, 1, 1, 1, 1, 1, 1, 1, 1, 1, 1, 1, 1, 1, 1, 1, 1, 1, 1, 1, 1, 1, 1, 1, 1, 1, 1, 1, 1, 1, 1, 1, 1, 1, 1, 1, 1, 1, 1, 1, 1, 1, 1, 1, 1, 1, 1, 1, 1, 1, 1, 1, 1, 1, 1, 1, 1, 1, 1, 1, 1, 1, 1, 1, 1, 1, 1, 1, 1, 1, 1, 1, 1, 1, 1, 1, 1, 1, 1, 1, 1, 1, 1, 1, 1, 1, 1, 1, 1, 1, 1, 1, 1, 1, 1, 1, 1, 1, 1, 1, 1, 1, 1, 1, 1, 1, 1, 1, 1, 1, 1, 1, 1, 1, 1, 1, 1, 1, 1, 1, 1, 1, 1, 1, 1, 1, 1, 1, 1, 1, 1, 1, 1, 1, 1, 1, 1, 1, 1, 1, 1, 1, 1, 1, 1, 1, 1, 1, 1, 1, 1, 1, 1, 1, 1, 1, 1, 1, 1, 1, 1, 1, 1, 1, 1, 1, 1, 1, 1, 1, 1, 1, 1, 1, 1, 1, 1, 1, 1, 1, 1, 1, 1, 1, 1, 1, 1, 1, 1, 1, 1, 1, 1, 1, 1, 1, 1, 1, 1, 1, 1, 1, 1, 1, 1, 1, 1, 1, 1, 1, 1, 1, 1, 1, 1, 1, 1, 1, 1, 1, 1, 1, 1, 1, 1, 1, 1, 1, 1, 1, 1, 1, 1, 1, 1, 1, 1, 1, 1, 1, 1, 1, 1, 1, 1, 1, 1, 1, 1, 1, 1, 1, 1, 1, 1, 1, 1, 1, 1, 1, 1, 1, 1, 1, 1, 1, 1, 1, 1, 1, 1, 1, 1, 1, 1, 1, 1, 1, 1, 1, 1, 1, 1, 1, 1, 1, 1, 1, 1, 1, 1, 1, 1, 1, 1, 1, 1, 1, 1, 1, 1, 1, 1, 1, 1, 1, 1, 1, 1, 1, 1, 1, 1, 1, 1, 1, 1, 1, 1, 1, 1, 1, 1, 1, 1, 1, 1, 1, 1, 1, 1, 1, 1, 1, 1, 1, 1, 1, 1, 1, 1, 1, 1, 1, 1, 1, 1, 1, 1, 1, 1, 1, 1, 1, 1, 1, 1, 1, 1, 1, 1, 1, 1, 1, 1, 1, 1, 1, 1, 1, 1, 1, 1, 1, 1, 1, 1, 1, 1, 1, 1, 1, 1, 1, 1, 1, 1, 1, 1, 1, 1, 1, 1, 1, 1, 1, 1, 1, 1, 1, 1, 1, 1, 1, 1, 1, 1, 1, 1, 1, 1, 1, 1, 1, 1, 1, 1, 1, 1, 1, 1, 1, 1, 1, 1, 1, 1, 1, 1, 1, 1, 1, 1, 1, 1, 1, 1, 1, 1, 1, 1, 1, 1, 1, 1, 1, 1, 1, 1, 1, 1, 1, 1, 1, 1, 1, 1, 1, 1, 1, 1, 1, 1, 1, 1, 1, 1, 1, 1, 1, 1, 1, 1, 1, 1, 1, 1, 1, 1, 1, 1, 1, 1, 1, 1, 1, 1, 1, 1, 1, 1, 1, 1, 1, 1, 1, 1, 1, 1, 1, 1, 1, 1, 1, 1, 1, 1, 1, 1, 1, 1, 1, 1, 1, 1, 1, 1, 1, 1, 1, 1, 1, 1, 1, 1, 1, 1, 1, 1, 1, 1, 1, 1, 1, 1, 1, 1, 1, 1, 1, 1, 1, 1, 1, 1, 1, 1, 1, 1, 1, 1, 1, 1, 1, 1, 1, 1, 1, 1, 1, 1, 1, 1, 1, 1, 1, 1, 1, 1, 1, 1, 1, 1, 1, 1, 1, 1, 1, 1, 1, 1, 1, 1, 1, 1, 1, 1, 1, 1, 1, 1, 1, 1, 1, 1, 1, 1, 1, 1, 1, 1, 1, 1, 1, 1, 1, 1, 1, 1, 1, 1, 1, 1, 1, 1, 1, 1, 1, 1, 1, 1, 1, 1, 1, 1, 1, 1, 1, 1, 1, 1, 1, 1, 1, 1, 1, 1, 1, 1, 1, 1, 1, 1, 1, 1, 1, 1, 1, 1, 1, 1, 1, 1, 1, 1, 1, 1, 1, 1, 1, 1, 1, 1, 1, 1, 1, 1, 1, 1, 1, 1, 1, 1, 1, 1, 1, 1, 1, 1, 1, 1, 1, 1, 1, 1, 1, 1, 1, 1, 1, 1, 1, 1, 1, 1, 1, 1, 1, 1, 1, 1, 1, 1, 1, 1, 1, 1, 1, 1, 1, 1, 1, 1, 1, 1, 1, 1, 1, 1, 1, 1, 1, 1, 1, 1, 1, 1, 1, 1, 1, 1, 1, 1, 1, 1, 1, 1, 1, 1, 1, 1, 1, 1, 1, 1, 1, 1, 1, 1, 1, 1, 1, 1, 1, 1, 1, 1, 1, 1, 1, 1, 1, 1, 1, 1, 1, 1, 1, 1, 1, 1, 1, 1, 1, 1, 1, 1, 1, 1, 1, 1, 1, 1, 1, 1, 1, 1, 1, 1, 1, 1, 1, 1, 1, 1, 1, 1, 1, 1, 1, 1, 1, 1, 1, 1, 1, 1, 1, 1, 1, 1, 1, 1, 1, 1, 1, 1, 1, 1, 1, 1, 1, 1, 1, 1, 1, 1, 1, 1, 1, 1, 1, 1, 1, 1, 1, 1, 1, 1, 1, 1, 1, 1, 1, 1, 1, 1, 1, 1, 1, 1, 1, 1, 1, 1, 1, 1, 1, 1, 1, 1, 1, 1, 1, 1, 1, 1, 1, 1, 1, 1, 1, 1, 1, 1, 1, 1, 1, 1, 1, 1, 1, 1, 1, 1, 1, 1, 1, 1, 1, 1, 1, 1, 1, 1, 1, 1, 1, 1, 1, 1, 1, 1, 1, 1, 1, 1, 1, 1, 1, 1, 1, 1, 1, 1, 1, 1, 1, 1, 1, 1, 1, 1, 1, 1, 1, 1, 1, 1, 1, 1, 1, 1, 1, 1, 1, 1, 1, 1, 1, 1, 1, 1, 1, 1, 1, 1, 1, 1, 1, 1, 1, 1, 1, 1, 1, 1, 1, 1, 1, 1, 1, 1, 1, 1, 1, 1, 1, 1, 1, 1, 1, 1, 1, 1, 1, 1, 1, 1, 1, 1, 1, 1, 1, 1, 1, 1, 1, 1, 1, 1, 1, 1, 1, 1, 1, 1, 1, 1, 1, 1, 1, 1, 1, 1, 1, 1, 1, 1, 1, 1, 1, 1, 1, 1, 1, 1, 1, 1, 1, 1, 1, 1, 1, 1, 1, 1, 1, 1, 1, 1, 1, 1, 1, 1, 1, 1, 1, 1, 1, 1, 1, 1, 1, 1, 1, 1, 1, 1, 1, 1, 1, 1, 1, 1, 1, 1, 1, 1, 1, 1, 1, 1, 1, 1, 1, 1, 1, 1, 1, 1, 1, 1, 1, 1, 1, 1, 1, 1, 1, 1, 1, 1, 1, 1, 1, 1, 1, 1, 1, 1, 1, 1, 1, 1, 1, 1, 1, 1, 1, 1, 1, 1, 1, 1, 1, 1, 1, 1, 1, 1, 1, 1, 1, 1, 1, 1, 1, 1, 1, 1, 1, 1, 1, 1, 1, 1, 1, 1, 1, 1, 1, 1, 1, 1, 1, 1, 1, 1, 1, 1, 1, 1, 1, 1, 1, 1, 1, 1, 1, 1, 1, 1, 1, 1, 1, 1, 1, 1, 1, 1, 1, 1, 1, 1, 1, 1, 1, 1, 1, 1, 1, 1, 1, 1, 1, 1, 1, 1, 1, 1, 1, 1, 1, 1, 1, 1, 1, 1, 1, 1, 1, 1, 1, 1, 1, 1, 1, 1, 1, 1, 1, 1, 1, 1, 1, 1, 1, 1, 1, 1, 1, 1, 1, 1, 1, 1, 1, 1, 1, 1, 1, 1, 1, 1, 1, 1, 1, 1, 1, 1, 1, 1, 1, 1, 1, 1, 1, 1, 1, 1, 1, 1, 1, 1, 1, 1, 1, 1, 1, 1, 1, 1, 1, 1, 1, 1, 1, 1, 1, 1, 1, 1, 1, 1, 1, 1, 1, 1, 1, 1, 1, 1, 1, 1, 1, 1, 1, 1, 1, 1, 1, 1, 1, 1, 1, 1, 1, 1, 1, 1, 1, 1, 1, 1, 1, 1, 1, 1, 1, 1, 1, 1, 1, 1, 1, 1, 1, 1, 1, 1, 1, 1, 1, 1, 1, 1, 1, 1, 1, 1, 1, 1, 1, 1, 1, 1, 1, 1, 1, 1, 1, 1, 1, 1, 1, 1, 1, 1, 1, 1, 1, 1, 1, 1, 1, 1, 1, 1, 1, 1, 1, 1, 1, 1, 1, 1, 1, 1, 1, 1, 1, 1, 1, 1, 1, 1, 1, 1, 1, 1, 1, 1, 1, 1, 1, 1, 1, 1, 1, 1, 1, 1, 1, 1, 1, 1, 1, 1, 1, 1, 1, 1, 1, 1, 1, 1, 1, 1, 1, 1, 1, 1, 1, 1, 1, 1, 1, 1, 1, 1, 1, 1, 1, 1, 1, 1, 1, 1, 1, 1, 1, 1, 1, 1, 1, 1, 1, 1, 1, 1, 1, 1, 1, 1, 1, 1, 1, 1, 1, 1, 1, 1, 1, 1, 1, 1, 1, 1, 1, 1, 1, 1, 1, 1, 1, 1, 1, 1, 1, 1, 1, 1, 1, 1, 1, 1, 1, 1, 1, 1, 1, 1, 1, 1, 1, 1, 1, 1, 1, 1, 1, 1, 1, 1, 1, 1, 1, 1, 1, 1, 1, 1, 1, 1, 1, 1, 1, 1, 1, 1, 1, 1, 1, 1, 1, 1, 1, 1, 1, 1, 1, 1, 1, 1, 1, 1, 1, 1, 1, 1, 1, 1, 1, 1, 1, 1, 1, 1, 1, 1, 1, 1, 1, 1, 1, 1, 1, 1, 1, 1, 1, 1, 1, 1, 1, 1, 1, 1, 1, 1, 1, 1, 1, 1, 1, 1, 1, 1, 1, 1, 1, 1, 1, 1, 1, 1, 1, 1, 1, 1, 1, 1, 1, 1, 1, 1, 1, 1, 1, 1, 1, 1, 1, 1, 1, 1, 1, 1, 1, 1, 1, 1, 1, 1, 1, 1, 1, 1, 1, 1, 1, 1, 1, 1, 1, 1, 1, 1, 1, 1, 1, 1, 1, 1, 1, 1, 1, 1, 1, 1, 1, 1, 1, 1, 1, 1, 1, 1, 1, 1, 1, 1, 1, 1, 1, 1, 1, 1, 1, 1, 1, 1, 1, 1, 1, 1, 1, 1, 1, 1, 1, 1, 1, 1, 1, 1, 1, 1, 1, 1, 1, 1, 1, 1, 1, 1, 1, 1, 1, 1, 1, 1, 1, 1, 1, 1, 1, 1, 1, 1, 1, 1, 1, 1, 1, 1, 1, 1, 1, 1, 1, 1, 1, 1, 1, 1, 1, 1, 1, 1, 1, 1, 1, 1, 1, 1, 1, 1, 1, 1, 1, 1, 1, 1, 1, 1, 1, 1, 1, 1, 1, 1, 1, 1, 1, 1, 1, 1, 1, 1, 1, 1, 1, 1, 1, 1, 1, 1, 1, 1, 1, 1, 1, 1, 1, 1, 1, 1, 1, 1, 1, 1, 1, 1, 1, 1, 1, 1, 1, 1, 1, 1, 1, 1, 1, 1, 1, 1, 1, 1, 1, 1, 1, 1, 1, 1, 1, 1, 1, 1, 1, 1, 1, 1, 1, 1, 1, 1, 1, 1, 1, 1, 1, 1, 1, 1, 1, 1, 1, 1, 1, 1, 1, 1, 1, 1, 1, 1, 1, 1, 1, 1, 1, 1, 1, 1, 1, 1, 1, 1, 1, 1, 1, 1, 1, 1, 1, 1, 1, 1, 1, 1, 1, 1, 1, 1, 1, 1, 1, 1, 1, 1, 1, 1, 1, 1, 1, 1, 1, 1, 1, 1, 1, 1, 1, 1, 1, 1, 1, 1, 1, 1, 1, 1, 1, 1, 1, 1, 1, 1, 1, 1, 1, 1, 1, 1, 1, 1, 1, 1, 1, 1, 1, 1, 1, 1, 1, 1, 1, 1, 1, 1, 1, 1, 1, 1, 1, 1, 1, 1, 1, 1, 1, 1, 1, 1, 1, 1, 1, 1, 1, 1, 1, 1, 1, 1, 1, 1, 1, 1, 1, 1, 1, 1, 1, 1, 1, 1, 1, 1, 1, 1, 1, 1, 1, 1, 1, 1, 1, 1, 1, 1, 1, 1, 1, 1, 1, 1, 1, 1, 1, 1, 1, 1, 1, 1, 1, 1, 1, 1, 1, 1, 1, 1, 1, 1, 1, 1, 1, 1, 1, 1, 1, 1, 1, 1, 1, 1, 1, 1, 1, 1, 1, 1, 1, 1, 1, 1, 1, 1, 1, 1, 1, 1, 1, 1, 1, 1, 1, 1, 1, 1, 1, 1, 1, 1, 1, 1, 1, 1, 1, 1, 1, 1, 1, 1, 1, 1, 1, 1, 1, 1, 1, 1, 1, 1, 1, 1, 1, 1, 1, 1, 1, 1, 1, 1, 1, 1, 1, 1, 1, 1, 1, 1, 1, 1, 1, 1, 1, 1, 1, 1, 1, 1, 1, 1, 1, 1, 1, 1, 1, 1, 1, 1, 1, 1, 1, 1, 1, 1, 1, 1, 1, 1, 1, 1, 1, 1, 1, 1, 1, 1, 1, 1, 1, 1, 1, 1, 1, 1, 1, 1, 1, 1, 1, 1, 1, 1, 1, 1, 1, 1, 1, 1, 1, 1, 1, 1, 1, 1, 1, 1, 1, 1, 1, 1, 1, 1, 1, 1, 1, 1, 1, 1, 1, 1, 1, 1, 1, 1, 1, 1, 1, 1, 1, 1, 1, 1, 1, 1, 1, 1, 1, 1, 1, 1, 1, 1, 1, 1, 1, 1, 1, 1, 1, 1, 1, 1, 1, 1, 1, 1, 1, 1, 1, 1, 1, 1, 1, 1, 1, 1, 1, 1, 1, 1, 1, 1, 1, 1, 1, 1, 1, 1, 1, 1, 1, 1, 1, 1, 1, 1, 1, 1, 1, 1, 1, 1, 1, 1, 1, 1, 1, 1, 1, 1, 1, 1, 1, 1, 1, 1, 1, 1, 1, 1, 1, 1, 1, 1, 1, 1, 1, 1, 1, 1, 1, 1, 1, 1, 1, 1, 1, 1, 1, 1, 1, 1, 1, 1, 1, 1, 1, 1, 1, 1, 1, 1, 1, 1, 1, 1, 1, 1, 1, 1, 1, 1, 1, 1, 1, 1, 1, 1, 1, 1, 1, 1, 1, 1, 1, 1, 1, 1, 1, 1, 1, 1, 1, 1, 1, 1, 1, 1, 1, 1, 1, 1, 1, 1, 1, 1, 1, 1, 1, 1, 1, 1, 1, 1, 1, 1, 1, 1, 1, 1, 1, 1, 1, 1, 1, 1, 1, 1, 1, 1, 1, 1, 1, 1, 1, 1, 1, 1, 1, 1, 1, 1, 1, 1, 1, 1, 1, 1, 1, 1, 1, 1, 1, 1, 1, 1, 1, 1, 1, 1, 1, 1, 1, 1, 1, 1, 1, 1, 1, 1, 1, 1, 1, 1, 1, 1, 1, 1, 1, 1, 1, 1, 1, 1, 1, 1, 1, 1, 1, 1, 1, 1, 1, 1, 1, 1, 1, 1, 1, 1, 1, 1, 1, 1, 1, 1, 1, 1, 1, 1, 1, 1, 1, 1, 1, 1, 1, 1, 1, 1, 1, 1, 1, 1, 1, 1, 1, 1, 1, 1, 1, 1, 1, 1, 1, 1, 1, 1, 1, 1, 1, 1, 1, 1, 1, 1, 1, 1, 1, 1, 1, 1, 1, 1, 1, 1, 1, 1, 1, 1, 1, 1, 1, 1, 1, 1, 1, 1, 1, 1, 1, 1, 1, 1, 1, 1, 1, 1, 1, 1, 1, 1, 1, 1, 1, 1, 1, 1, 1, 1, 1, 1, 1, 1, 1, 1, 1, 1, 1, 1, 1, 1, 1, 1, 1, 1, 1, 1, 1, 1, 1, 1, 1, 1, 1, 1, 1, 1, 1, 1, 1, 1, 1, 1, 1, 1, 1, 1, 1, 1, 1, 1, 1, 1, 1, 1, 1, 1, 1, 1, 1, 1, 1, 1, 1, 1, 1, 1, 1, 1, 1, 1, 1, 1, 1, 1, 1, 1, 1, 1, 1, 1, 1, 1, 1, 1, 1, 1, 1, 1, 1, 1, 1, 1, 1, 1, 1, 1, 1, 1, 1, 1, 1, 1, 1, 1, 1, 1, 1, 1, 1, 1, 1, 1, 1, 1, 1, 1, 1, 1, 1, 1, 1, 1, 1, 1, 1, 1, 1, 1, 1, 1, 1, 1, 1, 1, 1, 1, 1, 1, 1, 1, 1, 1, 1, 1, 1, 1, 1, 1, 1, 1, 1, 1, 1, 1, 1, 1, 1, 1, 1, 1, 1, 1, 1, 1, 1, 1, 1, 1, 1, 1, 1, 1, 1, 1, 1, 1, 1, 1, 1, 1, 1, 1, 1, 1, 1, 1, 1, 1, 1, 1, 1, 1, 1, 1, 1, 1, 1, 1, 1, 1, 1, 1, 1, 1, 1, 1, 1, 1, 1, 1, 1, 1, 1, 1, 1, 1, 1, 1, 1, 1, 1, 1, 1, 1, 1, 1, 1, 1, 1, 1, 1, 1, 1, 1, 1, 1, 1, 1, 1, 1, 1, 1, 1, 1, 1, 1, 1, 1, 1, 1, 1, 1, 1, 1, 1, 1, 1, 1, 1, 1, 1, 1, 1, 1, 1, 1, 1, 1, 1, 1, 1, 1, 1, 1, 1, 1, 1, 1, 1, 1, 1, 1, 1, 1, 1, 1, 1, 1, 1, 1, 1, 1, 1, 1, 1, 1, 1, 1, 1, 1, 1, 1, 1, 1, 1, 1, 1, 1, 1, 1, 1, 1, 1, 1, 1, 1, 1, 1, 1, 1, 1, 1, 1, 1, 1, 1, 1, 1, 1, 1, 1, 1, 1, 1, 1, 1, 1, 1, 1, 1, 1, 1, 1, 1, 1, 1, 1, 1, 1, 1, 1, 1, 1, 1, 1, 1, 1, 1, 1, 1, 1, 1, 1, 1, 1, 1, 1, 1, 1, 1, 1, 1, 1, 1, 1, 1, 1, 1, 1, 1, 1, 1, 1, 1, 1, 1, 1, 1, 1, 1, 1, 1, 1, 1, 1, 1, 1, 1, 1, 1, 1, 1, 1, 1, 1, 1, 1, 1, 1, 1, 1, 1, 1, 1, 1, 1, 1, 1, 1, 1, 1, 1, 1, 1, 1, 1, 1, 1, 1, 1, 1, 1, 1, 1, 1, 1, 1, 1, 1, 1, 1, 1, 1, 1, 1, 1, 1, 1, 1, 1, 1, 1, 1, 1, 1, 1, 1, 1, 1, 1, 1, 1, 1, 1, 1, 1, 1, 1, 1, 1, 1, 1, 1, 1, 1, 1, 1, 1, 1, 1, 1, 1, 1, 1, 1, 1, 1, 1, 1, 1, 1, 1, 1, 1, 1, 1, 1, 1, 1, 1, 1, 1, 1, 1, 1, 1, 1, 1, 1, 1, 1, 1, 1, 1, 1, 1, 1, 1, 1, 1, 1, 1, 1, 1, 1, 1, 1, 1, 1, 1, 1, 1, 1, 1, 1, 1, 1, 1, 1, 1, 1, 1, 1, 1, 1, 1, 1, 1, 1, 1, 1, 1, 1, 1, 1, 1, 1, 1, 1, 1, 1, 1, 1, 1, 1, 1, 1, 1, 1, 1, 1, 1, 1, 1, 1, 1, 1, 1, 1, 1, 1, 1, 1, 1, 1, 1, 1, 1, 1, 1, 1, 1, 1, 1, 1, 1, 1, 1, 1, 1, 1, 1, 1, 1, 1, 1, 1, 1, 1, 1, 1, 1, 1, 1, 1, 1, 1, 1, 1, 1, 1, 1, 1, 1, 1, 1, 1, 1, 1, 1, 1, 1, 1, 1, 1, 1, 1, 1, 1, 1, 1, 1, 1, 1, 1, 1, 1, 1, 1, 1, 1, 1, 1, 1, 1, 1, 1, 1, 1, 1, 1, 1, 1, 1, 1, 1, 1, 1, 1, 1, 1, 1, 1, 1, 1, 1, 1, 1, 1, 1, 1, 1, 1, 1, 1, 1, 1, 1, 1, 1, 1, 1, 1, 1, 1, 1, 1, 1, 1, 1, 1, 1, 1, 1, 1, 1, 1, 1, 1, 1, 1, 1, 1, 1, 1, 1, 1, 1, 1, 1, 1, 1, 1, 1, 1, 1, 1, 1, 1, 1, 1, 1, 1, 1, 1, 1, 1, 1, 1, 1, 1, 1, 1, 1, 1, 1, 1, 1, 1, 1, 1, 1, 1, 1, 1, 1, 1, 1, 1, 1, 1, 1, 1, 1, 1, 1, 1, 1, 1, 1, 1, 1, 1, 1, 1, 1, 1, 1, 1, 1, 1, 1, 1, 1, 1, 1, 1, 1, 1, 1, 1, 1, 1, 1, 1, 1, 1, 1, 1, 1, 1, 1, 1, 1, 1, 1, 1, 1, 1, 1, 1, 1, 1, 1, 1, 1, 1, 1, 1, 1, 1, 1, 1, 1, 1, 1, 1, 1, 1, 1, 1, 1, 1, 1, 1, 1, 1, 1, 1, 1, 1, 1, 1, 1, 1, 1, 1, 1, 1, 1, 1, 1, 1, 1, 1, 1, 1, 1, 1, 1, 1, 1, 1, 1, 1, 1, 1, 1, 1, 1, 1, 1, 1, 1, 1, 1, 1, 1, 1, 1, 1, 1, 1, 1, 1, 1, 1, 1, 1, 1, 1, 1, 1, 1, 1, 1, 1, 1, 1, 1, 1, 1, 1, 1, 1, 1, 1, 1, 1, 1, 1, 1, 1, 1, 1, 1, 1, 1, 1, 1, 1, 1, 1, 1, 1, 1, 1, 1, 1, 1, 1, 1, 1, 1, 1, 1, 1, 1, 1, 1, 1, 1, 1, 1, 1, 1, 1, 1, 1, 1, 1, 1, 1, 1, 1, 1, 1, 1, 1, 1, 1, 1, 1, 1, 1, 1, 1, 1, 1, 1, 1, 1, 1, 1, 1, 1, 1, 1, 1, 1, 1, 1, 1, 1, 1, 1, 1, 1, 1, 1, 1, 1, 1, 1, 1, 1, 1, 1, 1, 1, 1, 1, 1, 1, 1, 1, 1, 1, 1, 1, 1, 1, 1, 1, 1, 1, 1, 1, 1, 1, 1, 1, 1, 1, 1, 1, 1, 1, 1, 1, 1, 1, 1, 1, 1, 1, 1, 1, 1, 1, 1, 1, 1, 1, 1, 1, 1, 1, 1, 1, 1, 1, 1, 1, 1, 1, 1, 1, 1, 1, 1, 1, 1, 1, 1, 1, 1, 1, 1, 1, 1, 1, 1, 1, 1, 1, 1, 1, 1, 1, 1, 1, 1, 1, 1, 1, 1, 1, 1, 1, 1, 1, 1, 1, 1, 1, 1, 1, 1, 1, 1, 1, 1, 1, 1, 1, 1, 1, 1, 1, 1, 1, 1, 1, 1, 1, 1, 1, 1, 1, 1, 1, 1, 1, 1, 1, 1, 1, 1, 1, 1, 1, 1, 1, 1, 1, 1, 1, 1, 1, 1, 1, 1, 1, 1, 1, 1, 1, 1, 1, 1, 1, 1, 1, 1, 1, 1, 1, 1, 1, 1, 1, 1, 1, 1, 1, 1, 1, 1, 1, 1, 1, 1, 1, 1, 1, 1, 1, 1, 1, 1, 1, 1, 1, 1, 1, 1, 1, 1, 1, 1, 1, 1, 1, 1, 1, 1, 1, 1, 1, 1, 1, 1, 1, 1, 1, 1, 1, 1, 1, 1, 1, 1, 1, 1, 1, 1, 1, 1, 1, 1, 1, 1, 1, 1, 1, 1, 1, 1, 1, 1, 1, 1, 1, 1, 1, 1, 1, 1, 1, 1, 1, 1, 1, 1, 1, 1, 1, 1, 1, 1, 1, 1, 1, 1, 1, 1, 1, 1, 1, 1, 1, 1, 1, 1, 1, 1, 1, 1, 1, 1, 1, 1, 1, 1, 1, 1, 1, 1, 1, 1, 1, 1, 1, 1, 1, 1, 1, 1, 1, 1, 1, 1, 1, 1, 1, 1, 1, 1, 1, 1, 1, 1, 1, 1, 1, 1, 1, 1, 1, 1, 1, 1, 1, 1, 1, 1, 1, 1, 1, 1, 1, 1, 1, 1, 1, 1, 1, 1, 1, 1, 1, 1, 1, 1, 1, 1, 1, 1, 1, 1, 1, 1, 1, 1, 1, 1, 1, 1, 1, 1, 1, 1, 1, 1, 1, 1, 1, 1, 1, 1, 1, 1, 1, 1, 1, 1, 1, 1, 1, 1, 1, 1, 1, 1, 1, 1, 1, 1, 1, 1, 1, 1, 1, 1, 1, 1, 1, 1, 1, 1, 1, 1, 1, 1, 1, 1, 1, 1, 1, 1, 1, 1, 1, 1, 1, 1, 1, 1, 1, 1, 1, 1, 1, 1, 1, 1, 1, 1, 1, 1, 1, 1, 1, 1, 1, 1, 1, 1, 1, 1, 1, 1, 1, 1, 1, 1, 1, 1, 1, 1, 1, 1, 1, 1, 1, 1, 1, 1, 1, 1, 1, 1, 1, 1, 1, 1, 1, 1, 1, 1, 1, 1, 1, 1, 1, 1, 1, 1, 1, 1, 1, 1, 1, 1, 1, 1, 1, 1, 1, 1, 1, 1, 1, 1, 1, 1, 1, 1, 1, 1, 1, 1, 1, 1, 1, 1, 1, 1, 1, 1, 1, 1, 1, 1, 1, 1, 1, 1, 1, 1, 1, 1, 1, 1, 1, 1, 1, 1, 1, 1, 1, 1, 1, 1, 1, 1, 1, 1, 1, 1, 1, 1, 1, 1, 1, 1, 1, 1, 1, 1, 1, 1, 1, 1, 1, 1, 1, 1, 1, 1, 1, 1, 1, 1, 1, 1, 1, 1, 1, 1, 1, 1, 1, 1, 1, 1, 1, 1, 1, 1, 1, 1, 1, 1, 1, 1, 1, 1, 1, 1, 1, 1, 1, 1, 1, 1, 1, 1, 1, 1, 1, 1, 1, 1, 1, 1, 1, 1, 1, 1, 1, 1, 1, 1, 1, 1, 1, 1, 1, 1, 1, 1, 1, 1, 1, 1, 1, 1, 1, 1, 1, 1, 1, 1, 1, 1, 1, 1, 1, 1, 1, 1, 1, 1, 1, 1, 1, 1, 1, 1, 1, 1, 1, 1, 1, 1, 1, 1, 1, 1, 1, 1, 1, 1, 1, 1, 1, 1, 1, 1, 1, 1, 1, 1, 1, 1, 1, 1, 1, 1, 1, 1, 1, 1, 1, 1, 1, 1, 1, 1, 1, 1, 1, 1, 1, 1, 1, 1, 1, 1, 1, 1, 1, 1, 1, 1, 1, 1, 1, 1, 1, 1, 1, 1, 1, 1, 1, 1, 1, 1, 1, 1, 1, 1, 1, 1, 1, 1, 1, 1, 1, 1, 1, 1, 1, 1, 1, 1, 1, 1, 1, 1, 1, 1, 1, 1, 1, 1, 1, 1, 1, 1, 1, 1, 1, 1, 1, 1, 1, 1, 1, 1, 1, 1, 1, 1, 1, 1, 1, 1, 1, 1, 1, 1, 1, 1, 1, 1, 1, 1, 1, 1, 1, 1, 1, 1, 1, 1, 1, 1, 1, 1, 1, 1, 1, 1, 1, 1, 1, 1, 1, 1, 1, 1, 1, 1, 1, 1, 1, 1, 1, 1, 1, 1, 1, 1, 1, 1, 1, 1, 1, 1, 1, 1, 1, 1, 1, 1, 1, 1, 1, 1, 1, 1, 1, 1, 1, 1, 1, 1, 1, 1, 1, 1, 1, 1, 1, 1, 1, 1, 1, 1, 1, 1, 1, 1, 1, 1, 1, 1, 1, 1, 1, 1, 1, 1, 1, 1, 1, 1, 1, 1, 1, 1, 1, 1, 1, 1, 1, 1, 1, 1, 1, 1, 1, 1, 1, 1, 1, 1, 1, 1, 1, 1, 1, 1, 1, 1, 1, 1, 1, 1, 1, 1, 1, 1, 1, 1, 1, 1, 1, 1, 1, 1, 1, 1, 1, 1, 1, 1, 1, 1, 1, 1, 1, 1, 1, 1, 1, 1, 1, 1, 1, 1, 1, 1, 1, 1, 1, 1, 1, 1, 1, 1, 1, 1, 1, 1, 1, 1, 1, 1, 1, 1, 1, 1, 1, 1, 1, 1, 1, 1, 1, 1, 1, 1, 1, 1, 1, 1, 1, 1, 1, 1, 1, 1, 1, 1, 1, 1, 1, 1, 1, 1, 1, 1, 1, 1, 1, 1, 1, 1, 1, 1, 1, 1, 1, 1, 1, 1, 1, 1, 1, 1, 1, 1, 1, 1, 1, 1, 1, 1, 1, 1, 1, 1, 1, 1, 1, 1, 1, 1, 1, 1, 1, 1, 1, 1, 1, 1, 1, 1, 1, 1, 1, 1, 1, 1, 1, 1, 1, 1, 1, 1, 1, 1, 1, 1, 1, 1, 1, 1, 1, 1, 1, 1, 1, 1, 1, 1, 1, 1, 1, 1, 1, 1, 1, 1, 1, 1, 1, 1, 1, 1, 1, 1, 1, 1, 1, 1, 1, 1, 1, 1, 1, 1, 1, 1, 1, 1, 1, 1, 1, 1, 1, 1, 1, 1, 1, 1, 1, 1, 1, 1, 1, 1, 1, 1, 1, 1, 1, 1, 1, 1, 1, 1, 1, 1, 1, 1, 1, 1, 1, 1, 1, 1, 1, 1, 1, 1, 1, 1, 1, 1, 1, 1, 1, 1, 1, 1, 1, 1, 1, 1, 1, 1, 1, 1, 1, 1, 1, 1, 1, 1, 1, 1, 1, 1, 1, 1, 1, 1, 1, 1, 1, 1, 1, 1, 1, 1, 1, 1, 1, 1, 1, 1, 1, 1, 1, 1, 1, 1, 1, 1, 1, 1, 1, 1, 1, 1, 1, 1, 1, 1, 1, 1, 1, 1, 1, 1, 1, 1, 1, 1, 1, 1, 1, 1, 1, 1, 1, 1, 1, 1, 1, 1, 1, 1, 1, 1, 1, 1, 1, 1, 1, 1, 1, 1, 1, 1, 1, 1, 1, 1, 1, 1, 1, 1, 1, 1, 1, 1, 1, 1, 1, 1, 1, 1, 1, 1, 1, 1, 1, 1, 1, 1, 1, 1, 1, 1, 1, 1, 1, 1, 1, 1, 1, 1, 1, 1, 1, 1, 1, 1, 1, 1, 1, 1, 1, 1, 1, 1, 1, 1, 1, 1, 1, 1, 1, 1, 1, 1, 1, 1, 1, 1, 1, 1, 1, 1, 1, 1, 1, 1, 1, 1, 1, 1, 1, 1, 1, 1, 1, 1, 1, 1, 1, 1, 1, 1, 1, 1, 1, 1, 1, 1, 1, 1, 1, 1, 1, 1, 1, 1, 1, 1, 1, 1, 1, 1, 1, 1, 1, 1, 1, 1, 1, 1, 1, 1, 1, 1, 1, 1, 1, 1, 1, 1, 1, 1, 1, 1, 1, 1, 1, 1, 1, 1, 1, 1, 1, 1, 1, 1, 1, 1, 1, 1, 1, 1, 1, 1, 1, 1, 1, 1, 1, 1, 1, 1, 1, 1, 1, 1, 1, 1, 1, 1, 1, 1, 1, 1, 1, 1, 1, 1, 1, 1, 1, 1, 1, 1, 1, 1, 1, 1, 1, 1, 1, 1, 1, 1, 1, 1, 1, 1, 1, 1, 1, 1, 1, 1, 1, 1, 1, 1, 1, 1, 1, 1, 1, 1, 1, 1, 1, 1, 1, 1, 1, 1, 1, 1, 1, 1, 1, 1, 1, 1, 1, 1, 1, 1, 1, 1, 1, 1, 1, 1, 1, 1, 1, 1, 1, 1, 1, 1, 1, 1, 1, 1, 1, 1, 1, 1, 1, 1, 1, 1, 1, 1, 1, 1, 1, 1, 1, 1, 1, 1, 1, 1, 1, 1, 1, 1, 1, 1, 1, 1, 1, 1, 1, 1, 1, 1, 1, 1, 1, 1, 1, 1, 1, 1, 1, 1, 1, 1, 1, 1, 1, 1, 1, 1, 1, 1, 1, 1, 1, 1, 1, 1, 1, 1, 1, 1, 1, 1, 1, 1, 1, 1, 1, 1, 1, 1, 1, 1, 1, 1, 1, 1, 1, 1, 1, 1, 1, 1, 1, 1, 1, 1, 1, 1, 1, 1, 1, 1, 1, 1, 1, 1, 1, 1, 1, 1, 1, 1, 1, 1, 1, 1, 1, 1, 1, 1, 1, 1, 1, 1, 1, 1, 1, 1, 1, 1, 1, 1, 1, 1, 1, 1, 1, 1, 1, 1, 1, 1, 1, 1, 1, 1, 1, 1, 1, 1, 1, 1, 1, 1, 1, 1, 1, 1, 1, 1, 1, 1, 1, 1, 1, 1, 1, 1, 1, 1, 1, 1, 1, 1, 1, 1, 1, 1, 1, 1, 1, 1, 1, 1, 1, 1, 1, 1, 1, 1, 1, 1, 1, 1, 1, 1, 1, 1, 1, 1, 1, 1, 1, 1, 1, 1, 1, 1, 1, 1, 1, 1, 1, 1, 1, 1, 1, 1, 1, 1, 1, 1, 1, 1, 1, 1, 1, 1, 1, 1, 1, 1, 1, 1, 1, 1, 1, 1, 1, 1, 1, 1, 1, 1, 1, 1, 1, 1, 1, 1, 1, 1, 1, 1, 1, 1, 1, 1, 1, 1, 1, 1, 1, 1, 1, 1, 1, 1, 1, 1, 1, 1, 1, 1, 1, 1, 1, 1, 1, 1, 1, 1, 1, 1, 1, 1, 1, 1, 1, 1, 1, 1, 1, 1, 1, 1, 1, 1, 1, 1, 1, 1, 1, 1, 1, 1, 1, 1, 1, 1, 1, 1, 1, 1, 1, 1, 1, 1, 1, 1, 1, 1, 1, 1, 1, 1, 1, 1, 1, 1, 1, 1, 1, 1, 1, 1, 1, 1, 1, 1, 1, 1, 1, 1, 1, 1, 1, 1, 1, 1, 1, 1, 1, 1, 1, 1, 1, 1, 1, 1, 1, 1, 1, 1, 1, 1, 1, 1, 1, 1, 1, 1, 1, 1, 1, 1, 1, 1, 1, 1, 1, 1, 1, 1, 1, 1, 1, 1, 1, 1, 1, 1, 1, 1, 1, 1, 1, 1, 1, 1, 1, 1, 1, 1, 1, 1, 1, 1, 1, 1, 1, 1, 1, 1, 1, 1, 1, 1, 1, 1, 1, 1, 1, 1, 1, 1, 1, 1, 1, 1, 1, 1, 1, 1, 1, 1, 1, 1, 1, 1, 1, 1, 1, 1, 1, 1, 1, 1, 1, 1, 1, 1, 1, 1, 1, 1, 1, 1, 1, 1, 1, 1, 1, 1, 1, 1, 1, 1, 1, 1, 1, 1, 1, 1, 1, 1, 1, 1, 1, 1, 1, 1, 1, 1, 1, 1, 1, 1, 1, 1, 1, 1, 1, 1, 1, 1, 1, 1, 1, 1, 1, 1, 1, 1, 1, 1, 1, 1, 1, 1, 1, 1, 1, 1, 1, 1, 1, 1, 1, 1, 1, 1, 1, 1, 1, 1, 1, 1, 1, 1, 1, 1, 1, 1, 1, 1, 1, 1, 1, 1, 1, 1, 1, 1, 1, 1, 1, 1, 1, 1, 1, 1, 1, 1, 1, 1, 1, 1, 1, 1, 1, 1, 1, 1, 1, 1, 1, 1, 1, 1, 1, 1, 1, 1, 1, 1, 1, 1, 1, 1, 1, 1, 1, 1, 1, 1, 1, 1, 1, 1, 1, 1, 1, 1, 1, 1, 1, 1, 1, 1, 1, 1, 1, 1, 1, 1, 1, 1, 1, 1, 1, 1, 1, 1, 1, 1, 1, 1, 1, 1, 1, 1, 1, 1, 1, 1, 1, 1, 1, 1, 1, 1, 1, 1, 1, 1, 1, 1, 1, 1, 1, 1, 1, 1, 1, 1, 1, 1, 1, 1, 1, 1, 1, 1, 1, 1, 1, 1, 1, 1, 1, 1, 1, 1, 1, 1, 1, 1, 1, 1, 1, 1, 1, 1, 1, 1, 1, 1, 1, 1, 1, 1, 1, 1, 1, 1, 1, 1, 1, 1, 1, 1, 1, 1, 1, 1, 1, 1, 1, 1, 1, 1, 1, 1, 1, 1, 1, 1, 1, 1, 1, 1, 1, 1, 1, 1, 1, 1, 1, 1, 1, 1, 1, 1, 1, 1, 1, 1, 1, 1, 1, 1, 1, 1, 1, 1, 1, 1, 1, 1, 1, 1, 1, 1, 1, 1, 1, 1, 1, 1, 1, 1, 1, 1, 1, 1, 1, 1, 1, 1, 1, 1, 1, 1, 1, 1, 1, 1, 1, 1, 1, 1, 1, 1, 1, 1, 1, 1, 1, 1, 1, 1, 1, 1, 1, 1, 1, 1, 1, 1, 1, 1, 1, 1, 1, 1, 1, 1, 1, 1, 1, 1, 1, 1, 1, 1, 1, 1, 1, 1, 1, 1, 1, 1, 1, 1, 1, 1, 1, 1, 1, 1, 1, 1, 1, 1, 1, 1, 1, 1, 1, 1, 1, 1, 1, 1, 1, 1, 1, 1, 1, 1, 1, 1, 1, 1, 1, 1, 1, 1, 1, 1, 1, 1, 1, 1, 1, 1, 1, 1, 1, 1, 1, 1, 1, 1, 1, 1, 1, 1, 1, 1, 1, 1, 1, 1, 1, 1, 1, 1, 1, 1, 1, 1, 1, 1, 1, 1, 1, 1, 1, 1, 1, 1, 1, 1, 1, 1, 1, 1, 1, 1, 1, 1, 1, 1, 1, 1, 1, 1, 1, 1, 1, 1, 1, 1, 1, 1, 1, 1, 1, 1, 1, 1, 1, 1, 1, 1, 1, 1, 1, 1, 1, 1, 1, 1, 1, 1, 1, 1, 1, 1, 1, 1, 1, 1, 1, 1, 1, 1, 1, 1, 1, 1, 1, 1, 1, 1, 1, 1, 1, 1, 1, 1, 1, 1, 1, 1, 1, 1, 1, 1, 1, 1, 1, 1, 1, 1, 1, 1, 1, 1, 1, 1, 1, 1, 1, 1, 1, 1, 1, 1, 1, 1, 1, 1, 1, 1, 1, 1, 1, 1, 1, 1, 1, 1, 1, 1, 1, 1, 1, 1, 1, 1, 1, 1, 1, 1, 1, 1, 1, 1, 1, 1, 1, 1, 1, 1, 1, 1, 1, 1, 1, 1, 1, 1, 1, 1, 1, 1, 1, 1, 1, 1, 1, 1, 1, 1, 1, 1, 1, 1, 1, 1, 1, 1, 1, 1, 1, 1, 1, 1, 1, 1, 1, 1, 1, 1, 1, 1, 1, 1, 1, 1, 1, 1, 1, 1, 1, 1, 1, 1, 1, 1, 1, 1, 1, 1, 1, 1, 1, 1, 1, 1, 1, 1, 1, 1, 1, 1, 1, 1, 1, 1, 1, 1, 1, 1, 1, 1, 1, 1, 1, 1, 1, 1, 1, 1, 1, 1, 1, 1, 1, 1, 1, 1, 1, 1, 1, 1, 1, 1, 1, 1, 1, 1, 1, 1, 1, 1, 1, 1, 1, 1, 1, 1, 1, 1, 1, 1, 1, 1, 1, 1, 1, 1, 1, 1, 1, 1, 1, 1, 1, 1, 1, 1, 1, 1, 1, 1, 1, 1, 1, 1, 1, 1, 1, 1, 1, 1, 1, 1, 1, 1, 1]}],\n",
              "                        {\"legend\": {\"tracegroupgap\": 0}, \"margin\": {\"t\": 60}, \"template\": {\"data\": {\"bar\": [{\"error_x\": {\"color\": \"#2a3f5f\"}, \"error_y\": {\"color\": \"#2a3f5f\"}, \"marker\": {\"line\": {\"color\": \"#E5ECF6\", \"width\": 0.5}}, \"type\": \"bar\"}], \"barpolar\": [{\"marker\": {\"line\": {\"color\": \"#E5ECF6\", \"width\": 0.5}}, \"type\": \"barpolar\"}], \"carpet\": [{\"aaxis\": {\"endlinecolor\": \"#2a3f5f\", \"gridcolor\": \"white\", \"linecolor\": \"white\", \"minorgridcolor\": \"white\", \"startlinecolor\": \"#2a3f5f\"}, \"baxis\": {\"endlinecolor\": \"#2a3f5f\", \"gridcolor\": \"white\", \"linecolor\": \"white\", \"minorgridcolor\": \"white\", \"startlinecolor\": \"#2a3f5f\"}, \"type\": \"carpet\"}], \"choropleth\": [{\"colorbar\": {\"outlinewidth\": 0, \"ticks\": \"\"}, \"type\": \"choropleth\"}], \"contour\": [{\"colorbar\": {\"outlinewidth\": 0, \"ticks\": \"\"}, \"colorscale\": [[0.0, \"#0d0887\"], [0.1111111111111111, \"#46039f\"], [0.2222222222222222, \"#7201a8\"], [0.3333333333333333, \"#9c179e\"], [0.4444444444444444, \"#bd3786\"], [0.5555555555555556, \"#d8576b\"], [0.6666666666666666, \"#ed7953\"], [0.7777777777777778, \"#fb9f3a\"], [0.8888888888888888, \"#fdca26\"], [1.0, \"#f0f921\"]], \"type\": \"contour\"}], \"contourcarpet\": [{\"colorbar\": {\"outlinewidth\": 0, \"ticks\": \"\"}, \"type\": \"contourcarpet\"}], \"heatmap\": [{\"colorbar\": {\"outlinewidth\": 0, \"ticks\": \"\"}, \"colorscale\": [[0.0, \"#0d0887\"], [0.1111111111111111, \"#46039f\"], [0.2222222222222222, \"#7201a8\"], [0.3333333333333333, \"#9c179e\"], [0.4444444444444444, \"#bd3786\"], [0.5555555555555556, \"#d8576b\"], [0.6666666666666666, \"#ed7953\"], [0.7777777777777778, \"#fb9f3a\"], [0.8888888888888888, \"#fdca26\"], [1.0, \"#f0f921\"]], \"type\": \"heatmap\"}], \"heatmapgl\": [{\"colorbar\": {\"outlinewidth\": 0, \"ticks\": \"\"}, \"colorscale\": [[0.0, \"#0d0887\"], [0.1111111111111111, \"#46039f\"], [0.2222222222222222, \"#7201a8\"], [0.3333333333333333, \"#9c179e\"], [0.4444444444444444, \"#bd3786\"], [0.5555555555555556, \"#d8576b\"], [0.6666666666666666, \"#ed7953\"], [0.7777777777777778, \"#fb9f3a\"], [0.8888888888888888, \"#fdca26\"], [1.0, \"#f0f921\"]], \"type\": \"heatmapgl\"}], \"histogram\": [{\"marker\": {\"colorbar\": {\"outlinewidth\": 0, \"ticks\": \"\"}}, \"type\": \"histogram\"}], \"histogram2d\": [{\"colorbar\": {\"outlinewidth\": 0, \"ticks\": \"\"}, \"colorscale\": [[0.0, \"#0d0887\"], [0.1111111111111111, \"#46039f\"], [0.2222222222222222, \"#7201a8\"], [0.3333333333333333, \"#9c179e\"], [0.4444444444444444, \"#bd3786\"], [0.5555555555555556, \"#d8576b\"], [0.6666666666666666, \"#ed7953\"], [0.7777777777777778, \"#fb9f3a\"], [0.8888888888888888, \"#fdca26\"], [1.0, \"#f0f921\"]], \"type\": \"histogram2d\"}], \"histogram2dcontour\": [{\"colorbar\": {\"outlinewidth\": 0, \"ticks\": \"\"}, \"colorscale\": [[0.0, \"#0d0887\"], [0.1111111111111111, \"#46039f\"], [0.2222222222222222, \"#7201a8\"], [0.3333333333333333, \"#9c179e\"], [0.4444444444444444, \"#bd3786\"], [0.5555555555555556, \"#d8576b\"], [0.6666666666666666, \"#ed7953\"], [0.7777777777777778, \"#fb9f3a\"], [0.8888888888888888, \"#fdca26\"], [1.0, \"#f0f921\"]], \"type\": \"histogram2dcontour\"}], \"mesh3d\": [{\"colorbar\": {\"outlinewidth\": 0, \"ticks\": \"\"}, \"type\": \"mesh3d\"}], \"parcoords\": [{\"line\": {\"colorbar\": {\"outlinewidth\": 0, \"ticks\": \"\"}}, \"type\": \"parcoords\"}], \"pie\": [{\"automargin\": true, \"type\": \"pie\"}], \"scatter\": [{\"marker\": {\"colorbar\": {\"outlinewidth\": 0, \"ticks\": \"\"}}, \"type\": \"scatter\"}], \"scatter3d\": [{\"line\": {\"colorbar\": {\"outlinewidth\": 0, \"ticks\": \"\"}}, \"marker\": {\"colorbar\": {\"outlinewidth\": 0, \"ticks\": \"\"}}, \"type\": \"scatter3d\"}], \"scattercarpet\": [{\"marker\": {\"colorbar\": {\"outlinewidth\": 0, \"ticks\": \"\"}}, \"type\": \"scattercarpet\"}], \"scattergeo\": [{\"marker\": {\"colorbar\": {\"outlinewidth\": 0, \"ticks\": \"\"}}, \"type\": \"scattergeo\"}], \"scattergl\": [{\"marker\": {\"colorbar\": {\"outlinewidth\": 0, \"ticks\": \"\"}}, \"type\": \"scattergl\"}], \"scattermapbox\": [{\"marker\": {\"colorbar\": {\"outlinewidth\": 0, \"ticks\": \"\"}}, \"type\": \"scattermapbox\"}], \"scatterpolar\": [{\"marker\": {\"colorbar\": {\"outlinewidth\": 0, \"ticks\": \"\"}}, \"type\": \"scatterpolar\"}], \"scatterpolargl\": [{\"marker\": {\"colorbar\": {\"outlinewidth\": 0, \"ticks\": \"\"}}, \"type\": \"scatterpolargl\"}], \"scatterternary\": [{\"marker\": {\"colorbar\": {\"outlinewidth\": 0, \"ticks\": \"\"}}, \"type\": \"scatterternary\"}], \"surface\": [{\"colorbar\": {\"outlinewidth\": 0, \"ticks\": \"\"}, \"colorscale\": [[0.0, \"#0d0887\"], [0.1111111111111111, \"#46039f\"], [0.2222222222222222, \"#7201a8\"], [0.3333333333333333, \"#9c179e\"], [0.4444444444444444, \"#bd3786\"], [0.5555555555555556, \"#d8576b\"], [0.6666666666666666, \"#ed7953\"], [0.7777777777777778, \"#fb9f3a\"], [0.8888888888888888, \"#fdca26\"], [1.0, \"#f0f921\"]], \"type\": \"surface\"}], \"table\": [{\"cells\": {\"fill\": {\"color\": \"#EBF0F8\"}, \"line\": {\"color\": \"white\"}}, \"header\": {\"fill\": {\"color\": \"#C8D4E3\"}, \"line\": {\"color\": \"white\"}}, \"type\": \"table\"}]}, \"layout\": {\"annotationdefaults\": {\"arrowcolor\": \"#2a3f5f\", \"arrowhead\": 0, \"arrowwidth\": 1}, \"coloraxis\": {\"colorbar\": {\"outlinewidth\": 0, \"ticks\": \"\"}}, \"colorscale\": {\"diverging\": [[0, \"#8e0152\"], [0.1, \"#c51b7d\"], [0.2, \"#de77ae\"], [0.3, \"#f1b6da\"], [0.4, \"#fde0ef\"], [0.5, \"#f7f7f7\"], [0.6, \"#e6f5d0\"], [0.7, \"#b8e186\"], [0.8, \"#7fbc41\"], [0.9, \"#4d9221\"], [1, \"#276419\"]], \"sequential\": [[0.0, \"#0d0887\"], [0.1111111111111111, \"#46039f\"], [0.2222222222222222, \"#7201a8\"], [0.3333333333333333, \"#9c179e\"], [0.4444444444444444, \"#bd3786\"], [0.5555555555555556, \"#d8576b\"], [0.6666666666666666, \"#ed7953\"], [0.7777777777777778, \"#fb9f3a\"], [0.8888888888888888, \"#fdca26\"], [1.0, \"#f0f921\"]], \"sequentialminus\": [[0.0, \"#0d0887\"], [0.1111111111111111, \"#46039f\"], [0.2222222222222222, \"#7201a8\"], [0.3333333333333333, \"#9c179e\"], [0.4444444444444444, \"#bd3786\"], [0.5555555555555556, \"#d8576b\"], [0.6666666666666666, \"#ed7953\"], [0.7777777777777778, \"#fb9f3a\"], [0.8888888888888888, \"#fdca26\"], [1.0, \"#f0f921\"]]}, \"colorway\": [\"#636efa\", \"#EF553B\", \"#00cc96\", \"#ab63fa\", \"#FFA15A\", \"#19d3f3\", \"#FF6692\", \"#B6E880\", \"#FF97FF\", \"#FECB52\"], \"font\": {\"color\": \"#2a3f5f\"}, \"geo\": {\"bgcolor\": \"white\", \"lakecolor\": \"white\", \"landcolor\": \"#E5ECF6\", \"showlakes\": true, \"showland\": true, \"subunitcolor\": \"white\"}, \"hoverlabel\": {\"align\": \"left\"}, \"hovermode\": \"closest\", \"mapbox\": {\"style\": \"light\"}, \"paper_bgcolor\": \"white\", \"plot_bgcolor\": \"#E5ECF6\", \"polar\": {\"angularaxis\": {\"gridcolor\": \"white\", \"linecolor\": \"white\", \"ticks\": \"\"}, \"bgcolor\": \"#E5ECF6\", \"radialaxis\": {\"gridcolor\": \"white\", \"linecolor\": \"white\", \"ticks\": \"\"}}, \"scene\": {\"xaxis\": {\"backgroundcolor\": \"#E5ECF6\", \"gridcolor\": \"white\", \"gridwidth\": 2, \"linecolor\": \"white\", \"showbackground\": true, \"ticks\": \"\", \"zerolinecolor\": \"white\"}, \"yaxis\": {\"backgroundcolor\": \"#E5ECF6\", \"gridcolor\": \"white\", \"gridwidth\": 2, \"linecolor\": \"white\", \"showbackground\": true, \"ticks\": \"\", \"zerolinecolor\": \"white\"}, \"zaxis\": {\"backgroundcolor\": \"#E5ECF6\", \"gridcolor\": \"white\", \"gridwidth\": 2, \"linecolor\": \"white\", \"showbackground\": true, \"ticks\": \"\", \"zerolinecolor\": \"white\"}}, \"shapedefaults\": {\"line\": {\"color\": \"#2a3f5f\"}}, \"ternary\": {\"aaxis\": {\"gridcolor\": \"white\", \"linecolor\": \"white\", \"ticks\": \"\"}, \"baxis\": {\"gridcolor\": \"white\", \"linecolor\": \"white\", \"ticks\": \"\"}, \"bgcolor\": \"#E5ECF6\", \"caxis\": {\"gridcolor\": \"white\", \"linecolor\": \"white\", \"ticks\": \"\"}}, \"title\": {\"x\": 0.05}, \"xaxis\": {\"automargin\": true, \"gridcolor\": \"white\", \"linecolor\": \"white\", \"ticks\": \"\", \"title\": {\"standoff\": 15}, \"zerolinecolor\": \"white\", \"zerolinewidth\": 2}, \"yaxis\": {\"automargin\": true, \"gridcolor\": \"white\", \"linecolor\": \"white\", \"ticks\": \"\", \"title\": {\"standoff\": 15}, \"zerolinecolor\": \"white\", \"zerolinewidth\": 2}}}},\n",
              "                        {\"responsive\": true}\n",
              "                    ).then(function(){\n",
              "                            \n",
              "var gd = document.getElementById('057188ec-44b8-420d-94a2-0b01aafbb47c');\n",
              "var x = new MutationObserver(function (mutations, observer) {{\n",
              "        var display = window.getComputedStyle(gd).display;\n",
              "        if (!display || display === 'none') {{\n",
              "            console.log([gd, 'removed!']);\n",
              "            Plotly.purge(gd);\n",
              "            observer.disconnect();\n",
              "        }}\n",
              "}});\n",
              "\n",
              "// Listen for the removal of the full notebook cells\n",
              "var notebookContainer = gd.closest('#notebook-container');\n",
              "if (notebookContainer) {{\n",
              "    x.observe(notebookContainer, {childList: true});\n",
              "}}\n",
              "\n",
              "// Listen for the clearing of the current output cell\n",
              "var outputEl = gd.closest('.output');\n",
              "if (outputEl) {{\n",
              "    x.observe(outputEl, {childList: true});\n",
              "}}\n",
              "\n",
              "                        })\n",
              "                };\n",
              "                \n",
              "            </script>\n",
              "        </div>\n",
              "</body>\n",
              "</html>"
            ]
          },
          "metadata": {
            "tags": []
          }
        }
      ]
    },
    {
      "cell_type": "code",
      "metadata": {
        "colab": {
          "base_uri": "https://localhost:8080/",
          "height": 678
        },
        "id": "bwHcwUGDA_bJ",
        "outputId": "62df7fb9-c7e9-40f3-95ed-b95b525bcfd3"
      },
      "source": [
        "df2['count'] = 1\n",
        "fig3 = px.pie(df2, values ='count', names = 'release_year')\n",
        "fig3.show()"
      ],
      "execution_count": 15,
      "outputs": [
        {
          "output_type": "stream",
          "text": [
            "/usr/local/lib/python3.7/dist-packages/ipykernel_launcher.py:1: SettingWithCopyWarning:\n",
            "\n",
            "\n",
            "A value is trying to be set on a copy of a slice from a DataFrame.\n",
            "Try using .loc[row_indexer,col_indexer] = value instead\n",
            "\n",
            "See the caveats in the documentation: https://pandas.pydata.org/pandas-docs/stable/user_guide/indexing.html#returning-a-view-versus-a-copy\n",
            "\n"
          ],
          "name": "stderr"
        },
        {
          "output_type": "display_data",
          "data": {
            "text/html": [
              "<html>\n",
              "<head><meta charset=\"utf-8\" /></head>\n",
              "<body>\n",
              "    <div>\n",
              "            <script src=\"https://cdnjs.cloudflare.com/ajax/libs/mathjax/2.7.5/MathJax.js?config=TeX-AMS-MML_SVG\"></script><script type=\"text/javascript\">if (window.MathJax) {MathJax.Hub.Config({SVG: {font: \"STIX-Web\"}});}</script>\n",
              "                <script type=\"text/javascript\">window.PlotlyConfig = {MathJaxConfig: 'local'};</script>\n",
              "        <script src=\"https://cdn.plot.ly/plotly-latest.min.js\"></script>    \n",
              "            <div id=\"28ef4780-6ce9-4039-a8f2-c72e2843918a\" class=\"plotly-graph-div\" style=\"height:525px; width:100%;\"></div>\n",
              "            <script type=\"text/javascript\">\n",
              "                \n",
              "                    window.PLOTLYENV=window.PLOTLYENV || {};\n",
              "                    \n",
              "                if (document.getElementById(\"28ef4780-6ce9-4039-a8f2-c72e2843918a\")) {\n",
              "                    Plotly.newPlot(\n",
              "                        '28ef4780-6ce9-4039-a8f2-c72e2843918a',\n",
              "                        [{\"domain\": {\"x\": [0.0, 1.0], \"y\": [0.0, 1.0]}, \"hoverlabel\": {\"namelength\": 0}, \"hovertemplate\": \"release_year=%{label}<br>count=%{value}\", \"labels\": [2009, 2008, 2008, 2005, 2008, 2006, 2009, 2008, 2000, 2003, 2009, 2004, 2004, 2006, 2007, 2009, 2009, 2008, 2002, 2008, 2009, 2008, 2002, 2009, 2007, 2008, 2009, 2006, 2004, 2009, 2006, 2009, 2001, 2002, 2000, 2000, 2008, 2001, 2009, 2003, 2006, 2007, 2005, 2001, 2003, 2002, 2009, 2007, 2005, 2006, 2003, 2006, 2001, 2004, 2002, 2009, 2009, 2008, 2007, 2008, 2007, 2001, 2009, 2004, 2008, 2005, 2009, 2006, 2006, 2007, 2003, 2002, 2002, 2009, 2000, 2004, 2001, 2007, 2006, 2008, 2001, 2005, 2007, 2001, 2008, 2006, 2003, 2005, 2008, 2009, 2007, 2005, 2009, 2006, 2005, 2008, 2009, 2007, 2008, 2009, 2009, 2006, 2002, 2000, 2000, 2003, 2004, 2005, 2000, 2003, 2005, 2009, 2004, 2006, 2006, 2009, 2002, 2008, 2006, 2009, 2008, 2005, 2005, 2008, 2007, 2007, 2008, 2002, 2008, 2009, 2004, 2000, 2005, 2003, 2003, 2002, 2008, 2006, 2002, 2008, 2009, 2009, 2004, 2007, 2007, 2009, 2002, 2001, 2002, 2007, 2008, 2009, 2009, 2006, 2005, 2008, 2008, 2003, 2006, 2000, 2005, 2008, 2008, 2009, 2003, 2003, 2009, 2008, 2009, 2006, 2009, 2004, 2005, 2008, 2006, 2008, 2006, 2002, 2002, 2009, 2007, 2001, 2008, 2001, 2006, 2009, 2009, 2008, 2004, 2008, 2000, 2003, 2006, 2000, 2008, 2008, 2007, 2007, 2007, 2009, 2008, 2009, 2004, 2009, 2003, 2002, 2007, 2008, 2009, 2009, 2003, 2008, 2005, 2007, 2005, 2006, 2008, 2007, 2008, 2006, 2009, 2007, 2005, 2001, 2003, 2008, 2007, 2007, 2002, 2009, 2007, 2005, 2009, 2000, 2009, 2005, 2008, 2004, 2007, 2003, 2001, 2004, 2005, 2006, 2008, 2007, 2007, 2009, 2000, 2009, 2006, 2005, 2008, 2009, 2008, 2009, 2005, 2008, 2005, 2007, 2008, 2007, 2001, 2004, 2003, 2001, 2002, 2009, 2008, 2006, 2009, 2003, 2009, 2006, 2008, 2007, 2009, 2008, 2001, 2006, 2008, 2008, 2002, 2003, 2009, 2005, 2009, 2001, 2008, 2005, 2000, 2009, 2005, 2007, 2005, 2002, 2009, 2005, 2006, 2001, 2003, 2009, 2007, 2008, 2001, 2007, 2007, 2006, 2006, 2005, 2009, 2001, 2006, 2003, 2003, 2004, 2005, 2009, 2008, 2009, 2005, 2006, 2003, 2009, 2004, 2003, 2004, 2009, 2000, 2005, 2001, 2004, 2004, 2006, 2001, 2004, 2002, 2004, 2003, 2006, 2007, 2009, 2006, 2000, 2009, 2006, 2009, 2005, 2008, 2008, 2004, 2009, 2004, 2005, 2005, 2007, 2002, 2006, 2003, 2002, 2008, 2009, 2009, 2009, 2008, 2008, 2004, 2008, 2000, 2003, 2006, 2005, 2008, 2000, 2009, 2005, 2009, 2002, 2009, 2007, 2004, 2006, 2003, 2008, 2007, 2005, 2007, 2002, 2001, 2009, 2008, 2009, 2003, 2006, 2007, 2006, 2008, 2009, 2007, 2005, 2006, 2004, 2004, 2009, 2009, 2009, 2004, 2007, 2008, 2009, 2005, 2005, 2007, 2004, 2009, 2009, 2007, 2004, 2007, 2009, 2001, 2006, 2002, 2006, 2005, 2006, 2008, 2006, 2007, 2007, 2005, 2007, 2002, 2004, 2006, 2002, 2000, 2007, 2003, 2009, 2009, 2006, 2007, 2000, 2006, 2009, 2008, 2002, 2009, 2006, 2008, 2000, 2006, 2004, 2008, 2000, 2006, 2003, 2007, 2009, 2005, 2001, 2002, 2008, 2000, 2006, 2008, 2009, 2008, 2004, 2008, 2009, 2008, 2002, 2005, 2006, 2008, 2004, 2008, 2008, 2005, 2009, 2008, 2004, 2000, 2005, 2004, 2003, 2009, 2007, 2008, 2005, 2008, 2000, 2000, 2007, 2008, 2008, 2008, 2008, 2005, 2002, 2002, 2002, 2008, 2006, 2009, 2007, 2009, 2004, 2004, 2008, 2008, 2004, 2008, 2000, 2005, 2009, 2003, 2003, 2008, 2008, 2000, 2007, 2009, 2004, 2001, 2002, 2003, 2004, 2000, 2007, 2006, 2004, 2006, 2006, 2008, 2006, 2002, 2007, 2006, 2002, 2007, 2004, 2007, 2001, 2007, 2008, 2009, 2006, 2005, 2003, 2007, 2003, 2009, 2005, 2007, 2005, 2007, 2005, 2000, 2009, 2004, 2008, 2001, 2005, 2009, 2008, 2007, 2006, 2005, 2007, 2006, 2006, 2009, 2005, 2006, 2009, 2009, 2005, 2007, 2009, 2009, 2000, 2008, 2007, 2008, 2003, 2007, 2009, 2005, 2008, 2007, 2005, 2009, 2009, 2009, 2009, 2008, 2007, 2003, 2009, 2006, 2002, 2008, 2009, 2006, 2008, 2003, 2002, 2008, 2009, 2003, 2003, 2009, 2007, 2008, 2000, 2004, 2003, 2001, 2004, 2006, 2007, 2004, 2004, 2004, 2005, 2009, 2006, 2009, 2008, 2006, 2002, 2001, 2008, 2005, 2004, 2009, 2002, 2009, 2008, 2002, 2004, 2009, 2009, 2009, 2007, 2007, 2006, 2005, 2009, 2007, 2008, 2009, 2006, 2009, 2001, 2008, 2001, 2007, 2009, 2008, 2006, 2004, 2007, 2008, 2001, 2004, 2004, 2007, 2008, 2008, 2006, 2007, 2009, 2005, 2008, 2008, 2008, 2006, 2006, 2001, 2004, 2005, 2009, 2007, 2007, 2008, 2009, 2003, 2003, 2000, 2005, 2002, 2006, 2009, 2000, 2004, 2008, 2006, 2009, 2009, 2002, 2005, 2001, 2008, 2001, 2006, 2008, 2009, 2008, 2008, 2005, 2009, 2005, 2004, 2006, 2008, 2005, 2009, 2007, 2009, 2006, 2005], \"legendgroup\": \"\", \"name\": \"\", \"showlegend\": true, \"type\": \"pie\", \"values\": [1, 1, 1, 1, 1, 1, 1, 1, 1, 1, 1, 1, 1, 1, 1, 1, 1, 1, 1, 1, 1, 1, 1, 1, 1, 1, 1, 1, 1, 1, 1, 1, 1, 1, 1, 1, 1, 1, 1, 1, 1, 1, 1, 1, 1, 1, 1, 1, 1, 1, 1, 1, 1, 1, 1, 1, 1, 1, 1, 1, 1, 1, 1, 1, 1, 1, 1, 1, 1, 1, 1, 1, 1, 1, 1, 1, 1, 1, 1, 1, 1, 1, 1, 1, 1, 1, 1, 1, 1, 1, 1, 1, 1, 1, 1, 1, 1, 1, 1, 1, 1, 1, 1, 1, 1, 1, 1, 1, 1, 1, 1, 1, 1, 1, 1, 1, 1, 1, 1, 1, 1, 1, 1, 1, 1, 1, 1, 1, 1, 1, 1, 1, 1, 1, 1, 1, 1, 1, 1, 1, 1, 1, 1, 1, 1, 1, 1, 1, 1, 1, 1, 1, 1, 1, 1, 1, 1, 1, 1, 1, 1, 1, 1, 1, 1, 1, 1, 1, 1, 1, 1, 1, 1, 1, 1, 1, 1, 1, 1, 1, 1, 1, 1, 1, 1, 1, 1, 1, 1, 1, 1, 1, 1, 1, 1, 1, 1, 1, 1, 1, 1, 1, 1, 1, 1, 1, 1, 1, 1, 1, 1, 1, 1, 1, 1, 1, 1, 1, 1, 1, 1, 1, 1, 1, 1, 1, 1, 1, 1, 1, 1, 1, 1, 1, 1, 1, 1, 1, 1, 1, 1, 1, 1, 1, 1, 1, 1, 1, 1, 1, 1, 1, 1, 1, 1, 1, 1, 1, 1, 1, 1, 1, 1, 1, 1, 1, 1, 1, 1, 1, 1, 1, 1, 1, 1, 1, 1, 1, 1, 1, 1, 1, 1, 1, 1, 1, 1, 1, 1, 1, 1, 1, 1, 1, 1, 1, 1, 1, 1, 1, 1, 1, 1, 1, 1, 1, 1, 1, 1, 1, 1, 1, 1, 1, 1, 1, 1, 1, 1, 1, 1, 1, 1, 1, 1, 1, 1, 1, 1, 1, 1, 1, 1, 1, 1, 1, 1, 1, 1, 1, 1, 1, 1, 1, 1, 1, 1, 1, 1, 1, 1, 1, 1, 1, 1, 1, 1, 1, 1, 1, 1, 1, 1, 1, 1, 1, 1, 1, 1, 1, 1, 1, 1, 1, 1, 1, 1, 1, 1, 1, 1, 1, 1, 1, 1, 1, 1, 1, 1, 1, 1, 1, 1, 1, 1, 1, 1, 1, 1, 1, 1, 1, 1, 1, 1, 1, 1, 1, 1, 1, 1, 1, 1, 1, 1, 1, 1, 1, 1, 1, 1, 1, 1, 1, 1, 1, 1, 1, 1, 1, 1, 1, 1, 1, 1, 1, 1, 1, 1, 1, 1, 1, 1, 1, 1, 1, 1, 1, 1, 1, 1, 1, 1, 1, 1, 1, 1, 1, 1, 1, 1, 1, 1, 1, 1, 1, 1, 1, 1, 1, 1, 1, 1, 1, 1, 1, 1, 1, 1, 1, 1, 1, 1, 1, 1, 1, 1, 1, 1, 1, 1, 1, 1, 1, 1, 1, 1, 1, 1, 1, 1, 1, 1, 1, 1, 1, 1, 1, 1, 1, 1, 1, 1, 1, 1, 1, 1, 1, 1, 1, 1, 1, 1, 1, 1, 1, 1, 1, 1, 1, 1, 1, 1, 1, 1, 1, 1, 1, 1, 1, 1, 1, 1, 1, 1, 1, 1, 1, 1, 1, 1, 1, 1, 1, 1, 1, 1, 1, 1, 1, 1, 1, 1, 1, 1, 1, 1, 1, 1, 1, 1, 1, 1, 1, 1, 1, 1, 1, 1, 1, 1, 1, 1, 1, 1, 1, 1, 1, 1, 1, 1, 1, 1, 1, 1, 1, 1, 1, 1, 1, 1, 1, 1, 1, 1, 1, 1, 1, 1, 1, 1, 1, 1, 1, 1, 1, 1, 1, 1, 1, 1, 1, 1, 1, 1, 1, 1, 1, 1, 1, 1, 1, 1, 1, 1, 1, 1, 1, 1, 1, 1, 1, 1, 1, 1, 1, 1, 1, 1, 1, 1, 1, 1, 1, 1, 1, 1, 1, 1, 1, 1, 1, 1, 1, 1, 1, 1, 1, 1, 1, 1, 1, 1, 1, 1, 1, 1, 1, 1, 1, 1, 1, 1, 1, 1, 1, 1, 1, 1, 1, 1, 1, 1, 1, 1, 1, 1, 1, 1, 1, 1, 1, 1, 1, 1, 1, 1, 1, 1, 1, 1, 1, 1, 1, 1, 1, 1, 1, 1, 1, 1, 1, 1, 1, 1]}],\n",
              "                        {\"legend\": {\"tracegroupgap\": 0}, \"margin\": {\"t\": 60}, \"template\": {\"data\": {\"bar\": [{\"error_x\": {\"color\": \"#2a3f5f\"}, \"error_y\": {\"color\": \"#2a3f5f\"}, \"marker\": {\"line\": {\"color\": \"#E5ECF6\", \"width\": 0.5}}, \"type\": \"bar\"}], \"barpolar\": [{\"marker\": {\"line\": {\"color\": \"#E5ECF6\", \"width\": 0.5}}, \"type\": \"barpolar\"}], \"carpet\": [{\"aaxis\": {\"endlinecolor\": \"#2a3f5f\", \"gridcolor\": \"white\", \"linecolor\": \"white\", \"minorgridcolor\": \"white\", \"startlinecolor\": \"#2a3f5f\"}, \"baxis\": {\"endlinecolor\": \"#2a3f5f\", \"gridcolor\": \"white\", \"linecolor\": \"white\", \"minorgridcolor\": \"white\", \"startlinecolor\": \"#2a3f5f\"}, \"type\": \"carpet\"}], \"choropleth\": [{\"colorbar\": {\"outlinewidth\": 0, \"ticks\": \"\"}, \"type\": \"choropleth\"}], \"contour\": [{\"colorbar\": {\"outlinewidth\": 0, \"ticks\": \"\"}, \"colorscale\": [[0.0, \"#0d0887\"], [0.1111111111111111, \"#46039f\"], [0.2222222222222222, \"#7201a8\"], [0.3333333333333333, \"#9c179e\"], [0.4444444444444444, \"#bd3786\"], [0.5555555555555556, \"#d8576b\"], [0.6666666666666666, \"#ed7953\"], [0.7777777777777778, \"#fb9f3a\"], [0.8888888888888888, \"#fdca26\"], [1.0, \"#f0f921\"]], \"type\": \"contour\"}], \"contourcarpet\": [{\"colorbar\": {\"outlinewidth\": 0, \"ticks\": \"\"}, \"type\": \"contourcarpet\"}], \"heatmap\": [{\"colorbar\": {\"outlinewidth\": 0, \"ticks\": \"\"}, \"colorscale\": [[0.0, \"#0d0887\"], [0.1111111111111111, \"#46039f\"], [0.2222222222222222, \"#7201a8\"], [0.3333333333333333, \"#9c179e\"], [0.4444444444444444, \"#bd3786\"], [0.5555555555555556, \"#d8576b\"], [0.6666666666666666, \"#ed7953\"], [0.7777777777777778, \"#fb9f3a\"], [0.8888888888888888, \"#fdca26\"], [1.0, \"#f0f921\"]], \"type\": \"heatmap\"}], \"heatmapgl\": [{\"colorbar\": {\"outlinewidth\": 0, \"ticks\": \"\"}, \"colorscale\": [[0.0, \"#0d0887\"], [0.1111111111111111, \"#46039f\"], [0.2222222222222222, \"#7201a8\"], [0.3333333333333333, \"#9c179e\"], [0.4444444444444444, \"#bd3786\"], [0.5555555555555556, \"#d8576b\"], [0.6666666666666666, \"#ed7953\"], [0.7777777777777778, \"#fb9f3a\"], [0.8888888888888888, \"#fdca26\"], [1.0, \"#f0f921\"]], \"type\": \"heatmapgl\"}], \"histogram\": [{\"marker\": {\"colorbar\": {\"outlinewidth\": 0, \"ticks\": \"\"}}, \"type\": \"histogram\"}], \"histogram2d\": [{\"colorbar\": {\"outlinewidth\": 0, \"ticks\": \"\"}, \"colorscale\": [[0.0, \"#0d0887\"], [0.1111111111111111, \"#46039f\"], [0.2222222222222222, \"#7201a8\"], [0.3333333333333333, \"#9c179e\"], [0.4444444444444444, \"#bd3786\"], [0.5555555555555556, \"#d8576b\"], [0.6666666666666666, \"#ed7953\"], [0.7777777777777778, \"#fb9f3a\"], [0.8888888888888888, \"#fdca26\"], [1.0, \"#f0f921\"]], \"type\": \"histogram2d\"}], \"histogram2dcontour\": [{\"colorbar\": {\"outlinewidth\": 0, \"ticks\": \"\"}, \"colorscale\": [[0.0, \"#0d0887\"], [0.1111111111111111, \"#46039f\"], [0.2222222222222222, \"#7201a8\"], [0.3333333333333333, \"#9c179e\"], [0.4444444444444444, \"#bd3786\"], [0.5555555555555556, \"#d8576b\"], [0.6666666666666666, \"#ed7953\"], [0.7777777777777778, \"#fb9f3a\"], [0.8888888888888888, \"#fdca26\"], [1.0, \"#f0f921\"]], \"type\": \"histogram2dcontour\"}], \"mesh3d\": [{\"colorbar\": {\"outlinewidth\": 0, \"ticks\": \"\"}, \"type\": \"mesh3d\"}], \"parcoords\": [{\"line\": {\"colorbar\": {\"outlinewidth\": 0, \"ticks\": \"\"}}, \"type\": \"parcoords\"}], \"pie\": [{\"automargin\": true, \"type\": \"pie\"}], \"scatter\": [{\"marker\": {\"colorbar\": {\"outlinewidth\": 0, \"ticks\": \"\"}}, \"type\": \"scatter\"}], \"scatter3d\": [{\"line\": {\"colorbar\": {\"outlinewidth\": 0, \"ticks\": \"\"}}, \"marker\": {\"colorbar\": {\"outlinewidth\": 0, \"ticks\": \"\"}}, \"type\": \"scatter3d\"}], \"scattercarpet\": [{\"marker\": {\"colorbar\": {\"outlinewidth\": 0, \"ticks\": \"\"}}, \"type\": \"scattercarpet\"}], \"scattergeo\": [{\"marker\": {\"colorbar\": {\"outlinewidth\": 0, \"ticks\": \"\"}}, \"type\": \"scattergeo\"}], \"scattergl\": [{\"marker\": {\"colorbar\": {\"outlinewidth\": 0, \"ticks\": \"\"}}, \"type\": \"scattergl\"}], \"scattermapbox\": [{\"marker\": {\"colorbar\": {\"outlinewidth\": 0, \"ticks\": \"\"}}, \"type\": \"scattermapbox\"}], \"scatterpolar\": [{\"marker\": {\"colorbar\": {\"outlinewidth\": 0, \"ticks\": \"\"}}, \"type\": \"scatterpolar\"}], \"scatterpolargl\": [{\"marker\": {\"colorbar\": {\"outlinewidth\": 0, \"ticks\": \"\"}}, \"type\": \"scatterpolargl\"}], \"scatterternary\": [{\"marker\": {\"colorbar\": {\"outlinewidth\": 0, \"ticks\": \"\"}}, \"type\": \"scatterternary\"}], \"surface\": [{\"colorbar\": {\"outlinewidth\": 0, \"ticks\": \"\"}, \"colorscale\": [[0.0, \"#0d0887\"], [0.1111111111111111, \"#46039f\"], [0.2222222222222222, \"#7201a8\"], [0.3333333333333333, \"#9c179e\"], [0.4444444444444444, \"#bd3786\"], [0.5555555555555556, \"#d8576b\"], [0.6666666666666666, \"#ed7953\"], [0.7777777777777778, \"#fb9f3a\"], [0.8888888888888888, \"#fdca26\"], [1.0, \"#f0f921\"]], \"type\": \"surface\"}], \"table\": [{\"cells\": {\"fill\": {\"color\": \"#EBF0F8\"}, \"line\": {\"color\": \"white\"}}, \"header\": {\"fill\": {\"color\": \"#C8D4E3\"}, \"line\": {\"color\": \"white\"}}, \"type\": \"table\"}]}, \"layout\": {\"annotationdefaults\": {\"arrowcolor\": \"#2a3f5f\", \"arrowhead\": 0, \"arrowwidth\": 1}, \"coloraxis\": {\"colorbar\": {\"outlinewidth\": 0, \"ticks\": \"\"}}, \"colorscale\": {\"diverging\": [[0, \"#8e0152\"], [0.1, \"#c51b7d\"], [0.2, \"#de77ae\"], [0.3, \"#f1b6da\"], [0.4, \"#fde0ef\"], [0.5, \"#f7f7f7\"], [0.6, \"#e6f5d0\"], [0.7, \"#b8e186\"], [0.8, \"#7fbc41\"], [0.9, \"#4d9221\"], [1, \"#276419\"]], \"sequential\": [[0.0, \"#0d0887\"], [0.1111111111111111, \"#46039f\"], [0.2222222222222222, \"#7201a8\"], [0.3333333333333333, \"#9c179e\"], [0.4444444444444444, \"#bd3786\"], [0.5555555555555556, \"#d8576b\"], [0.6666666666666666, \"#ed7953\"], [0.7777777777777778, \"#fb9f3a\"], [0.8888888888888888, \"#fdca26\"], [1.0, \"#f0f921\"]], \"sequentialminus\": [[0.0, \"#0d0887\"], [0.1111111111111111, \"#46039f\"], [0.2222222222222222, \"#7201a8\"], [0.3333333333333333, \"#9c179e\"], [0.4444444444444444, \"#bd3786\"], [0.5555555555555556, \"#d8576b\"], [0.6666666666666666, \"#ed7953\"], [0.7777777777777778, \"#fb9f3a\"], [0.8888888888888888, \"#fdca26\"], [1.0, \"#f0f921\"]]}, \"colorway\": [\"#636efa\", \"#EF553B\", \"#00cc96\", \"#ab63fa\", \"#FFA15A\", \"#19d3f3\", \"#FF6692\", \"#B6E880\", \"#FF97FF\", \"#FECB52\"], \"font\": {\"color\": \"#2a3f5f\"}, \"geo\": {\"bgcolor\": \"white\", \"lakecolor\": \"white\", \"landcolor\": \"#E5ECF6\", \"showlakes\": true, \"showland\": true, \"subunitcolor\": \"white\"}, \"hoverlabel\": {\"align\": \"left\"}, \"hovermode\": \"closest\", \"mapbox\": {\"style\": \"light\"}, \"paper_bgcolor\": \"white\", \"plot_bgcolor\": \"#E5ECF6\", \"polar\": {\"angularaxis\": {\"gridcolor\": \"white\", \"linecolor\": \"white\", \"ticks\": \"\"}, \"bgcolor\": \"#E5ECF6\", \"radialaxis\": {\"gridcolor\": \"white\", \"linecolor\": \"white\", \"ticks\": \"\"}}, \"scene\": {\"xaxis\": {\"backgroundcolor\": \"#E5ECF6\", \"gridcolor\": \"white\", \"gridwidth\": 2, \"linecolor\": \"white\", \"showbackground\": true, \"ticks\": \"\", \"zerolinecolor\": \"white\"}, \"yaxis\": {\"backgroundcolor\": \"#E5ECF6\", \"gridcolor\": \"white\", \"gridwidth\": 2, \"linecolor\": \"white\", \"showbackground\": true, \"ticks\": \"\", \"zerolinecolor\": \"white\"}, \"zaxis\": {\"backgroundcolor\": \"#E5ECF6\", \"gridcolor\": \"white\", \"gridwidth\": 2, \"linecolor\": \"white\", \"showbackground\": true, \"ticks\": \"\", \"zerolinecolor\": \"white\"}}, \"shapedefaults\": {\"line\": {\"color\": \"#2a3f5f\"}}, \"ternary\": {\"aaxis\": {\"gridcolor\": \"white\", \"linecolor\": \"white\", \"ticks\": \"\"}, \"baxis\": {\"gridcolor\": \"white\", \"linecolor\": \"white\", \"ticks\": \"\"}, \"bgcolor\": \"#E5ECF6\", \"caxis\": {\"gridcolor\": \"white\", \"linecolor\": \"white\", \"ticks\": \"\"}}, \"title\": {\"x\": 0.05}, \"xaxis\": {\"automargin\": true, \"gridcolor\": \"white\", \"linecolor\": \"white\", \"ticks\": \"\", \"title\": {\"standoff\": 15}, \"zerolinecolor\": \"white\", \"zerolinewidth\": 2}, \"yaxis\": {\"automargin\": true, \"gridcolor\": \"white\", \"linecolor\": \"white\", \"ticks\": \"\", \"title\": {\"standoff\": 15}, \"zerolinecolor\": \"white\", \"zerolinewidth\": 2}}}},\n",
              "                        {\"responsive\": true}\n",
              "                    ).then(function(){\n",
              "                            \n",
              "var gd = document.getElementById('28ef4780-6ce9-4039-a8f2-c72e2843918a');\n",
              "var x = new MutationObserver(function (mutations, observer) {{\n",
              "        var display = window.getComputedStyle(gd).display;\n",
              "        if (!display || display === 'none') {{\n",
              "            console.log([gd, 'removed!']);\n",
              "            Plotly.purge(gd);\n",
              "            observer.disconnect();\n",
              "        }}\n",
              "}});\n",
              "\n",
              "// Listen for the removal of the full notebook cells\n",
              "var notebookContainer = gd.closest('#notebook-container');\n",
              "if (notebookContainer) {{\n",
              "    x.observe(notebookContainer, {childList: true});\n",
              "}}\n",
              "\n",
              "// Listen for the clearing of the current output cell\n",
              "var outputEl = gd.closest('.output');\n",
              "if (outputEl) {{\n",
              "    x.observe(outputEl, {childList: true});\n",
              "}}\n",
              "\n",
              "                        })\n",
              "                };\n",
              "                \n",
              "            </script>\n",
              "        </div>\n",
              "</body>\n",
              "</html>"
            ]
          },
          "metadata": {
            "tags": []
          }
        }
      ]
    },
    {
      "cell_type": "code",
      "metadata": {
        "id": "YGKvnVFWCO5j"
      },
      "source": [
        "data['date_added'] = pd.to_datetime(data['date_added'])"
      ],
      "execution_count": 16,
      "outputs": []
    },
    {
      "cell_type": "code",
      "metadata": {
        "colab": {
          "base_uri": "https://localhost:8080/"
        },
        "id": "6nyPY9IzC0yj",
        "outputId": "e1b7087c-4047-4bd7-88c1-b2fe95cb76ca"
      },
      "source": [
        "data.info()"
      ],
      "execution_count": 17,
      "outputs": [
        {
          "output_type": "stream",
          "text": [
            "<class 'pandas.core.frame.DataFrame'>\n",
            "Int64Index: 7777 entries, 0 to 7786\n",
            "Data columns (total 12 columns):\n",
            " #   Column        Non-Null Count  Dtype         \n",
            "---  ------        --------------  -----         \n",
            " 0   show_id       7777 non-null   object        \n",
            " 1   type          7777 non-null   object        \n",
            " 2   title         7777 non-null   object        \n",
            " 3   director      7777 non-null   object        \n",
            " 4   cast          7777 non-null   object        \n",
            " 5   country       7777 non-null   object        \n",
            " 6   date_added    7777 non-null   datetime64[ns]\n",
            " 7   release_year  7777 non-null   int64         \n",
            " 8   rating        7777 non-null   object        \n",
            " 9   duration      7777 non-null   object        \n",
            " 10  listed_in     7777 non-null   object        \n",
            " 11  description   7777 non-null   object        \n",
            "dtypes: datetime64[ns](1), int64(1), object(10)\n",
            "memory usage: 789.9+ KB\n"
          ],
          "name": "stdout"
        }
      ]
    },
    {
      "cell_type": "code",
      "metadata": {
        "id": "pEb5C341c9zl"
      },
      "source": [
        "monthwise_release = []\n",
        "data['count'] = 1\n",
        "for i in range(1,13):\n",
        "  temp = data['count'][data['date_added'].dt.month == i].count()\n",
        "  monthwise_release.append(temp)"
      ],
      "execution_count": 18,
      "outputs": []
    },
    {
      "cell_type": "code",
      "metadata": {
        "colab": {
          "base_uri": "https://localhost:8080/",
          "height": 204
        },
        "id": "6s50H7E8dsW3",
        "outputId": "7b5ef46a-48ce-4873-9bd1-66ce29862e0a"
      },
      "source": [
        "import calendar\n",
        "months = []\n",
        "for i in range(1,13):\n",
        "  months.append(calendar.month_name[i])\n",
        "\n",
        "monthwise_release_df = pd.DataFrame(monthwise_release, columns=['movies_per_month'])\n",
        "monthwise_release_df['Month'] = months\n",
        "monthwise_release_df.head()"
      ],
      "execution_count": 19,
      "outputs": [
        {
          "output_type": "execute_result",
          "data": {
            "text/html": [
              "<div>\n",
              "<style scoped>\n",
              "    .dataframe tbody tr th:only-of-type {\n",
              "        vertical-align: middle;\n",
              "    }\n",
              "\n",
              "    .dataframe tbody tr th {\n",
              "        vertical-align: top;\n",
              "    }\n",
              "\n",
              "    .dataframe thead th {\n",
              "        text-align: right;\n",
              "    }\n",
              "</style>\n",
              "<table border=\"1\" class=\"dataframe\">\n",
              "  <thead>\n",
              "    <tr style=\"text-align: right;\">\n",
              "      <th></th>\n",
              "      <th>movies_per_month</th>\n",
              "      <th>Month</th>\n",
              "    </tr>\n",
              "  </thead>\n",
              "  <tbody>\n",
              "    <tr>\n",
              "      <th>0</th>\n",
              "      <td>757</td>\n",
              "      <td>January</td>\n",
              "    </tr>\n",
              "    <tr>\n",
              "      <th>1</th>\n",
              "      <td>472</td>\n",
              "      <td>February</td>\n",
              "    </tr>\n",
              "    <tr>\n",
              "      <th>2</th>\n",
              "      <td>669</td>\n",
              "      <td>March</td>\n",
              "    </tr>\n",
              "    <tr>\n",
              "      <th>3</th>\n",
              "      <td>601</td>\n",
              "      <td>April</td>\n",
              "    </tr>\n",
              "    <tr>\n",
              "      <th>4</th>\n",
              "      <td>543</td>\n",
              "      <td>May</td>\n",
              "    </tr>\n",
              "  </tbody>\n",
              "</table>\n",
              "</div>"
            ],
            "text/plain": [
              "   movies_per_month     Month\n",
              "0               757   January\n",
              "1               472  February\n",
              "2               669     March\n",
              "3               601     April\n",
              "4               543       May"
            ]
          },
          "metadata": {
            "tags": []
          },
          "execution_count": 19
        }
      ]
    },
    {
      "cell_type": "code",
      "metadata": {
        "colab": {
          "base_uri": "https://localhost:8080/",
          "height": 567
        },
        "id": "_Ksvw_srfB1n",
        "outputId": "f1741965-ec09-42c5-956a-c862439c3b5e"
      },
      "source": [
        "fig4 = px.bar(monthwise_release_df,x= 'Month', y = 'movies_per_month' , \n",
        "              labels = {\n",
        "                  \"month\" : \"Months\",\n",
        "                 \"movies_per_month\" : \"Number of movies released per month\" \n",
        "              }, width=1200, height=550)\n",
        "fig4\n",
        "fig4.show()"
      ],
      "execution_count": 20,
      "outputs": [
        {
          "output_type": "display_data",
          "data": {
            "text/html": [
              "<html>\n",
              "<head><meta charset=\"utf-8\" /></head>\n",
              "<body>\n",
              "    <div>\n",
              "            <script src=\"https://cdnjs.cloudflare.com/ajax/libs/mathjax/2.7.5/MathJax.js?config=TeX-AMS-MML_SVG\"></script><script type=\"text/javascript\">if (window.MathJax) {MathJax.Hub.Config({SVG: {font: \"STIX-Web\"}});}</script>\n",
              "                <script type=\"text/javascript\">window.PlotlyConfig = {MathJaxConfig: 'local'};</script>\n",
              "        <script src=\"https://cdn.plot.ly/plotly-latest.min.js\"></script>    \n",
              "            <div id=\"762b6056-82ca-474d-ac0c-c37844089650\" class=\"plotly-graph-div\" style=\"height:550px; width:1200px;\"></div>\n",
              "            <script type=\"text/javascript\">\n",
              "                \n",
              "                    window.PLOTLYENV=window.PLOTLYENV || {};\n",
              "                    \n",
              "                if (document.getElementById(\"762b6056-82ca-474d-ac0c-c37844089650\")) {\n",
              "                    Plotly.newPlot(\n",
              "                        '762b6056-82ca-474d-ac0c-c37844089650',\n",
              "                        [{\"alignmentgroup\": \"True\", \"hoverlabel\": {\"namelength\": 0}, \"hovertemplate\": \"Month=%{x}<br>Number of movies released per month=%{y}\", \"legendgroup\": \"\", \"marker\": {\"color\": \"#636efa\"}, \"name\": \"\", \"offsetgroup\": \"\", \"orientation\": \"v\", \"showlegend\": false, \"textposition\": \"auto\", \"type\": \"bar\", \"x\": [\"January\", \"February\", \"March\", \"April\", \"May\", \"June\", \"July\", \"August\", \"September\", \"October\", \"November\", \"December\"], \"xaxis\": \"x\", \"y\": [757, 472, 669, 601, 543, 542, 600, 618, 619, 785, 738, 833], \"yaxis\": \"y\"}],\n",
              "                        {\"barmode\": \"relative\", \"height\": 550, \"legend\": {\"tracegroupgap\": 0}, \"margin\": {\"t\": 60}, \"template\": {\"data\": {\"bar\": [{\"error_x\": {\"color\": \"#2a3f5f\"}, \"error_y\": {\"color\": \"#2a3f5f\"}, \"marker\": {\"line\": {\"color\": \"#E5ECF6\", \"width\": 0.5}}, \"type\": \"bar\"}], \"barpolar\": [{\"marker\": {\"line\": {\"color\": \"#E5ECF6\", \"width\": 0.5}}, \"type\": \"barpolar\"}], \"carpet\": [{\"aaxis\": {\"endlinecolor\": \"#2a3f5f\", \"gridcolor\": \"white\", \"linecolor\": \"white\", \"minorgridcolor\": \"white\", \"startlinecolor\": \"#2a3f5f\"}, \"baxis\": {\"endlinecolor\": \"#2a3f5f\", \"gridcolor\": \"white\", \"linecolor\": \"white\", \"minorgridcolor\": \"white\", \"startlinecolor\": \"#2a3f5f\"}, \"type\": \"carpet\"}], \"choropleth\": [{\"colorbar\": {\"outlinewidth\": 0, \"ticks\": \"\"}, \"type\": \"choropleth\"}], \"contour\": [{\"colorbar\": {\"outlinewidth\": 0, \"ticks\": \"\"}, \"colorscale\": [[0.0, \"#0d0887\"], [0.1111111111111111, \"#46039f\"], [0.2222222222222222, \"#7201a8\"], [0.3333333333333333, \"#9c179e\"], [0.4444444444444444, \"#bd3786\"], [0.5555555555555556, \"#d8576b\"], [0.6666666666666666, \"#ed7953\"], [0.7777777777777778, \"#fb9f3a\"], [0.8888888888888888, \"#fdca26\"], [1.0, \"#f0f921\"]], \"type\": \"contour\"}], \"contourcarpet\": [{\"colorbar\": {\"outlinewidth\": 0, \"ticks\": \"\"}, \"type\": \"contourcarpet\"}], \"heatmap\": [{\"colorbar\": {\"outlinewidth\": 0, \"ticks\": \"\"}, \"colorscale\": [[0.0, \"#0d0887\"], [0.1111111111111111, \"#46039f\"], [0.2222222222222222, \"#7201a8\"], [0.3333333333333333, \"#9c179e\"], [0.4444444444444444, \"#bd3786\"], [0.5555555555555556, \"#d8576b\"], [0.6666666666666666, \"#ed7953\"], [0.7777777777777778, \"#fb9f3a\"], [0.8888888888888888, \"#fdca26\"], [1.0, \"#f0f921\"]], \"type\": \"heatmap\"}], \"heatmapgl\": [{\"colorbar\": {\"outlinewidth\": 0, \"ticks\": \"\"}, \"colorscale\": [[0.0, \"#0d0887\"], [0.1111111111111111, \"#46039f\"], [0.2222222222222222, \"#7201a8\"], [0.3333333333333333, \"#9c179e\"], [0.4444444444444444, \"#bd3786\"], [0.5555555555555556, \"#d8576b\"], [0.6666666666666666, \"#ed7953\"], [0.7777777777777778, \"#fb9f3a\"], [0.8888888888888888, \"#fdca26\"], [1.0, \"#f0f921\"]], \"type\": \"heatmapgl\"}], \"histogram\": [{\"marker\": {\"colorbar\": {\"outlinewidth\": 0, \"ticks\": \"\"}}, \"type\": \"histogram\"}], \"histogram2d\": [{\"colorbar\": {\"outlinewidth\": 0, \"ticks\": \"\"}, \"colorscale\": [[0.0, \"#0d0887\"], [0.1111111111111111, \"#46039f\"], [0.2222222222222222, \"#7201a8\"], [0.3333333333333333, \"#9c179e\"], [0.4444444444444444, \"#bd3786\"], [0.5555555555555556, \"#d8576b\"], [0.6666666666666666, \"#ed7953\"], [0.7777777777777778, \"#fb9f3a\"], [0.8888888888888888, \"#fdca26\"], [1.0, \"#f0f921\"]], \"type\": \"histogram2d\"}], \"histogram2dcontour\": [{\"colorbar\": {\"outlinewidth\": 0, \"ticks\": \"\"}, \"colorscale\": [[0.0, \"#0d0887\"], [0.1111111111111111, \"#46039f\"], [0.2222222222222222, \"#7201a8\"], [0.3333333333333333, \"#9c179e\"], [0.4444444444444444, \"#bd3786\"], [0.5555555555555556, \"#d8576b\"], [0.6666666666666666, \"#ed7953\"], [0.7777777777777778, \"#fb9f3a\"], [0.8888888888888888, \"#fdca26\"], [1.0, \"#f0f921\"]], \"type\": \"histogram2dcontour\"}], \"mesh3d\": [{\"colorbar\": {\"outlinewidth\": 0, \"ticks\": \"\"}, \"type\": \"mesh3d\"}], \"parcoords\": [{\"line\": {\"colorbar\": {\"outlinewidth\": 0, \"ticks\": \"\"}}, \"type\": \"parcoords\"}], \"pie\": [{\"automargin\": true, \"type\": \"pie\"}], \"scatter\": [{\"marker\": {\"colorbar\": {\"outlinewidth\": 0, \"ticks\": \"\"}}, \"type\": \"scatter\"}], \"scatter3d\": [{\"line\": {\"colorbar\": {\"outlinewidth\": 0, \"ticks\": \"\"}}, \"marker\": {\"colorbar\": {\"outlinewidth\": 0, \"ticks\": \"\"}}, \"type\": \"scatter3d\"}], \"scattercarpet\": [{\"marker\": {\"colorbar\": {\"outlinewidth\": 0, \"ticks\": \"\"}}, \"type\": \"scattercarpet\"}], \"scattergeo\": [{\"marker\": {\"colorbar\": {\"outlinewidth\": 0, \"ticks\": \"\"}}, \"type\": \"scattergeo\"}], \"scattergl\": [{\"marker\": {\"colorbar\": {\"outlinewidth\": 0, \"ticks\": \"\"}}, \"type\": \"scattergl\"}], \"scattermapbox\": [{\"marker\": {\"colorbar\": {\"outlinewidth\": 0, \"ticks\": \"\"}}, \"type\": \"scattermapbox\"}], \"scatterpolar\": [{\"marker\": {\"colorbar\": {\"outlinewidth\": 0, \"ticks\": \"\"}}, \"type\": \"scatterpolar\"}], \"scatterpolargl\": [{\"marker\": {\"colorbar\": {\"outlinewidth\": 0, \"ticks\": \"\"}}, \"type\": \"scatterpolargl\"}], \"scatterternary\": [{\"marker\": {\"colorbar\": {\"outlinewidth\": 0, \"ticks\": \"\"}}, \"type\": \"scatterternary\"}], \"surface\": [{\"colorbar\": {\"outlinewidth\": 0, \"ticks\": \"\"}, \"colorscale\": [[0.0, \"#0d0887\"], [0.1111111111111111, \"#46039f\"], [0.2222222222222222, \"#7201a8\"], [0.3333333333333333, \"#9c179e\"], [0.4444444444444444, \"#bd3786\"], [0.5555555555555556, \"#d8576b\"], [0.6666666666666666, \"#ed7953\"], [0.7777777777777778, \"#fb9f3a\"], [0.8888888888888888, \"#fdca26\"], [1.0, \"#f0f921\"]], \"type\": \"surface\"}], \"table\": [{\"cells\": {\"fill\": {\"color\": \"#EBF0F8\"}, \"line\": {\"color\": \"white\"}}, \"header\": {\"fill\": {\"color\": \"#C8D4E3\"}, \"line\": {\"color\": \"white\"}}, \"type\": \"table\"}]}, \"layout\": {\"annotationdefaults\": {\"arrowcolor\": \"#2a3f5f\", \"arrowhead\": 0, \"arrowwidth\": 1}, \"coloraxis\": {\"colorbar\": {\"outlinewidth\": 0, \"ticks\": \"\"}}, \"colorscale\": {\"diverging\": [[0, \"#8e0152\"], [0.1, \"#c51b7d\"], [0.2, \"#de77ae\"], [0.3, \"#f1b6da\"], [0.4, \"#fde0ef\"], [0.5, \"#f7f7f7\"], [0.6, \"#e6f5d0\"], [0.7, \"#b8e186\"], [0.8, \"#7fbc41\"], [0.9, \"#4d9221\"], [1, \"#276419\"]], \"sequential\": [[0.0, \"#0d0887\"], [0.1111111111111111, \"#46039f\"], [0.2222222222222222, \"#7201a8\"], [0.3333333333333333, \"#9c179e\"], [0.4444444444444444, \"#bd3786\"], [0.5555555555555556, \"#d8576b\"], [0.6666666666666666, \"#ed7953\"], [0.7777777777777778, \"#fb9f3a\"], [0.8888888888888888, \"#fdca26\"], [1.0, \"#f0f921\"]], \"sequentialminus\": [[0.0, \"#0d0887\"], [0.1111111111111111, \"#46039f\"], [0.2222222222222222, \"#7201a8\"], [0.3333333333333333, \"#9c179e\"], [0.4444444444444444, \"#bd3786\"], [0.5555555555555556, \"#d8576b\"], [0.6666666666666666, \"#ed7953\"], [0.7777777777777778, \"#fb9f3a\"], [0.8888888888888888, \"#fdca26\"], [1.0, \"#f0f921\"]]}, \"colorway\": [\"#636efa\", \"#EF553B\", \"#00cc96\", \"#ab63fa\", \"#FFA15A\", \"#19d3f3\", \"#FF6692\", \"#B6E880\", \"#FF97FF\", \"#FECB52\"], \"font\": {\"color\": \"#2a3f5f\"}, \"geo\": {\"bgcolor\": \"white\", \"lakecolor\": \"white\", \"landcolor\": \"#E5ECF6\", \"showlakes\": true, \"showland\": true, \"subunitcolor\": \"white\"}, \"hoverlabel\": {\"align\": \"left\"}, \"hovermode\": \"closest\", \"mapbox\": {\"style\": \"light\"}, \"paper_bgcolor\": \"white\", \"plot_bgcolor\": \"#E5ECF6\", \"polar\": {\"angularaxis\": {\"gridcolor\": \"white\", \"linecolor\": \"white\", \"ticks\": \"\"}, \"bgcolor\": \"#E5ECF6\", \"radialaxis\": {\"gridcolor\": \"white\", \"linecolor\": \"white\", \"ticks\": \"\"}}, \"scene\": {\"xaxis\": {\"backgroundcolor\": \"#E5ECF6\", \"gridcolor\": \"white\", \"gridwidth\": 2, \"linecolor\": \"white\", \"showbackground\": true, \"ticks\": \"\", \"zerolinecolor\": \"white\"}, \"yaxis\": {\"backgroundcolor\": \"#E5ECF6\", \"gridcolor\": \"white\", \"gridwidth\": 2, \"linecolor\": \"white\", \"showbackground\": true, \"ticks\": \"\", \"zerolinecolor\": \"white\"}, \"zaxis\": {\"backgroundcolor\": \"#E5ECF6\", \"gridcolor\": \"white\", \"gridwidth\": 2, \"linecolor\": \"white\", \"showbackground\": true, \"ticks\": \"\", \"zerolinecolor\": \"white\"}}, \"shapedefaults\": {\"line\": {\"color\": \"#2a3f5f\"}}, \"ternary\": {\"aaxis\": {\"gridcolor\": \"white\", \"linecolor\": \"white\", \"ticks\": \"\"}, \"baxis\": {\"gridcolor\": \"white\", \"linecolor\": \"white\", \"ticks\": \"\"}, \"bgcolor\": \"#E5ECF6\", \"caxis\": {\"gridcolor\": \"white\", \"linecolor\": \"white\", \"ticks\": \"\"}}, \"title\": {\"x\": 0.05}, \"xaxis\": {\"automargin\": true, \"gridcolor\": \"white\", \"linecolor\": \"white\", \"ticks\": \"\", \"title\": {\"standoff\": 15}, \"zerolinecolor\": \"white\", \"zerolinewidth\": 2}, \"yaxis\": {\"automargin\": true, \"gridcolor\": \"white\", \"linecolor\": \"white\", \"ticks\": \"\", \"title\": {\"standoff\": 15}, \"zerolinecolor\": \"white\", \"zerolinewidth\": 2}}}, \"width\": 1200, \"xaxis\": {\"anchor\": \"y\", \"domain\": [0.0, 1.0], \"title\": {\"text\": \"Month\"}}, \"yaxis\": {\"anchor\": \"x\", \"domain\": [0.0, 1.0], \"title\": {\"text\": \"Number of movies released per month\"}}},\n",
              "                        {\"responsive\": true}\n",
              "                    ).then(function(){\n",
              "                            \n",
              "var gd = document.getElementById('762b6056-82ca-474d-ac0c-c37844089650');\n",
              "var x = new MutationObserver(function (mutations, observer) {{\n",
              "        var display = window.getComputedStyle(gd).display;\n",
              "        if (!display || display === 'none') {{\n",
              "            console.log([gd, 'removed!']);\n",
              "            Plotly.purge(gd);\n",
              "            observer.disconnect();\n",
              "        }}\n",
              "}});\n",
              "\n",
              "// Listen for the removal of the full notebook cells\n",
              "var notebookContainer = gd.closest('#notebook-container');\n",
              "if (notebookContainer) {{\n",
              "    x.observe(notebookContainer, {childList: true});\n",
              "}}\n",
              "\n",
              "// Listen for the clearing of the current output cell\n",
              "var outputEl = gd.closest('.output');\n",
              "if (outputEl) {{\n",
              "    x.observe(outputEl, {childList: true});\n",
              "}}\n",
              "\n",
              "                        })\n",
              "                };\n",
              "                \n",
              "            </script>\n",
              "        </div>\n",
              "</body>\n",
              "</html>"
            ]
          },
          "metadata": {
            "tags": []
          }
        }
      ]
    },
    {
      "cell_type": "markdown",
      "metadata": {
        "id": "mjCDIBLqiOeR"
      },
      "source": [
        "We can see that the number of movies released during the summer is actually pretty small when compared to number of movies released during the year end and the start of the year. February for some reason has the least number of movies released into netflix. "
      ]
    },
    {
      "cell_type": "code",
      "metadata": {
        "colab": {
          "base_uri": "https://localhost:8080/"
        },
        "id": "giZOCGTCfst0",
        "outputId": "ac71e48a-3056-4ced-c33c-da0b0090db5c"
      },
      "source": [
        "years_uploaded = len(data['date_added'].dt.year.unique())\n",
        "years_uploaded"
      ],
      "execution_count": 21,
      "outputs": [
        {
          "output_type": "execute_result",
          "data": {
            "text/plain": [
              "14"
            ]
          },
          "metadata": {
            "tags": []
          },
          "execution_count": 21
        }
      ]
    },
    {
      "cell_type": "code",
      "metadata": {
        "colab": {
          "base_uri": "https://localhost:8080/"
        },
        "id": "Ccy6oJAilaNQ",
        "outputId": "7bb37131-b097-4c5c-9aa1-01a7199c34f8"
      },
      "source": [
        "years = data['date_added'].dt.year.unique().tolist()\n",
        "years"
      ],
      "execution_count": 27,
      "outputs": [
        {
          "output_type": "execute_result",
          "data": {
            "text/plain": [
              "[2020,\n",
              " 2016,\n",
              " 2018,\n",
              " 2017,\n",
              " 2019,\n",
              " 2021,\n",
              " 2015,\n",
              " 2013,\n",
              " 2011,\n",
              " 2012,\n",
              " 2014,\n",
              " 2008,\n",
              " 2009,\n",
              " 2010]"
            ]
          },
          "metadata": {
            "tags": []
          },
          "execution_count": 27
        }
      ]
    },
    {
      "cell_type": "code",
      "metadata": {
        "colab": {
          "base_uri": "https://localhost:8080/"
        },
        "id": "uCPH-4-kl6CF",
        "outputId": "c31433ea-d832-4b90-dbbb-07f7650f36de"
      },
      "source": [
        "yearwise_release = []\n",
        "for i in years:\n",
        "  temp = data['count'][data['date_added'].dt.year == i].count()\n",
        "  yearwise_release.append(temp)\n",
        "yearwise_release"
      ],
      "execution_count": 30,
      "outputs": [
        {
          "output_type": "execute_result",
          "data": {
            "text/plain": [
              "[2009, 443, 1685, 1225, 2153, 117, 88, 11, 13, 3, 25, 2, 2, 1]"
            ]
          },
          "metadata": {
            "tags": []
          },
          "execution_count": 30
        }
      ]
    },
    {
      "cell_type": "code",
      "metadata": {
        "colab": {
          "base_uri": "https://localhost:8080/",
          "height": 567
        },
        "id": "ULRZxRaAk6yX",
        "outputId": "c96cdb79-4443-4fdc-9103-ef4c5f6e259f"
      },
      "source": [
        "yearwise_release_df = pd.DataFrame(yearwise_release, columns=['movies_per_year'])\n",
        "yearwise_release_df['year'] = years\n",
        "\n",
        "fig5 = px.bar(yearwise_release_df,x= 'year', y = 'movies_per_year' , \n",
        "              labels = {\n",
        "                  \"year\" : \"Years\",\n",
        "                 \"movies_per_year\" : \"Number of movies released per year\" \n",
        "              }, width=1200, height=550)\n",
        "fig5.show()"
      ],
      "execution_count": 34,
      "outputs": [
        {
          "output_type": "display_data",
          "data": {
            "text/html": [
              "<html>\n",
              "<head><meta charset=\"utf-8\" /></head>\n",
              "<body>\n",
              "    <div>\n",
              "            <script src=\"https://cdnjs.cloudflare.com/ajax/libs/mathjax/2.7.5/MathJax.js?config=TeX-AMS-MML_SVG\"></script><script type=\"text/javascript\">if (window.MathJax) {MathJax.Hub.Config({SVG: {font: \"STIX-Web\"}});}</script>\n",
              "                <script type=\"text/javascript\">window.PlotlyConfig = {MathJaxConfig: 'local'};</script>\n",
              "        <script src=\"https://cdn.plot.ly/plotly-latest.min.js\"></script>    \n",
              "            <div id=\"62845d4d-3079-4de2-b447-23da61be9f49\" class=\"plotly-graph-div\" style=\"height:550px; width:1200px;\"></div>\n",
              "            <script type=\"text/javascript\">\n",
              "                \n",
              "                    window.PLOTLYENV=window.PLOTLYENV || {};\n",
              "                    \n",
              "                if (document.getElementById(\"62845d4d-3079-4de2-b447-23da61be9f49\")) {\n",
              "                    Plotly.newPlot(\n",
              "                        '62845d4d-3079-4de2-b447-23da61be9f49',\n",
              "                        [{\"alignmentgroup\": \"True\", \"hoverlabel\": {\"namelength\": 0}, \"hovertemplate\": \"Years=%{x}<br>Number of movies released per year=%{y}\", \"legendgroup\": \"\", \"marker\": {\"color\": \"#636efa\"}, \"name\": \"\", \"offsetgroup\": \"\", \"orientation\": \"v\", \"showlegend\": false, \"textposition\": \"auto\", \"type\": \"bar\", \"x\": [2020, 2016, 2018, 2017, 2019, 2021, 2015, 2013, 2011, 2012, 2014, 2008, 2009, 2010], \"xaxis\": \"x\", \"y\": [2009, 443, 1685, 1225, 2153, 117, 88, 11, 13, 3, 25, 2, 2, 1], \"yaxis\": \"y\"}],\n",
              "                        {\"barmode\": \"relative\", \"height\": 550, \"legend\": {\"tracegroupgap\": 0}, \"margin\": {\"t\": 60}, \"template\": {\"data\": {\"bar\": [{\"error_x\": {\"color\": \"#2a3f5f\"}, \"error_y\": {\"color\": \"#2a3f5f\"}, \"marker\": {\"line\": {\"color\": \"#E5ECF6\", \"width\": 0.5}}, \"type\": \"bar\"}], \"barpolar\": [{\"marker\": {\"line\": {\"color\": \"#E5ECF6\", \"width\": 0.5}}, \"type\": \"barpolar\"}], \"carpet\": [{\"aaxis\": {\"endlinecolor\": \"#2a3f5f\", \"gridcolor\": \"white\", \"linecolor\": \"white\", \"minorgridcolor\": \"white\", \"startlinecolor\": \"#2a3f5f\"}, \"baxis\": {\"endlinecolor\": \"#2a3f5f\", \"gridcolor\": \"white\", \"linecolor\": \"white\", \"minorgridcolor\": \"white\", \"startlinecolor\": \"#2a3f5f\"}, \"type\": \"carpet\"}], \"choropleth\": [{\"colorbar\": {\"outlinewidth\": 0, \"ticks\": \"\"}, \"type\": \"choropleth\"}], \"contour\": [{\"colorbar\": {\"outlinewidth\": 0, \"ticks\": \"\"}, \"colorscale\": [[0.0, \"#0d0887\"], [0.1111111111111111, \"#46039f\"], [0.2222222222222222, \"#7201a8\"], [0.3333333333333333, \"#9c179e\"], [0.4444444444444444, \"#bd3786\"], [0.5555555555555556, \"#d8576b\"], [0.6666666666666666, \"#ed7953\"], [0.7777777777777778, \"#fb9f3a\"], [0.8888888888888888, \"#fdca26\"], [1.0, \"#f0f921\"]], \"type\": \"contour\"}], \"contourcarpet\": [{\"colorbar\": {\"outlinewidth\": 0, \"ticks\": \"\"}, \"type\": \"contourcarpet\"}], \"heatmap\": [{\"colorbar\": {\"outlinewidth\": 0, \"ticks\": \"\"}, \"colorscale\": [[0.0, \"#0d0887\"], [0.1111111111111111, \"#46039f\"], [0.2222222222222222, \"#7201a8\"], [0.3333333333333333, \"#9c179e\"], [0.4444444444444444, \"#bd3786\"], [0.5555555555555556, \"#d8576b\"], [0.6666666666666666, \"#ed7953\"], [0.7777777777777778, \"#fb9f3a\"], [0.8888888888888888, \"#fdca26\"], [1.0, \"#f0f921\"]], \"type\": \"heatmap\"}], \"heatmapgl\": [{\"colorbar\": {\"outlinewidth\": 0, \"ticks\": \"\"}, \"colorscale\": [[0.0, \"#0d0887\"], [0.1111111111111111, \"#46039f\"], [0.2222222222222222, \"#7201a8\"], [0.3333333333333333, \"#9c179e\"], [0.4444444444444444, \"#bd3786\"], [0.5555555555555556, \"#d8576b\"], [0.6666666666666666, \"#ed7953\"], [0.7777777777777778, \"#fb9f3a\"], [0.8888888888888888, \"#fdca26\"], [1.0, \"#f0f921\"]], \"type\": \"heatmapgl\"}], \"histogram\": [{\"marker\": {\"colorbar\": {\"outlinewidth\": 0, \"ticks\": \"\"}}, \"type\": \"histogram\"}], \"histogram2d\": [{\"colorbar\": {\"outlinewidth\": 0, \"ticks\": \"\"}, \"colorscale\": [[0.0, \"#0d0887\"], [0.1111111111111111, \"#46039f\"], [0.2222222222222222, \"#7201a8\"], [0.3333333333333333, \"#9c179e\"], [0.4444444444444444, \"#bd3786\"], [0.5555555555555556, \"#d8576b\"], [0.6666666666666666, \"#ed7953\"], [0.7777777777777778, \"#fb9f3a\"], [0.8888888888888888, \"#fdca26\"], [1.0, \"#f0f921\"]], \"type\": \"histogram2d\"}], \"histogram2dcontour\": [{\"colorbar\": {\"outlinewidth\": 0, \"ticks\": \"\"}, \"colorscale\": [[0.0, \"#0d0887\"], [0.1111111111111111, \"#46039f\"], [0.2222222222222222, \"#7201a8\"], [0.3333333333333333, \"#9c179e\"], [0.4444444444444444, \"#bd3786\"], [0.5555555555555556, \"#d8576b\"], [0.6666666666666666, \"#ed7953\"], [0.7777777777777778, \"#fb9f3a\"], [0.8888888888888888, \"#fdca26\"], [1.0, \"#f0f921\"]], \"type\": \"histogram2dcontour\"}], \"mesh3d\": [{\"colorbar\": {\"outlinewidth\": 0, \"ticks\": \"\"}, \"type\": \"mesh3d\"}], \"parcoords\": [{\"line\": {\"colorbar\": {\"outlinewidth\": 0, \"ticks\": \"\"}}, \"type\": \"parcoords\"}], \"pie\": [{\"automargin\": true, \"type\": \"pie\"}], \"scatter\": [{\"marker\": {\"colorbar\": {\"outlinewidth\": 0, \"ticks\": \"\"}}, \"type\": \"scatter\"}], \"scatter3d\": [{\"line\": {\"colorbar\": {\"outlinewidth\": 0, \"ticks\": \"\"}}, \"marker\": {\"colorbar\": {\"outlinewidth\": 0, \"ticks\": \"\"}}, \"type\": \"scatter3d\"}], \"scattercarpet\": [{\"marker\": {\"colorbar\": {\"outlinewidth\": 0, \"ticks\": \"\"}}, \"type\": \"scattercarpet\"}], \"scattergeo\": [{\"marker\": {\"colorbar\": {\"outlinewidth\": 0, \"ticks\": \"\"}}, \"type\": \"scattergeo\"}], \"scattergl\": [{\"marker\": {\"colorbar\": {\"outlinewidth\": 0, \"ticks\": \"\"}}, \"type\": \"scattergl\"}], \"scattermapbox\": [{\"marker\": {\"colorbar\": {\"outlinewidth\": 0, \"ticks\": \"\"}}, \"type\": \"scattermapbox\"}], \"scatterpolar\": [{\"marker\": {\"colorbar\": {\"outlinewidth\": 0, \"ticks\": \"\"}}, \"type\": \"scatterpolar\"}], \"scatterpolargl\": [{\"marker\": {\"colorbar\": {\"outlinewidth\": 0, \"ticks\": \"\"}}, \"type\": \"scatterpolargl\"}], \"scatterternary\": [{\"marker\": {\"colorbar\": {\"outlinewidth\": 0, \"ticks\": \"\"}}, \"type\": \"scatterternary\"}], \"surface\": [{\"colorbar\": {\"outlinewidth\": 0, \"ticks\": \"\"}, \"colorscale\": [[0.0, \"#0d0887\"], [0.1111111111111111, \"#46039f\"], [0.2222222222222222, \"#7201a8\"], [0.3333333333333333, \"#9c179e\"], [0.4444444444444444, \"#bd3786\"], [0.5555555555555556, \"#d8576b\"], [0.6666666666666666, \"#ed7953\"], [0.7777777777777778, \"#fb9f3a\"], [0.8888888888888888, \"#fdca26\"], [1.0, \"#f0f921\"]], \"type\": \"surface\"}], \"table\": [{\"cells\": {\"fill\": {\"color\": \"#EBF0F8\"}, \"line\": {\"color\": \"white\"}}, \"header\": {\"fill\": {\"color\": \"#C8D4E3\"}, \"line\": {\"color\": \"white\"}}, \"type\": \"table\"}]}, \"layout\": {\"annotationdefaults\": {\"arrowcolor\": \"#2a3f5f\", \"arrowhead\": 0, \"arrowwidth\": 1}, \"coloraxis\": {\"colorbar\": {\"outlinewidth\": 0, \"ticks\": \"\"}}, \"colorscale\": {\"diverging\": [[0, \"#8e0152\"], [0.1, \"#c51b7d\"], [0.2, \"#de77ae\"], [0.3, \"#f1b6da\"], [0.4, \"#fde0ef\"], [0.5, \"#f7f7f7\"], [0.6, \"#e6f5d0\"], [0.7, \"#b8e186\"], [0.8, \"#7fbc41\"], [0.9, \"#4d9221\"], [1, \"#276419\"]], \"sequential\": [[0.0, \"#0d0887\"], [0.1111111111111111, \"#46039f\"], [0.2222222222222222, \"#7201a8\"], [0.3333333333333333, \"#9c179e\"], [0.4444444444444444, \"#bd3786\"], [0.5555555555555556, \"#d8576b\"], [0.6666666666666666, \"#ed7953\"], [0.7777777777777778, \"#fb9f3a\"], [0.8888888888888888, \"#fdca26\"], [1.0, \"#f0f921\"]], \"sequentialminus\": [[0.0, \"#0d0887\"], [0.1111111111111111, \"#46039f\"], [0.2222222222222222, \"#7201a8\"], [0.3333333333333333, \"#9c179e\"], [0.4444444444444444, \"#bd3786\"], [0.5555555555555556, \"#d8576b\"], [0.6666666666666666, \"#ed7953\"], [0.7777777777777778, \"#fb9f3a\"], [0.8888888888888888, \"#fdca26\"], [1.0, \"#f0f921\"]]}, \"colorway\": [\"#636efa\", \"#EF553B\", \"#00cc96\", \"#ab63fa\", \"#FFA15A\", \"#19d3f3\", \"#FF6692\", \"#B6E880\", \"#FF97FF\", \"#FECB52\"], \"font\": {\"color\": \"#2a3f5f\"}, \"geo\": {\"bgcolor\": \"white\", \"lakecolor\": \"white\", \"landcolor\": \"#E5ECF6\", \"showlakes\": true, \"showland\": true, \"subunitcolor\": \"white\"}, \"hoverlabel\": {\"align\": \"left\"}, \"hovermode\": \"closest\", \"mapbox\": {\"style\": \"light\"}, \"paper_bgcolor\": \"white\", \"plot_bgcolor\": \"#E5ECF6\", \"polar\": {\"angularaxis\": {\"gridcolor\": \"white\", \"linecolor\": \"white\", \"ticks\": \"\"}, \"bgcolor\": \"#E5ECF6\", \"radialaxis\": {\"gridcolor\": \"white\", \"linecolor\": \"white\", \"ticks\": \"\"}}, \"scene\": {\"xaxis\": {\"backgroundcolor\": \"#E5ECF6\", \"gridcolor\": \"white\", \"gridwidth\": 2, \"linecolor\": \"white\", \"showbackground\": true, \"ticks\": \"\", \"zerolinecolor\": \"white\"}, \"yaxis\": {\"backgroundcolor\": \"#E5ECF6\", \"gridcolor\": \"white\", \"gridwidth\": 2, \"linecolor\": \"white\", \"showbackground\": true, \"ticks\": \"\", \"zerolinecolor\": \"white\"}, \"zaxis\": {\"backgroundcolor\": \"#E5ECF6\", \"gridcolor\": \"white\", \"gridwidth\": 2, \"linecolor\": \"white\", \"showbackground\": true, \"ticks\": \"\", \"zerolinecolor\": \"white\"}}, \"shapedefaults\": {\"line\": {\"color\": \"#2a3f5f\"}}, \"ternary\": {\"aaxis\": {\"gridcolor\": \"white\", \"linecolor\": \"white\", \"ticks\": \"\"}, \"baxis\": {\"gridcolor\": \"white\", \"linecolor\": \"white\", \"ticks\": \"\"}, \"bgcolor\": \"#E5ECF6\", \"caxis\": {\"gridcolor\": \"white\", \"linecolor\": \"white\", \"ticks\": \"\"}}, \"title\": {\"x\": 0.05}, \"xaxis\": {\"automargin\": true, \"gridcolor\": \"white\", \"linecolor\": \"white\", \"ticks\": \"\", \"title\": {\"standoff\": 15}, \"zerolinecolor\": \"white\", \"zerolinewidth\": 2}, \"yaxis\": {\"automargin\": true, \"gridcolor\": \"white\", \"linecolor\": \"white\", \"ticks\": \"\", \"title\": {\"standoff\": 15}, \"zerolinecolor\": \"white\", \"zerolinewidth\": 2}}}, \"width\": 1200, \"xaxis\": {\"anchor\": \"y\", \"domain\": [0.0, 1.0], \"title\": {\"text\": \"Years\"}}, \"yaxis\": {\"anchor\": \"x\", \"domain\": [0.0, 1.0], \"title\": {\"text\": \"Number of movies released per year\"}}},\n",
              "                        {\"responsive\": true}\n",
              "                    ).then(function(){\n",
              "                            \n",
              "var gd = document.getElementById('62845d4d-3079-4de2-b447-23da61be9f49');\n",
              "var x = new MutationObserver(function (mutations, observer) {{\n",
              "        var display = window.getComputedStyle(gd).display;\n",
              "        if (!display || display === 'none') {{\n",
              "            console.log([gd, 'removed!']);\n",
              "            Plotly.purge(gd);\n",
              "            observer.disconnect();\n",
              "        }}\n",
              "}});\n",
              "\n",
              "// Listen for the removal of the full notebook cells\n",
              "var notebookContainer = gd.closest('#notebook-container');\n",
              "if (notebookContainer) {{\n",
              "    x.observe(notebookContainer, {childList: true});\n",
              "}}\n",
              "\n",
              "// Listen for the clearing of the current output cell\n",
              "var outputEl = gd.closest('.output');\n",
              "if (outputEl) {{\n",
              "    x.observe(outputEl, {childList: true});\n",
              "}}\n",
              "\n",
              "                        })\n",
              "                };\n",
              "                \n",
              "            </script>\n",
              "        </div>\n",
              "</body>\n",
              "</html>"
            ]
          },
          "metadata": {
            "tags": []
          }
        }
      ]
    },
    {
      "cell_type": "code",
      "metadata": {
        "colab": {
          "base_uri": "https://localhost:8080/"
        },
        "id": "3KWNWsg5lVhK",
        "outputId": "9de9b08c-6ef4-4333-8007-190a1a178226"
      },
      "source": [
        "yearwise_release_df['movies_per_year'].sum()"
      ],
      "execution_count": 32,
      "outputs": [
        {
          "output_type": "execute_result",
          "data": {
            "text/plain": [
              "7777"
            ]
          },
          "metadata": {
            "tags": []
          },
          "execution_count": 32
        }
      ]
    },
    {
      "cell_type": "code",
      "metadata": {
        "id": "CISOCs56mIwz"
      },
      "source": [
        ""
      ],
      "execution_count": null,
      "outputs": []
    }
  ]
}